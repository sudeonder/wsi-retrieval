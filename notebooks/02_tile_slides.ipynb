{
 "cells": [
  {
   "cell_type": "code",
   "execution_count": null,
   "id": "0023d9be",
   "metadata": {
    "vscode": {
     "languageId": "plaintext"
    }
   },
   "outputs": [],
   "source": [
    "\n",
    "!git clone git@github.com:sudeonder/wsi-retrieval.git\n",
    "%cd wsi-retrieval\n",
    "\n",
    "import sys\n",
    "sys.path.append(\"utils\")\n"
   ]
  }
 ],
 "metadata": {
  "language_info": {
   "name": "python"
  }
 },
 "nbformat": 4,
 "nbformat_minor": 5
}
