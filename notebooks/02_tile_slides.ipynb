{
  "cells": [
    {
      "cell_type": "code",
      "execution_count": 1,
      "id": "0023d9be",
      "metadata": {
        "vscode": {
          "languageId": "plaintext"
        },
        "collapsed": true,
        "id": "0023d9be",
        "outputId": "40fddf75-8c29-4a37-c11a-27b97fc965d1",
        "colab": {
          "base_uri": "https://localhost:8080/"
        }
      },
      "outputs": [
        {
          "output_type": "stream",
          "name": "stdout",
          "text": [
            "Cloning into 'wsi-retrieval'...\n",
            "remote: Enumerating objects: 110, done.\u001b[K\n",
            "remote: Counting objects: 100% (110/110), done.\u001b[K\n",
            "remote: Compressing objects: 100% (81/81), done.\u001b[K\n",
            "remote: Total 110 (delta 46), reused 59 (delta 16), pack-reused 0 (from 0)\u001b[K\n",
            "Receiving objects: 100% (110/110), 550.35 KiB | 4.37 MiB/s, done.\n",
            "Resolving deltas: 100% (46/46), done.\n",
            "/content/wsi-retrieval\n"
          ]
        }
      ],
      "source": [
        "\n",
        "!git clone https://github.com/sudeonder/wsi-retrieval.git\n",
        "%cd wsi-retrieval\n",
        "\n",
        "import sys\n",
        "sys.path.append(\"wsi-retrieval\")\n"
      ]
    },
    {
      "cell_type": "code",
      "source": [
        "# Install required build tools and compile crcmod from source\n",
        "!apt-get install -y python3-dev\n",
        "!pip install --no-binary :all: crcmod"
      ],
      "metadata": {
        "collapsed": true,
        "id": "YRBpVqKSJPj3",
        "outputId": "1213d069-1420-4365-f695-8a66b16de91c",
        "colab": {
          "base_uri": "https://localhost:8080/"
        }
      },
      "id": "YRBpVqKSJPj3",
      "execution_count": 2,
      "outputs": [
        {
          "output_type": "stream",
          "name": "stdout",
          "text": [
            "Reading package lists... Done\n",
            "Building dependency tree... Done\n",
            "Reading state information... Done\n",
            "python3-dev is already the newest version (3.10.6-1~22.04.1).\n",
            "python3-dev set to manually installed.\n",
            "0 upgraded, 0 newly installed, 0 to remove and 34 not upgraded.\n",
            "Collecting crcmod\n",
            "  Downloading crcmod-1.7.tar.gz (89 kB)\n",
            "\u001b[2K     \u001b[90m━━━━━━━━━━━━━━━━━━━━━━━━━━━━━━━━━━━━━━━━\u001b[0m \u001b[32m89.7/89.7 kB\u001b[0m \u001b[31m2.7 MB/s\u001b[0m eta \u001b[36m0:00:00\u001b[0m\n",
            "\u001b[?25h  Preparing metadata (setup.py) ... \u001b[?25l\u001b[?25hdone\n",
            "Building wheels for collected packages: crcmod\n",
            "  Building wheel for crcmod (setup.py) ... \u001b[?25l\u001b[?25hdone\n",
            "  Created wheel for crcmod: filename=crcmod-1.7-cp311-cp311-linux_x86_64.whl size=31656 sha256=30ebe30953d7fca4ac14a345b5737794d64b37c08ad6803763385332ebc3f16b\n",
            "  Stored in directory: /root/.cache/pip/wheels/23/94/7a/8cb7d14597e6395ce969933f01aed9ea8fa5f5b4d4c8a61e99\n",
            "Successfully built crcmod\n",
            "Installing collected packages: crcmod\n",
            "Successfully installed crcmod-1.7\n"
          ]
        }
      ]
    },
    {
      "cell_type": "code",
      "source": [
        "# Install necessary packages\n",
        "!apt-get install -y openslide-tools\n",
        "!pip install openslide-python numpy pillow tqdm\n"
      ],
      "metadata": {
        "collapsed": true,
        "id": "wED1L2ty98I2",
        "outputId": "41451e9a-9a0c-4ca3-9a3d-c89266ffde5c",
        "colab": {
          "base_uri": "https://localhost:8080/"
        }
      },
      "id": "wED1L2ty98I2",
      "execution_count": 3,
      "outputs": [
        {
          "output_type": "stream",
          "name": "stdout",
          "text": [
            "Reading package lists... Done\n",
            "Building dependency tree... Done\n",
            "Reading state information... Done\n",
            "The following additional packages will be installed:\n",
            "  libopenslide0\n",
            "Suggested packages:\n",
            "  libtiff-tools\n",
            "The following NEW packages will be installed:\n",
            "  libopenslide0 openslide-tools\n",
            "0 upgraded, 2 newly installed, 0 to remove and 34 not upgraded.\n",
            "Need to get 104 kB of archives.\n",
            "After this operation, 297 kB of additional disk space will be used.\n",
            "Get:1 http://archive.ubuntu.com/ubuntu jammy/universe amd64 libopenslide0 amd64 3.4.1+dfsg-5build1 [89.8 kB]\n",
            "Get:2 http://archive.ubuntu.com/ubuntu jammy/universe amd64 openslide-tools amd64 3.4.1+dfsg-5build1 [13.8 kB]\n",
            "Fetched 104 kB in 1s (146 kB/s)\n",
            "Selecting previously unselected package libopenslide0.\n",
            "(Reading database ... 126102 files and directories currently installed.)\n",
            "Preparing to unpack .../libopenslide0_3.4.1+dfsg-5build1_amd64.deb ...\n",
            "Unpacking libopenslide0 (3.4.1+dfsg-5build1) ...\n",
            "Selecting previously unselected package openslide-tools.\n",
            "Preparing to unpack .../openslide-tools_3.4.1+dfsg-5build1_amd64.deb ...\n",
            "Unpacking openslide-tools (3.4.1+dfsg-5build1) ...\n",
            "Setting up libopenslide0 (3.4.1+dfsg-5build1) ...\n",
            "Setting up openslide-tools (3.4.1+dfsg-5build1) ...\n",
            "Processing triggers for man-db (2.10.2-1) ...\n",
            "Processing triggers for libc-bin (2.35-0ubuntu3.8) ...\n",
            "/sbin/ldconfig.real: /usr/local/lib/libtbbmalloc.so.2 is not a symbolic link\n",
            "\n",
            "/sbin/ldconfig.real: /usr/local/lib/libtbbbind_2_5.so.3 is not a symbolic link\n",
            "\n",
            "/sbin/ldconfig.real: /usr/local/lib/libtbb.so.12 is not a symbolic link\n",
            "\n",
            "/sbin/ldconfig.real: /usr/local/lib/libumf.so.0 is not a symbolic link\n",
            "\n",
            "/sbin/ldconfig.real: /usr/local/lib/libur_loader.so.0 is not a symbolic link\n",
            "\n",
            "/sbin/ldconfig.real: /usr/local/lib/libhwloc.so.15 is not a symbolic link\n",
            "\n",
            "/sbin/ldconfig.real: /usr/local/lib/libtcm_debug.so.1 is not a symbolic link\n",
            "\n",
            "/sbin/ldconfig.real: /usr/local/lib/libtbbbind.so.3 is not a symbolic link\n",
            "\n",
            "/sbin/ldconfig.real: /usr/local/lib/libur_adapter_opencl.so.0 is not a symbolic link\n",
            "\n",
            "/sbin/ldconfig.real: /usr/local/lib/libtbbbind_2_0.so.3 is not a symbolic link\n",
            "\n",
            "/sbin/ldconfig.real: /usr/local/lib/libtcm.so.1 is not a symbolic link\n",
            "\n",
            "/sbin/ldconfig.real: /usr/local/lib/libur_adapter_level_zero.so.0 is not a symbolic link\n",
            "\n",
            "/sbin/ldconfig.real: /usr/local/lib/libtbbmalloc_proxy.so.2 is not a symbolic link\n",
            "\n",
            "Collecting openslide-python\n",
            "  Downloading openslide_python-1.4.2-cp311-abi3-manylinux_2_5_x86_64.manylinux1_x86_64.whl.metadata (4.9 kB)\n",
            "Requirement already satisfied: numpy in /usr/local/lib/python3.11/dist-packages (2.0.2)\n",
            "Requirement already satisfied: pillow in /usr/local/lib/python3.11/dist-packages (11.2.1)\n",
            "Requirement already satisfied: tqdm in /usr/local/lib/python3.11/dist-packages (4.67.1)\n",
            "Downloading openslide_python-1.4.2-cp311-abi3-manylinux_2_5_x86_64.manylinux1_x86_64.whl (36 kB)\n",
            "Installing collected packages: openslide-python\n",
            "Successfully installed openslide-python-1.4.2\n"
          ]
        }
      ]
    },
    {
      "cell_type": "code",
      "source": [
        "import os\n",
        "from pathlib import Path\n",
        "from utils.tile_utils import tile_wsi_if_occupied\n"
      ],
      "metadata": {
        "id": "4vxoDoFN9nm_"
      },
      "id": "4vxoDoFN9nm_",
      "execution_count": 4,
      "outputs": []
    },
    {
      "cell_type": "code",
      "source": [
        "# 📦 Step 1: Install dependencies\n",
        "!pip install --quiet openslide-python\n",
        "!apt-get install -y -qq openslide-tools\n",
        "!pip install --upgrade google-cloud-storage\n",
        "\n",
        "# 📂 Step 2: Set up GCS access\n",
        "from google.colab import auth\n",
        "auth.authenticate_user()\n",
        "\n",
        "from google.cloud import storage\n",
        "from pathlib import Path\n",
        "import os\n",
        "\n"
      ],
      "metadata": {
        "collapsed": true,
        "id": "91pooGrb-Flp",
        "outputId": "9a255968-6f59-453d-c121-2a4e3e96626d",
        "colab": {
          "base_uri": "https://localhost:8080/"
        }
      },
      "id": "91pooGrb-Flp",
      "execution_count": 6,
      "outputs": [
        {
          "output_type": "stream",
          "name": "stdout",
          "text": [
            "Requirement already satisfied: google-cloud-storage in /usr/local/lib/python3.11/dist-packages (3.1.0)\n",
            "Requirement already satisfied: google-auth<3.0dev,>=2.26.1 in /usr/local/lib/python3.11/dist-packages (from google-cloud-storage) (2.38.0)\n",
            "Requirement already satisfied: google-api-core<3.0.0dev,>=2.15.0 in /usr/local/lib/python3.11/dist-packages (from google-cloud-storage) (2.24.2)\n",
            "Requirement already satisfied: google-cloud-core<3.0dev,>=2.4.2 in /usr/local/lib/python3.11/dist-packages (from google-cloud-storage) (2.4.3)\n",
            "Requirement already satisfied: google-resumable-media>=2.7.2 in /usr/local/lib/python3.11/dist-packages (from google-cloud-storage) (2.7.2)\n",
            "Requirement already satisfied: requests<3.0.0dev,>=2.18.0 in /usr/local/lib/python3.11/dist-packages (from google-cloud-storage) (2.32.3)\n",
            "Requirement already satisfied: google-crc32c<2.0dev,>=1.0 in /usr/local/lib/python3.11/dist-packages (from google-cloud-storage) (1.7.1)\n",
            "Requirement already satisfied: googleapis-common-protos<2.0.0,>=1.56.2 in /usr/local/lib/python3.11/dist-packages (from google-api-core<3.0.0dev,>=2.15.0->google-cloud-storage) (1.70.0)\n",
            "Requirement already satisfied: protobuf!=3.20.0,!=3.20.1,!=4.21.0,!=4.21.1,!=4.21.2,!=4.21.3,!=4.21.4,!=4.21.5,<7.0.0,>=3.19.5 in /usr/local/lib/python3.11/dist-packages (from google-api-core<3.0.0dev,>=2.15.0->google-cloud-storage) (5.29.4)\n",
            "Requirement already satisfied: proto-plus<2.0.0,>=1.22.3 in /usr/local/lib/python3.11/dist-packages (from google-api-core<3.0.0dev,>=2.15.0->google-cloud-storage) (1.26.1)\n",
            "Requirement already satisfied: cachetools<6.0,>=2.0.0 in /usr/local/lib/python3.11/dist-packages (from google-auth<3.0dev,>=2.26.1->google-cloud-storage) (5.5.2)\n",
            "Requirement already satisfied: pyasn1-modules>=0.2.1 in /usr/local/lib/python3.11/dist-packages (from google-auth<3.0dev,>=2.26.1->google-cloud-storage) (0.4.2)\n",
            "Requirement already satisfied: rsa<5,>=3.1.4 in /usr/local/lib/python3.11/dist-packages (from google-auth<3.0dev,>=2.26.1->google-cloud-storage) (4.9.1)\n",
            "Requirement already satisfied: charset-normalizer<4,>=2 in /usr/local/lib/python3.11/dist-packages (from requests<3.0.0dev,>=2.18.0->google-cloud-storage) (3.4.2)\n",
            "Requirement already satisfied: idna<4,>=2.5 in /usr/local/lib/python3.11/dist-packages (from requests<3.0.0dev,>=2.18.0->google-cloud-storage) (3.10)\n",
            "Requirement already satisfied: urllib3<3,>=1.21.1 in /usr/local/lib/python3.11/dist-packages (from requests<3.0.0dev,>=2.18.0->google-cloud-storage) (2.4.0)\n",
            "Requirement already satisfied: certifi>=2017.4.17 in /usr/local/lib/python3.11/dist-packages (from requests<3.0.0dev,>=2.18.0->google-cloud-storage) (2025.4.26)\n",
            "Requirement already satisfied: pyasn1<0.7.0,>=0.6.1 in /usr/local/lib/python3.11/dist-packages (from pyasn1-modules>=0.2.1->google-auth<3.0dev,>=2.26.1->google-cloud-storage) (0.6.1)\n"
          ]
        }
      ]
    },
    {
      "cell_type": "code",
      "source": [
        "# ✅ Step 2: Authenticate & Mount Google Cloud Storage\n",
        "from google.colab import auth\n",
        "auth.authenticate_user()\n",
        "\n",
        "# Set your bucket name here\n",
        "BUCKET_NAME = \"bracs-dataset-bucket\"\n",
        "\n",
        "# Mount Google Cloud Storage\n",
        "from google.colab import drive\n",
        "drive.mount('/content/drive')  # Optional if saving to Drive\n",
        "\n",
        "from google.colab import auth\n",
        "auth.authenticate_user()\n"
      ],
      "metadata": {
        "id": "sh59wLxb_YUW",
        "outputId": "6bc31ace-220c-46a3-a302-58e24228f248",
        "colab": {
          "base_uri": "https://localhost:8080/"
        }
      },
      "id": "sh59wLxb_YUW",
      "execution_count": 7,
      "outputs": [
        {
          "output_type": "stream",
          "name": "stdout",
          "text": [
            "Mounted at /content/drive\n"
          ]
        }
      ]
    },
    {
      "cell_type": "code",
      "source": [
        "# ✅ Step 3: Import libraries and function\n",
        "from pathlib import Path\n",
        "import os\n",
        "import subprocess\n",
        "from utils.tile_utils import tile_wsi_if_occupied  # assumes you've written the .py file\n",
        "\n",
        "# WSI paths\n",
        "splits = ['train']  # Extend to ['train', 'val', 'test'] as needed\n",
        "wsi_root_gcs = f\"gs://{BUCKET_NAME}/BRACS/BRACS_WSI\"\n",
        "local_wsi_root = Path(\"/content/wsi\")\n",
        "output_tile_root = Path(\"/content/tiles\")\n"
      ],
      "metadata": {
        "id": "bMfd3PQVAYog"
      },
      "id": "bMfd3PQVAYog",
      "execution_count": 8,
      "outputs": []
    },
    {
      "cell_type": "code",
      "source": [
        "# ✅ Step 4: Helper to list files in GCS folder using gsutil\n",
        "def list_wsi_files(split: str):\n",
        "    \"\"\"\n",
        "    Recursively list all .svs files in the split directory on GCS.\n",
        "    Assumes WSIs are stored under split/Group_*/Type_*/WSI.svs.\n",
        "    \"\"\"\n",
        "    wsi_root = f\"{wsi_root_gcs}/{split}\"\n",
        "    print(f\"🔍 Listing WSIs under: {wsi_root}/**/*.svs\")\n",
        "\n",
        "    # Recursive listing\n",
        "    find_cmd = f\"gsutil ls {wsi_root}/**.svs\"\n",
        "    result = subprocess.run(find_cmd.split(), capture_output=True, text=True)\n",
        "\n",
        "    if result.returncode != 0:\n",
        "        print(\"❌ Error while listing WSI files.\")\n",
        "        print(result.stderr)\n",
        "        return []\n",
        "\n",
        "    wsi_files = result.stdout.strip().split('\\n')\n",
        "    print(f\"✅ Found {len(wsi_files)} WSIs.\")\n",
        "    return wsi_files\n"
      ],
      "metadata": {
        "id": "lTv2asg6EEuN"
      },
      "id": "lTv2asg6EEuN",
      "execution_count": 9,
      "outputs": []
    },
    {
      "cell_type": "code",
      "source": [
        "from pathlib import Path\n",
        "import subprocess\n",
        "from utils.tile_utils import tile_wsi_if_occupied  # updated version\n",
        "import shutil\n",
        "\n",
        "def tile_wsi_split_iteratively(\n",
        "    split: str,\n",
        "    max_wsi: int = None,\n",
        "    patch_size: int = 448,\n",
        "    stride: int = 448,\n",
        "    patch_occupancy_threshold: float = 0.5,\n",
        "    level: int = 0,\n",
        "    resize_dim: int = 224,\n",
        "    use_otsu: bool = True,\n",
        "    generate_thumbnail: bool = True,\n",
        "    debug: bool = False\n",
        "):\n",
        "    print(f\"\\n🔁 Tiling WSIs for split: {split}\")\n",
        "\n",
        "    wsi_files = list_wsi_files(split)\n",
        "    if max_wsi:\n",
        "        wsi_files = wsi_files[:max_wsi]\n",
        "\n",
        "    print(f\"✅ Found {len(wsi_files)} WSIs.\\n\")\n",
        "\n",
        "    for i, wsi_gcs_path in enumerate(wsi_files, 1):\n",
        "        slide_id = Path(wsi_gcs_path).stem\n",
        "\n",
        "        print(f\"🔽 [{i}/{len(wsi_files)}] Downloading {slide_id}...\")\n",
        "\n",
        "        local_wsi_path = local_wsi_root / f\"{slide_id}.svs\"\n",
        "        output_dir = output_tile_root / split  # do not include slide_id here; it's handled inside\n",
        "\n",
        "        local_wsi_path.parent.mkdir(parents=True, exist_ok=True)\n",
        "        output_dir.mkdir(parents=True, exist_ok=True)\n",
        "\n",
        "        try:\n",
        "            subprocess.run([\"gsutil\", \"cp\", wsi_gcs_path, str(local_wsi_path)], check=True)\n",
        "\n",
        "            tile_wsi_if_occupied(\n",
        "              wsi_path=local_wsi_path,\n",
        "              output_dir=output_dir,\n",
        "              patch_size=patch_size,\n",
        "              stride=stride,\n",
        "              resize_dim=resize_dim,\n",
        "              level=level,\n",
        "              patch_occupancy_threshold=patch_occupancy_threshold,\n",
        "              min_saturation=10,  # lower for even paler regions\n",
        "              generate_thumbnail=generate_thumbnail,\n",
        "              debug=debug\n",
        "          )\n",
        "\n",
        "\n",
        "            # Upload to GCS\n",
        "            gcs_tile_path = f\"gs://{BUCKET_NAME}/Tiles/{split}/{slide_id}\"\n",
        "            subprocess.run([\"gsutil\", \"-m\", \"rsync\", \"-r\", str(output_dir / slide_id), gcs_tile_path], check=True)\n",
        "\n",
        "            # Clean up local tiles\n",
        "            shutil.rmtree(output_dir / slide_id)\n",
        "\n",
        "        except Exception as e:\n",
        "            print(f\"❌ Error processing {slide_id}: {e}\")\n",
        "\n",
        "\n",
        "        finally:\n",
        "            if local_wsi_path.exists():\n",
        "                local_wsi_path.unlink()\n",
        "                print(f\"🧹 Deleted {slide_id}.svs from local storage.\")\n"
      ],
      "metadata": {
        "id": "CBDu0uqXEHLo"
      },
      "id": "CBDu0uqXEHLo",
      "execution_count": 17,
      "outputs": []
    },
    {
      "cell_type": "code",
      "source": [
        "tile_wsi_split_iteratively(\n",
        "    split='train',\n",
        "    max_wsi=100,\n",
        "    patch_size=896,\n",
        "    stride=896,\n",
        "    patch_occupancy_threshold=0.5,\n",
        "    resize_dim=224,\n",
        "    use_otsu=True,\n",
        "    generate_thumbnail=True,\n",
        "    debug=False\n",
        ")\n"
      ],
      "metadata": {
        "id": "Z2UhZfFwEc3b",
        "outputId": "4acddb33-3bd2-419c-9027-c9ad0c862fbc",
        "colab": {
          "base_uri": "https://localhost:8080/"
        }
      },
      "id": "Z2UhZfFwEc3b",
      "execution_count": 16,
      "outputs": [
        {
          "output_type": "stream",
          "name": "stdout",
          "text": [
            "\n",
            "🔁 Tiling WSIs for split: train\n",
            "🔍 Listing WSIs under: gs://bracs-dataset-bucket/BRACS/BRACS_WSI/train/**/*.svs\n",
            "✅ Found 395 WSIs.\n",
            "✅ Found 2 WSIs.\n",
            "\n",
            "🔽 [1/2] Downloading BRACS_1003728...\n",
            "✅ Done: 2541 / 43364 patches saved for BRACS_1003728\n",
            "🧹 Deleted BRACS_1003728.svs from local storage.\n",
            "🔽 [2/2] Downloading BRACS_1379...\n",
            "✅ Done: 3239 / 38610 patches saved for BRACS_1379\n",
            "🧹 Deleted BRACS_1379.svs from local storage.\n"
          ]
        }
      ]
    },
    {
      "cell_type": "code",
      "source": [
        "!gsutil ls -r gs://bracs-dataset-bucket/BRACS/BRACS_WSI/train/**.svs"
      ],
      "metadata": {
        "id": "xg-JeduQHiiy"
      },
      "id": "xg-JeduQHiiy",
      "execution_count": null,
      "outputs": []
    }
  ],
  "metadata": {
    "language_info": {
      "name": "python"
    },
    "colab": {
      "provenance": [],
      "machine_shape": "hm",
      "gpuType": "A100"
    },
    "kernelspec": {
      "name": "python3",
      "display_name": "Python 3"
    },
    "accelerator": "GPU"
  },
  "nbformat": 4,
  "nbformat_minor": 5
}