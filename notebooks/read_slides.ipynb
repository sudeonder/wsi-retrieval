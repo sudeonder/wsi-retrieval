{
 "cells": [
  {
   "cell_type": "code",
   "execution_count": null,
   "id": "1ec58c6d",
   "metadata": {
    "vscode": {
     "languageId": "plaintext"
    }
   },
   "outputs": [],
   "source": [
    "import openslide, numpy as np\n",
    "import cv2\n",
    "from cv2 import filter2D"
   ]
  },
  {
   "cell_type": "code",
   "execution_count": null,
   "id": "d66220fc",
   "metadata": {
    "vscode": {
     "languageId": "plaintext"
    }
   },
   "outputs": [],
   "source": [
    "tcga_slide = 'TCGA-DJ-A2PS-01Z-00-DX1.9740CBCF-6650-455F-9CC2-80BEA0A1B033.svs'\n",
    "slide = openslide.open_slide('/isilon/gdc/softlinks/{0}'.format(tcga_slide))\n",
    "\n",
    "slide.get_thumbnail((300, 300))\n"
   ]
  }
 ],
 "metadata": {
  "language_info": {
   "name": "python"
  }
 },
 "nbformat": 4,
 "nbformat_minor": 5
}
