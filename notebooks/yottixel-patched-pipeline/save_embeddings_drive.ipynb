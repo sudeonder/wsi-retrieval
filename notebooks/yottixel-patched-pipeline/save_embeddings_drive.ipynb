{
 "cells": [
  {
   "cell_type": "markdown",
   "id": "b806a255",
   "metadata": {},
   "source": [
    "# migrate embeddings from cloud to drive\n"
   ]
  }
 ],
 "metadata": {
  "language_info": {
   "name": "python"
  }
 },
 "nbformat": 4,
 "nbformat_minor": 5
}
