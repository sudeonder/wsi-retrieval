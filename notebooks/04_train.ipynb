{
  "cells": [
    {
      "cell_type": "code",
      "execution_count": 2,
      "id": "76c68c80",
      "metadata": {
        "vscode": {
          "languageId": "plaintext"
        },
        "id": "76c68c80",
        "collapsed": true,
        "outputId": "d02a3e6c-e353-4153-ca8d-2239267ff3e1",
        "colab": {
          "base_uri": "https://localhost:8080/"
        }
      },
      "outputs": [
        {
          "output_type": "stream",
          "name": "stdout",
          "text": [
            "Requirement already satisfied: gcsfs in /usr/local/lib/python3.11/dist-packages (2025.3.0)\n",
            "Requirement already satisfied: aiohttp!=4.0.0a0,!=4.0.0a1 in /usr/local/lib/python3.11/dist-packages (from gcsfs) (3.12.14)\n",
            "Requirement already satisfied: decorator>4.1.2 in /usr/local/lib/python3.11/dist-packages (from gcsfs) (4.4.2)\n",
            "Requirement already satisfied: fsspec==2025.3.0 in /usr/local/lib/python3.11/dist-packages (from gcsfs) (2025.3.0)\n",
            "Requirement already satisfied: google-auth>=1.2 in /usr/local/lib/python3.11/dist-packages (from gcsfs) (2.38.0)\n",
            "Requirement already satisfied: google-auth-oauthlib in /usr/local/lib/python3.11/dist-packages (from gcsfs) (1.2.2)\n",
            "Requirement already satisfied: google-cloud-storage in /usr/local/lib/python3.11/dist-packages (from gcsfs) (2.19.0)\n",
            "Requirement already satisfied: requests in /usr/local/lib/python3.11/dist-packages (from gcsfs) (2.32.3)\n",
            "Requirement already satisfied: aiohappyeyeballs>=2.5.0 in /usr/local/lib/python3.11/dist-packages (from aiohttp!=4.0.0a0,!=4.0.0a1->gcsfs) (2.6.1)\n",
            "Requirement already satisfied: aiosignal>=1.4.0 in /usr/local/lib/python3.11/dist-packages (from aiohttp!=4.0.0a0,!=4.0.0a1->gcsfs) (1.4.0)\n",
            "Requirement already satisfied: attrs>=17.3.0 in /usr/local/lib/python3.11/dist-packages (from aiohttp!=4.0.0a0,!=4.0.0a1->gcsfs) (25.3.0)\n",
            "Requirement already satisfied: frozenlist>=1.1.1 in /usr/local/lib/python3.11/dist-packages (from aiohttp!=4.0.0a0,!=4.0.0a1->gcsfs) (1.7.0)\n",
            "Requirement already satisfied: multidict<7.0,>=4.5 in /usr/local/lib/python3.11/dist-packages (from aiohttp!=4.0.0a0,!=4.0.0a1->gcsfs) (6.6.3)\n",
            "Requirement already satisfied: propcache>=0.2.0 in /usr/local/lib/python3.11/dist-packages (from aiohttp!=4.0.0a0,!=4.0.0a1->gcsfs) (0.3.2)\n",
            "Requirement already satisfied: yarl<2.0,>=1.17.0 in /usr/local/lib/python3.11/dist-packages (from aiohttp!=4.0.0a0,!=4.0.0a1->gcsfs) (1.20.1)\n",
            "Requirement already satisfied: cachetools<6.0,>=2.0.0 in /usr/local/lib/python3.11/dist-packages (from google-auth>=1.2->gcsfs) (5.5.2)\n",
            "Requirement already satisfied: pyasn1-modules>=0.2.1 in /usr/local/lib/python3.11/dist-packages (from google-auth>=1.2->gcsfs) (0.4.2)\n",
            "Requirement already satisfied: rsa<5,>=3.1.4 in /usr/local/lib/python3.11/dist-packages (from google-auth>=1.2->gcsfs) (4.9.1)\n",
            "Requirement already satisfied: requests-oauthlib>=0.7.0 in /usr/local/lib/python3.11/dist-packages (from google-auth-oauthlib->gcsfs) (2.0.0)\n",
            "Requirement already satisfied: google-api-core<3.0.0dev,>=2.15.0 in /usr/local/lib/python3.11/dist-packages (from google-cloud-storage->gcsfs) (2.25.1)\n",
            "Requirement already satisfied: google-cloud-core<3.0dev,>=2.3.0 in /usr/local/lib/python3.11/dist-packages (from google-cloud-storage->gcsfs) (2.4.3)\n",
            "Requirement already satisfied: google-resumable-media>=2.7.2 in /usr/local/lib/python3.11/dist-packages (from google-cloud-storage->gcsfs) (2.7.2)\n",
            "Requirement already satisfied: google-crc32c<2.0dev,>=1.0 in /usr/local/lib/python3.11/dist-packages (from google-cloud-storage->gcsfs) (1.7.1)\n",
            "Requirement already satisfied: charset-normalizer<4,>=2 in /usr/local/lib/python3.11/dist-packages (from requests->gcsfs) (3.4.2)\n",
            "Requirement already satisfied: idna<4,>=2.5 in /usr/local/lib/python3.11/dist-packages (from requests->gcsfs) (3.10)\n",
            "Requirement already satisfied: urllib3<3,>=1.21.1 in /usr/local/lib/python3.11/dist-packages (from requests->gcsfs) (2.5.0)\n",
            "Requirement already satisfied: certifi>=2017.4.17 in /usr/local/lib/python3.11/dist-packages (from requests->gcsfs) (2025.7.14)\n",
            "Requirement already satisfied: typing-extensions>=4.2 in /usr/local/lib/python3.11/dist-packages (from aiosignal>=1.4.0->aiohttp!=4.0.0a0,!=4.0.0a1->gcsfs) (4.14.1)\n",
            "Requirement already satisfied: googleapis-common-protos<2.0.0,>=1.56.2 in /usr/local/lib/python3.11/dist-packages (from google-api-core<3.0.0dev,>=2.15.0->google-cloud-storage->gcsfs) (1.70.0)\n",
            "Requirement already satisfied: protobuf!=3.20.0,!=3.20.1,!=4.21.0,!=4.21.1,!=4.21.2,!=4.21.3,!=4.21.4,!=4.21.5,<7.0.0,>=3.19.5 in /usr/local/lib/python3.11/dist-packages (from google-api-core<3.0.0dev,>=2.15.0->google-cloud-storage->gcsfs) (5.29.5)\n",
            "Requirement already satisfied: proto-plus<2.0.0,>=1.22.3 in /usr/local/lib/python3.11/dist-packages (from google-api-core<3.0.0dev,>=2.15.0->google-cloud-storage->gcsfs) (1.26.1)\n",
            "Requirement already satisfied: pyasn1<0.7.0,>=0.6.1 in /usr/local/lib/python3.11/dist-packages (from pyasn1-modules>=0.2.1->google-auth>=1.2->gcsfs) (0.6.1)\n",
            "Requirement already satisfied: oauthlib>=3.0.0 in /usr/local/lib/python3.11/dist-packages (from requests-oauthlib>=0.7.0->google-auth-oauthlib->gcsfs) (3.3.1)\n"
          ]
        }
      ],
      "source": [
        "import torch\n",
        "import torch.nn as nn\n",
        "import torch.nn.functional as F\n",
        "from pathlib import Path\n",
        "import os\n",
        "import random\n",
        "from typing import List\n",
        "import matplotlib.pyplot as plt\n",
        "from google.colab import drive\n",
        "!pip install gcsfs\n"
      ]
    },
    {
      "cell_type": "code",
      "source": [
        "# Reload the data since the session has likely reset\n",
        "import pandas as pd\n",
        "import matplotlib.pyplot as plt\n",
        "import seaborn as sns\n",
        "\n",
        "# Load both sheets from the Excel file\n",
        "xls = pd.ExcelFile(\"BRACS_BRACS.xlsx\")\n",
        "df_info = pd.read_excel(xls, 'WSI_Information')\n",
        "df_roi = pd.read_excel(xls, 'WSI_with_RoI_Distribution')\n",
        "\n",
        "# Set the lesion order\n",
        "lesions = ['N', 'PB', 'UDH', 'FEA', 'ADH', 'DCIS', 'IC']\n",
        "\n",
        "# Plot 1: Distribution of global labels (in defined lesion order)\n",
        "global_label_counts = df_info['WSI label'].value_counts()\n",
        "global_label_counts = global_label_counts.reindex(lesions).fillna(0)\n",
        "\n",
        "plt.figure(figsize=(8, 4))\n",
        "sns.barplot(x=global_label_counts.index, y=global_label_counts.values, palette='viridis')\n",
        "plt.title(\"Distribution of Global WSI Labels\")\n",
        "plt.xlabel(\"Lesion Type\")\n",
        "plt.ylabel(\"Number of WSIs\")\n",
        "plt.xticks(rotation=45)\n",
        "plt.tight_layout()\n",
        "plt.show()\n",
        "\n",
        "# Plot 2: Distribution of lesion region counts (in defined lesion order)\n",
        "lesion_region_counts = {lesion: 0 for lesion in lesions}\n",
        "for _, row in df_roi.iterrows():\n",
        "    for lesion in lesions:\n",
        "        val = row.get(lesion)\n",
        "        if pd.notna(val) and val != '-' and int(val) > 0:\n",
        "            lesion_region_counts[lesion] += int(val)\n",
        "\n",
        "region_series = pd.Series(lesion_region_counts).reindex(lesions)\n",
        "\n",
        "plt.figure(figsize=(8, 4))\n",
        "sns.barplot(x=region_series.index, y=region_series.values, palette='mako')\n",
        "plt.title(\"Distribution of Lesion Regions in ROI Annotations\")\n",
        "plt.xlabel(\"Lesion Type\")\n",
        "plt.ylabel(\"Total Number of Lesion Regions\")\n",
        "plt.xticks(rotation=45)\n",
        "plt.tight_layout()\n",
        "plt.show()\n"
      ],
      "metadata": {
        "id": "CZefQpy12PGd",
        "outputId": "fa7063d2-783d-4aab-9d29-4edb93ab4f3d",
        "colab": {
          "base_uri": "https://localhost:8080/",
          "height": 996
        }
      },
      "id": "CZefQpy12PGd",
      "execution_count": 3,
      "outputs": [
        {
          "output_type": "stream",
          "name": "stderr",
          "text": [
            "/tmp/ipython-input-69809291.py:19: FutureWarning: \n",
            "\n",
            "Passing `palette` without assigning `hue` is deprecated and will be removed in v0.14.0. Assign the `x` variable to `hue` and set `legend=False` for the same effect.\n",
            "\n",
            "  sns.barplot(x=global_label_counts.index, y=global_label_counts.values, palette='viridis')\n"
          ]
        },
        {
          "output_type": "display_data",
          "data": {
            "text/plain": [
              "<Figure size 800x400 with 1 Axes>"
            ],
            "image/png": "[encoded data removed]"
          },
          "metadata": {}
        },
        {
          "output_type": "stream",
          "name": "stderr",
          "text": [
            "/tmp/ipython-input-69809291.py:38: FutureWarning: \n",
            "\n",
            "Passing `palette` without assigning `hue` is deprecated and will be removed in v0.14.0. Assign the `x` variable to `hue` and set `legend=False` for the same effect.\n",
            "\n",
            "  sns.barplot(x=region_series.index, y=region_series.values, palette='mako')\n"
          ]
        },
        {
          "output_type": "display_data",
          "data": {
            "text/plain": [
              "<Figure size 800x400 with 1 Axes>"
            ],
            "image/png": "[encoded data removed]"
          },
          "metadata": {}
        }
      ]
    },
    {
      "cell_type": "code",
      "source": [
        "# Step 1: Install the required library\n",
        "!pip install -q gcsfs\n",
        "\n",
        "# Step 2: Authenticate to access Google Cloud Storage\n",
        "from google.colab import auth\n",
        "auth.authenticate_user()\n",
        "\n",
        "# Step 3: Use gcsfs to interact with your bucket\n",
        "import gcsfs\n",
        "\n",
        "# Replace with your actual project ID if needed\n",
        "fs = gcsfs.GCSFileSystem()\n",
        "\n",
        "# Path to the training embeddings folder\n",
        "embedding_base_path = 'bracs-dataset-bucket/patch-embeddings/train'\n",
        "\n",
        "# List everything under that path\n",
        "all_entries = fs.ls(embedding_base_path)\n",
        "\n",
        "# Keep only the .pt files\n",
        "pt_files = [p for p in all_entries if p.endswith('.pt')]\n",
        "\n",
        "print(f\"Found {len(pt_files)} embedding files:\\n\")\n"
      ],
      "metadata": {
        "id": "lN4XpxbrvNMB",
        "outputId": "6250006b-f5e6-4361-f6f3-c7fadcea805b",
        "colab": {
          "base_uri": "https://localhost:8080/"
        }
      },
      "id": "lN4XpxbrvNMB",
      "execution_count": 4,
      "outputs": [
        {
          "output_type": "stream",
          "name": "stdout",
          "text": [
            "Found 94 embedding files:\n",
            "\n"
          ]
        }
      ]
    },
    {
      "cell_type": "code",
      "source": [
        "import os\n",
        "splits = ['train']\n",
        "all_slide_paths = []\n",
        "\n",
        "for split in splits:\n",
        "    split_path = f\"bracs-dataset-bucket/patch-embeddings/{split}\"\n",
        "    slide_files = fs.find(split_path)  # recursively lists files\n",
        "    for f in slide_files:\n",
        "        if f.endswith('_embeddings.pt'):\n",
        "            all_slide_paths.append((split, f))\n",
        "\n",
        "print(f\"✅ Found {len(all_slide_paths)} total WSI embeddings {split}.\")\n",
        "\n",
        "import torch\n",
        "import io\n",
        "\n",
        "wsi_patch_counts = []\n",
        "\n",
        "for split, path in all_slide_paths:\n",
        "    try:\n",
        "        with fs.open(path, 'rb') as f:\n",
        "            data = torch.load(io.BytesIO(f.read()))\n",
        "        num_patches = data.shape[0]\n",
        "        stem     = os.path.splitext(os.path.basename(path))[0]\n",
        "        wsi_id   = stem.rsplit(\"_\", 1)[0]\n",
        "\n",
        "        wsi_patch_counts.append((wsi_id, num_patches))\n",
        "    except Exception as e:\n",
        "        print(f\"❌ Error loading {path}: {e}\")"
      ],
      "metadata": {
        "colab": {
          "base_uri": "https://localhost:8080/"
        },
        "id": "nTvl-VucYOqi",
        "outputId": "9ee00657-723b-4ca0-ac49-e741bcc0e86e"
      },
      "id": "nTvl-VucYOqi",
      "execution_count": 5,
      "outputs": [
        {
          "output_type": "stream",
          "name": "stdout",
          "text": [
            "✅ Found 94 total WSI embeddings train.\n"
          ]
        }
      ]
    },
    {
      "cell_type": "code",
      "source": [
        "print(all_slide_paths)"
      ],
      "metadata": {
        "colab": {
          "base_uri": "https://localhost:8080/"
        },
        "id": "8qmOsQKj5xgT",
        "outputId": "7c013111-a4ba-4e3f-edc5-5934ca0d2a62"
      },
      "id": "8qmOsQKj5xgT",
      "execution_count": 16,
      "outputs": [
        {
          "output_type": "stream",
          "name": "stdout",
          "text": [
            "[('train', 'bracs-dataset-bucket/patch-embeddings/train/BRACS_1003658_embeddings.pt'), ('train', 'bracs-dataset-bucket/patch-embeddings/train/BRACS_1003659_embeddings.pt'), ('train', 'bracs-dataset-bucket/patch-embeddings/train/BRACS_1003669_embeddings.pt'), ('train', 'bracs-dataset-bucket/patch-embeddings/train/BRACS_1003671_embeddings.pt'), ('train', 'bracs-dataset-bucket/patch-embeddings/train/BRACS_1003672_embeddings.pt'), ('train', 'bracs-dataset-bucket/patch-embeddings/train/BRACS_1003675_embeddings.pt'), ('train', 'bracs-dataset-bucket/patch-embeddings/train/BRACS_1003686_embeddings.pt'), ('train', 'bracs-dataset-bucket/patch-embeddings/train/BRACS_1003693_embeddings.pt'), ('train', 'bracs-dataset-bucket/patch-embeddings/train/BRACS_1003700_embeddings.pt'), ('train', 'bracs-dataset-bucket/patch-embeddings/train/BRACS_1003706_embeddings.pt'), ('train', 'bracs-dataset-bucket/patch-embeddings/train/BRACS_1003710_embeddings.pt'), ('train', 'bracs-dataset-bucket/patch-embeddings/train/BRACS_1003713_embeddings.pt'), ('train', 'bracs-dataset-bucket/patch-embeddings/train/BRACS_1003714_embeddings.pt'), ('train', 'bracs-dataset-bucket/patch-embeddings/train/BRACS_1003715_embeddings.pt'), ('train', 'bracs-dataset-bucket/patch-embeddings/train/BRACS_1003716_embeddings.pt'), ('train', 'bracs-dataset-bucket/patch-embeddings/train/BRACS_1003718_embeddings.pt'), ('train', 'bracs-dataset-bucket/patch-embeddings/train/BRACS_1003724_embeddings.pt'), ('train', 'bracs-dataset-bucket/patch-embeddings/train/BRACS_1003725_embeddings.pt'), ('train', 'bracs-dataset-bucket/patch-embeddings/train/BRACS_1003730_embeddings.pt'), ('train', 'bracs-dataset-bucket/patch-embeddings/train/BRACS_1003734_embeddings.pt'), ('train', 'bracs-dataset-bucket/patch-embeddings/train/BRACS_1239_embeddings.pt'), ('train', 'bracs-dataset-bucket/patch-embeddings/train/BRACS_1240_embeddings.pt'), ('train', 'bracs-dataset-bucket/patch-embeddings/train/BRACS_1241_embeddings.pt'), ('train', 'bracs-dataset-bucket/patch-embeddings/train/BRACS_1242_embeddings.pt'), ('train', 'bracs-dataset-bucket/patch-embeddings/train/BRACS_1248_embeddings.pt'), ('train', 'bracs-dataset-bucket/patch-embeddings/train/BRACS_1249_embeddings.pt'), ('train', 'bracs-dataset-bucket/patch-embeddings/train/BRACS_1250_embeddings.pt'), ('train', 'bracs-dataset-bucket/patch-embeddings/train/BRACS_1251_embeddings.pt'), ('train', 'bracs-dataset-bucket/patch-embeddings/train/BRACS_1253_embeddings.pt'), ('train', 'bracs-dataset-bucket/patch-embeddings/train/BRACS_1257_embeddings.pt'), ('train', 'bracs-dataset-bucket/patch-embeddings/train/BRACS_1267_embeddings.pt'), ('train', 'bracs-dataset-bucket/patch-embeddings/train/BRACS_1269_embeddings.pt'), ('train', 'bracs-dataset-bucket/patch-embeddings/train/BRACS_1319_embeddings.pt'), ('train', 'bracs-dataset-bucket/patch-embeddings/train/BRACS_1378_embeddings.pt'), ('train', 'bracs-dataset-bucket/patch-embeddings/train/BRACS_1379_embeddings.pt'), ('train', 'bracs-dataset-bucket/patch-embeddings/train/BRACS_1386_embeddings.pt'), ('train', 'bracs-dataset-bucket/patch-embeddings/train/BRACS_1401_embeddings.pt'), ('train', 'bracs-dataset-bucket/patch-embeddings/train/BRACS_1403_embeddings.pt'), ('train', 'bracs-dataset-bucket/patch-embeddings/train/BRACS_1486_embeddings.pt'), ('train', 'bracs-dataset-bucket/patch-embeddings/train/BRACS_1494_embeddings.pt'), ('train', 'bracs-dataset-bucket/patch-embeddings/train/BRACS_1499_embeddings.pt'), ('train', 'bracs-dataset-bucket/patch-embeddings/train/BRACS_1506_embeddings.pt'), ('train', 'bracs-dataset-bucket/patch-embeddings/train/BRACS_1507_embeddings.pt'), ('train', 'bracs-dataset-bucket/patch-embeddings/train/BRACS_1510_embeddings.pt'), ('train', 'bracs-dataset-bucket/patch-embeddings/train/BRACS_1513_embeddings.pt'), ('train', 'bracs-dataset-bucket/patch-embeddings/train/BRACS_1616_embeddings.pt'), ('train', 'bracs-dataset-bucket/patch-embeddings/train/BRACS_1622_embeddings.pt'), ('train', 'bracs-dataset-bucket/patch-embeddings/train/BRACS_1641_embeddings.pt'), ('train', 'bracs-dataset-bucket/patch-embeddings/train/BRACS_1645_embeddings.pt'), ('train', 'bracs-dataset-bucket/patch-embeddings/train/BRACS_1658_embeddings.pt'), ('train', 'bracs-dataset-bucket/patch-embeddings/train/BRACS_1773_embeddings.pt'), ('train', 'bracs-dataset-bucket/patch-embeddings/train/BRACS_1774_embeddings.pt'), ('train', 'bracs-dataset-bucket/patch-embeddings/train/BRACS_1775_embeddings.pt'), ('train', 'bracs-dataset-bucket/patch-embeddings/train/BRACS_1777_embeddings.pt'), ('train', 'bracs-dataset-bucket/patch-embeddings/train/BRACS_1778_embeddings.pt'), ('train', 'bracs-dataset-bucket/patch-embeddings/train/BRACS_1788_embeddings.pt'), ('train', 'bracs-dataset-bucket/patch-embeddings/train/BRACS_1794_embeddings.pt'), ('train', 'bracs-dataset-bucket/patch-embeddings/train/BRACS_1795_embeddings.pt'), ('train', 'bracs-dataset-bucket/patch-embeddings/train/BRACS_1808_embeddings.pt'), ('train', 'bracs-dataset-bucket/patch-embeddings/train/BRACS_1815_embeddings.pt'), ('train', 'bracs-dataset-bucket/patch-embeddings/train/BRACS_1838_embeddings.pt'), ('train', 'bracs-dataset-bucket/patch-embeddings/train/BRACS_1857_embeddings.pt'), ('train', 'bracs-dataset-bucket/patch-embeddings/train/BRACS_1858_embeddings.pt'), ('train', 'bracs-dataset-bucket/patch-embeddings/train/BRACS_1860_embeddings.pt'), ('train', 'bracs-dataset-bucket/patch-embeddings/train/BRACS_1861_embeddings.pt'), ('train', 'bracs-dataset-bucket/patch-embeddings/train/BRACS_1863_embeddings.pt'), ('train', 'bracs-dataset-bucket/patch-embeddings/train/BRACS_1865_embeddings.pt'), ('train', 'bracs-dataset-bucket/patch-embeddings/train/BRACS_1871_embeddings.pt'), ('train', 'bracs-dataset-bucket/patch-embeddings/train/BRACS_1877_embeddings.pt'), ('train', 'bracs-dataset-bucket/patch-embeddings/train/BRACS_1882_embeddings.pt'), ('train', 'bracs-dataset-bucket/patch-embeddings/train/BRACS_1899_embeddings.pt'), ('train', 'bracs-dataset-bucket/patch-embeddings/train/BRACS_1911_embeddings.pt'), ('train', 'bracs-dataset-bucket/patch-embeddings/train/BRACS_1912_embeddings.pt'), ('train', 'bracs-dataset-bucket/patch-embeddings/train/BRACS_1913_embeddings.pt'), ('train', 'bracs-dataset-bucket/patch-embeddings/train/BRACS_1915_embeddings.pt'), ('train', 'bracs-dataset-bucket/patch-embeddings/train/BRACS_1916_embeddings.pt'), ('train', 'bracs-dataset-bucket/patch-embeddings/train/BRACS_1922_embeddings.pt'), ('train', 'bracs-dataset-bucket/patch-embeddings/train/BRACS_1925_embeddings.pt'), ('train', 'bracs-dataset-bucket/patch-embeddings/train/BRACS_1926_embeddings.pt'), ('train', 'bracs-dataset-bucket/patch-embeddings/train/BRACS_1932_embeddings.pt'), ('train', 'bracs-dataset-bucket/patch-embeddings/train/BRACS_1933_embeddings.pt'), ('train', 'bracs-dataset-bucket/patch-embeddings/train/BRACS_1934_embeddings.pt'), ('train', 'bracs-dataset-bucket/patch-embeddings/train/BRACS_1968_embeddings.pt'), ('train', 'bracs-dataset-bucket/patch-embeddings/train/BRACS_1969_embeddings.pt'), ('train', 'bracs-dataset-bucket/patch-embeddings/train/BRACS_1971_embeddings.pt'), ('train', 'bracs-dataset-bucket/patch-embeddings/train/BRACS_1973_embeddings.pt'), ('train', 'bracs-dataset-bucket/patch-embeddings/train/BRACS_1987_embeddings.pt'), ('train', 'bracs-dataset-bucket/patch-embeddings/train/BRACS_1998_embeddings.pt'), ('train', 'bracs-dataset-bucket/patch-embeddings/train/BRACS_3275_embeddings.pt'), ('train', 'bracs-dataset-bucket/patch-embeddings/train/BRACS_3277_embeddings.pt'), ('train', 'bracs-dataset-bucket/patch-embeddings/train/BRACS_3282_embeddings.pt'), ('train', 'bracs-dataset-bucket/patch-embeddings/train/BRACS_3292_embeddings.pt'), ('train', 'bracs-dataset-bucket/patch-embeddings/train/BRACS_3318_embeddings.pt'), ('train', 'bracs-dataset-bucket/patch-embeddings/train/BRACS_743_embeddings.pt')]\n"
          ]
        }
      ]
    },
    {
      "cell_type": "code",
      "source": [
        "# Create DataFrame\n",
        "df = pd.DataFrame(wsi_patch_counts, columns=['WSI', 'Num_Patches'])\n",
        "\n",
        "# Sort by patch count\n",
        "df_sorted = df.sort_values(by='Num_Patches', ascending=True)\n",
        "\n",
        "# Print all\n",
        "print(\"🔢 WSI Patch Counts (sorted by size):\\n\")\n",
        "for i, row in df_sorted.iterrows():\n",
        "    print(f\"{row['WSI']}: {row['Num_Patches']} patches\")"
      ],
      "metadata": {
        "id": "7v41S1hYs_Qx",
        "outputId": "004dfd0b-d990-4cde-d7a1-428f4eee3b18",
        "colab": {
          "base_uri": "https://localhost:8080/"
        },
        "collapsed": true
      },
      "id": "7v41S1hYs_Qx",
      "execution_count": 7,
      "outputs": [
        {
          "output_type": "stream",
          "name": "stdout",
          "text": [
            "🔢 WSI Patch Counts (sorted by size):\n",
            "\n",
            "BRACS_1003675: 9 patches\n",
            "BRACS_1003718: 9 patches\n",
            "BRACS_1003714: 9 patches\n",
            "BRACS_1003713: 9 patches\n",
            "BRACS_1616: 9 patches\n",
            "BRACS_1403: 9 patches\n",
            "BRACS_1401: 9 patches\n",
            "BRACS_1379: 9 patches\n",
            "BRACS_1378: 10 patches\n",
            "BRACS_1003669: 12 patches\n",
            "BRACS_1645: 19 patches\n",
            "BRACS_1513: 41 patches\n",
            "BRACS_1003715: 43 patches\n",
            "BRACS_1499: 57 patches\n",
            "BRACS_3292: 59 patches\n",
            "BRACS_1003734: 61 patches\n",
            "BRACS_1641: 73 patches\n",
            "BRACS_3282: 122 patches\n",
            "BRACS_3277: 123 patches\n",
            "BRACS_1003706: 140 patches\n",
            "BRACS_1003725: 146 patches\n",
            "BRACS_1003716: 190 patches\n",
            "BRACS_1882: 205 patches\n",
            "BRACS_1248: 206 patches\n",
            "BRACS_1249: 216 patches\n",
            "BRACS_1622: 244 patches\n",
            "BRACS_1658: 252 patches\n",
            "BRACS_1911: 255 patches\n",
            "BRACS_1774: 262 patches\n",
            "BRACS_1510: 290 patches\n",
            "BRACS_3318: 310 patches\n",
            "BRACS_1932: 315 patches\n",
            "BRACS_1778: 318 patches\n",
            "BRACS_1003671: 322 patches\n",
            "BRACS_1788: 333 patches\n",
            "BRACS_1507: 341 patches\n",
            "BRACS_1916: 344 patches\n",
            "BRACS_1003659: 360 patches\n",
            "BRACS_1267: 362 patches\n",
            "BRACS_1912: 363 patches\n",
            "BRACS_1857: 371 patches\n",
            "BRACS_1506: 377 patches\n",
            "BRACS_1494: 377 patches\n",
            "BRACS_1973: 394 patches\n",
            "BRACS_1003700: 406 patches\n",
            "BRACS_1877: 427 patches\n",
            "BRACS_1925: 429 patches\n",
            "BRACS_1486: 430 patches\n",
            "BRACS_1968: 435 patches\n",
            "BRACS_1871: 461 patches\n",
            "BRACS_3275: 482 patches\n",
            "BRACS_1971: 485 patches\n",
            "BRACS_1269: 486 patches\n",
            "BRACS_1926: 494 patches\n",
            "BRACS_1003730: 495 patches\n",
            "BRACS_1934: 497 patches\n",
            "BRACS_1003672: 501 patches\n",
            "BRACS_1969: 532 patches\n",
            "BRACS_1775: 541 patches\n",
            "BRACS_1860: 575 patches\n",
            "BRACS_1899: 585 patches\n",
            "BRACS_1003658: 588 patches\n",
            "BRACS_1250: 590 patches\n",
            "BRACS_1795: 601 patches\n",
            "BRACS_1808: 612 patches\n",
            "BRACS_1922: 619 patches\n",
            "BRACS_1933: 649 patches\n",
            "BRACS_1253: 654 patches\n",
            "BRACS_1987: 658 patches\n",
            "BRACS_1815: 664 patches\n",
            "BRACS_1773: 691 patches\n",
            "BRACS_1915: 694 patches\n",
            "BRACS_1319: 698 patches\n",
            "BRACS_1794: 705 patches\n",
            "BRACS_1003693: 711 patches\n",
            "BRACS_1838: 714 patches\n",
            "BRACS_1861: 765 patches\n",
            "BRACS_1863: 775 patches\n",
            "BRACS_1913: 794 patches\n",
            "BRACS_1386: 826 patches\n",
            "BRACS_1003686: 836 patches\n",
            "BRACS_1865: 845 patches\n",
            "BRACS_1998: 850 patches\n",
            "BRACS_1251: 887 patches\n",
            "BRACS_1777: 927 patches\n",
            "BRACS_1003710: 933 patches\n",
            "BRACS_1003724: 946 patches\n",
            "BRACS_1242: 1028 patches\n",
            "BRACS_1239: 1124 patches\n",
            "BRACS_1240: 1147 patches\n",
            "BRACS_1858: 1164 patches\n",
            "BRACS_1241: 1171 patches\n",
            "BRACS_1257: 1240 patches\n",
            "BRACS_743: 1302 patches\n"
          ]
        }
      ]
    },
    {
      "cell_type": "code",
      "source": [
        "import torch\n",
        "import matplotlib.pyplot as plt\n",
        "import seaborn as sns\n",
        "import pandas as pd\n",
        "\n",
        "# Label severity: from least to most severe\n",
        "labels = ['N', 'PB', 'UDH', 'FEA', 'ADH', 'DCIS', 'IC']\n",
        "severity = torch.tensor([0.01, 0.1, 0.2, 0.3, 0.5, 0.7, 1.0])\n",
        "n = len(severity)\n",
        "\n",
        "# Parameters\n",
        "epsilon = 0.5   # ensures N–N > anything–N\n",
        "gamma = 2.0      # grows self-similarity faster with severity\n",
        "delta = 0.8      # scale for off-diagonal similarities\n",
        "alpha = 5.0      # decay rate for off-diagonal distances\n",
        "\n",
        "# Initialize similarity matrix\n",
        "M_shier = torch.zeros((n, n))\n",
        "\n",
        "for i in range(n):\n",
        "    for j in range(n):\n",
        "        s_i = severity[i]\n",
        "        s_j = severity[j]\n",
        "        if i == j:\n",
        "            M_shier[i, j] = epsilon + s_i**gamma\n",
        "        else:\n",
        "            M_shier[i, j] = delta * torch.sqrt(s_i * s_j) * torch.exp(-alpha * torch.abs(s_i - s_j))\n",
        "\n",
        "# Pretty print matrix\n",
        "df = pd.DataFrame(M_shier.numpy(), index=labels, columns=labels)\n",
        "print(\"Final Severity-Aware Similarity Matrix (Shier):\")\n",
        "print(df.round(3))\n",
        "\n",
        "# Plot\n",
        "plt.figure(figsize=(7, 6))\n",
        "sns.heatmap(df, annot=True, fmt=\".3f\", cmap=\"YlOrBr\")\n",
        "plt.title(\"Final Shier Matrix: Strong Diagonal, Severity-Weighted, Symmetric\")\n",
        "plt.tight_layout()\n",
        "plt.show()\n"
      ],
      "metadata": {
        "id": "LKNH6KLEiSVf",
        "outputId": "929fd4d5-b5f9-490a-c229-d4b22242b53c",
        "colab": {
          "base_uri": "https://localhost:8080/",
          "height": 768
        }
      },
      "id": "LKNH6KLEiSVf",
      "execution_count": 8,
      "outputs": [
        {
          "output_type": "stream",
          "name": "stdout",
          "text": [
            "Final Severity-Aware Similarity Matrix (Shier):\n",
            "          N     PB    UDH    FEA    ADH   DCIS     IC\n",
            "N     0.500  0.016  0.014  0.010  0.005  0.002  0.001\n",
            "PB    0.016  0.510  0.069  0.051  0.024  0.011  0.003\n",
            "UDH   0.014  0.069  0.540  0.119  0.056  0.025  0.007\n",
            "FEA   0.010  0.051  0.119  0.590  0.114  0.050  0.013\n",
            "ADH   0.005  0.024  0.056  0.114  0.750  0.174  0.046\n",
            "DCIS  0.002  0.011  0.025  0.050  0.174  0.990  0.149\n",
            "IC    0.001  0.003  0.007  0.013  0.046  0.149  1.500\n"
          ]
        },
        {
          "output_type": "display_data",
          "data": {
            "text/plain": [
              "<Figure size 700x600 with 2 Axes>"
            ],
            "image/png": "[encoded data removed]"
          },
          "metadata": {}
        }
      ]
    },
    {
      "cell_type": "code",
      "source": [
        "import torch\n",
        "import torch.nn as nn\n",
        "import torch.nn.functional as F\n",
        "\n",
        "def masked_mean(feats: torch.Tensor, mask: torch.Tensor, eps: float = 1e-6) -> torch.Tensor:\n",
        "    \"\"\"\n",
        "    feats: [B, P, H]\n",
        "    mask:  [B, P]   (1 for valid patches, 0 for padding)\n",
        "    returns: [B, H] mean over P, ignoring masked-out entries\n",
        "    \"\"\"\n",
        "    # ensure float mask\n",
        "    mask = mask.to(feats.dtype).unsqueeze(-1)        # [B, P, 1]\n",
        "    summed = (feats * mask).sum(dim=1)               # [B, H]\n",
        "    counts = mask.sum(dim=1).clamp(min=eps)          # [B, 1]\n",
        "    return summed / counts\n",
        "\n",
        "class SeparableLITEScorer(nn.Module):\n",
        "    def __init__(self, max_query_patches=256, max_doc_patches=256, hidden_dim=128):\n",
        "        super().__init__()\n",
        "        self.max_query_patches = max_query_patches\n",
        "        self.max_doc_patches = max_doc_patches\n",
        "\n",
        "        # Row-wise MLP over doc dimension\n",
        "        self.row_mlp = nn.Sequential(\n",
        "            nn.LayerNorm(max_doc_patches),\n",
        "            nn.Linear(max_doc_patches, hidden_dim),\n",
        "            nn.ReLU(),\n",
        "            nn.Linear(hidden_dim, max_doc_patches)\n",
        "        )\n",
        "\n",
        "        # Column-wise MLP over query dimension\n",
        "        self.col_mlp = nn.Sequential(\n",
        "            nn.LayerNorm(max_query_patches),\n",
        "            nn.Linear(max_query_patches, hidden_dim),\n",
        "            nn.ReLU(),\n",
        "            nn.Linear(hidden_dim, max_query_patches)\n",
        "        )\n",
        "\n",
        "        # Final projection to scalar\n",
        "        self.final_proj = nn.Linear(max_query_patches * max_doc_patches, 1)\n",
        "\n",
        "    def forward(self, S: torch.Tensor, q_mask: torch.Tensor, d_mask: torch.Tensor):\n",
        "        # S: [B, m, n]\n",
        "        B, m, n = S.shape\n",
        "\n",
        "        # 1) Row-wise MLP\n",
        "        # reshape to [B*m, n] so each of the B*m rows is one input\n",
        "        S_rows = S.reshape(B * m, n)                          # [B*m, n]\n",
        "        out_rows = self.row_mlp(S_rows)                       # [B*m, hidden]\n",
        "        out_rows = out_rows.view(B, m, -1)                    # [B, m, hidden]\n",
        "\n",
        "        # 2) Column-wise MLP\n",
        "        # first transpose to get [B, n, m], then flatten to [B*n, m]\n",
        "        S_cols = S.transpose(1, 2).reshape(B * n, m)          # [B*n, m]\n",
        "        out_cols = self.col_mlp(S_cols)                       # [B*n, hidden]\n",
        "        out_cols = out_cols.view(B, n, -1)                    # [B, n, hidden]\n",
        "\n",
        "        # 3) Masked pooling (example: mean over valid patches)\n",
        "        # apply q_mask and d_mask to each feature map, then pool over patch dim\n",
        "        # you’ll get two vectors of shape [B, hidden]\n",
        "        q_feats = masked_mean(out_rows, q_mask)               # [B, hidden]\n",
        "        d_feats = masked_mean(out_cols, d_mask)               # [B, hidden]\n",
        "\n",
        "        # 4) Final dot or small MLP to get a scalar per batch element\n",
        "        # e.g., elementwise dot:\n",
        "        sim = (q_feats * d_feats).sum(dim=-1)                  # [B]\n",
        "\n",
        "        return sim                             # scalar\n",
        "\n",
        "\n",
        "def mse_similarity_loss(predicted_score, shier_score):\n",
        "    \"\"\"\n",
        "    Mean Squared Error loss between model score and severity-based similarity.\n",
        "    \"\"\"\n",
        "    target = torch.tensor(shier_score, dtype=torch.float32, device=predicted_score.device)\n",
        "    return F.mse_loss(predicted_score, target)\n"
      ],
      "metadata": {
        "id": "450TGa-Zzgwg"
      },
      "id": "450TGa-Zzgwg",
      "execution_count": 17,
      "outputs": []
    },
    {
      "cell_type": "code",
      "source": [
        "import torch.nn.functional as F\n",
        "\n",
        "def compute_shier_similarity(label_q, label_d, M):\n",
        "    idx_q = label_q.nonzero(as_tuple=True)[0]\n",
        "    idx_d = label_d.nonzero(as_tuple=True)[0]\n",
        "    if len(idx_q) == 0 or len(idx_d) == 0:\n",
        "        return torch.tensor(0.0, device=label_q.device)\n",
        "\n",
        "    numer = M[idx_q][:, idx_d].sum()\n",
        "    denom = M[idx_q, idx_q].sum() + M[idx_d, idx_d].sum()\n",
        "    return numer / torch.clamp(denom, min=1e-6)\n",
        "\n",
        "def severity_contrastive_loss(similarity_score, label_q, label_d, M_shier, margin=0.5):\n",
        "    severity_sim = compute_shier_similarity(label_q, label_d, M_shier)  # ∈ [0, 1]\n",
        "    score = torch.sigmoid(torch.clamp(similarity_score, -10, 10))       # safe sigmoid\n",
        "    pull = (1 - score) ** 2\n",
        "    push = F.relu(score - margin) ** 2\n",
        "    return severity_sim * pull + (1 - severity_sim) * push\n"
      ],
      "metadata": {
        "id": "iQIJ5Vva--qD"
      },
      "id": "iQIJ5Vva--qD",
      "execution_count": 11,
      "outputs": []
    },
    {
      "cell_type": "code",
      "source": [
        "import pandas as pd\n",
        "import torch\n",
        "\n",
        "# Lesion classes in severity order\n",
        "lesions = ['N', 'PB', 'UDH', 'FEA', 'ADH', 'DCIS', 'IC']\n",
        "label2idx = {lesion: i for i, lesion in enumerate(lesions)}\n",
        "\n",
        "# Load both sheets\n",
        "xls = pd.ExcelFile(\"BRACS_BRACS.xlsx\")\n",
        "df_roi = pd.read_excel(xls, 'WSI_with_RoI_Distribution')\n",
        "df_global = pd.read_excel(xls, 'WSI_Information')\n",
        "\n",
        "# Step 1: build from ROI sheet\n",
        "wsi_to_labels = {}\n",
        "for _, row in df_roi.iterrows():\n",
        "    slide_id = row['WSI Filename'].strip()\n",
        "    label_vec = torch.zeros(len(lesions))\n",
        "    for lesion in lesions:\n",
        "        val = row.get(lesion)\n",
        "        if pd.notna(val) and val != '-' and int(val) > 0:\n",
        "            label_vec[label2idx[lesion]] = 1\n",
        "    wsi_to_labels[slide_id] = label_vec\n",
        "\n",
        "# Step 2: fill in missing WSIs using global label\n",
        "for _, row in df_global.iterrows():\n",
        "    slide_id = row['WSI Filename'].strip()\n",
        "    if slide_id not in wsi_to_labels:\n",
        "        label = row['WSI label'].strip()\n",
        "        label_vec = torch.zeros(len(lesions))\n",
        "        if label in label2idx:\n",
        "            label_vec[label2idx[label]] = 1\n",
        "        wsi_to_labels[slide_id] = label_vec\n",
        "\n",
        "\n",
        "for k, v in list(wsi_to_labels.items())[:5]:\n",
        "    print(f\"{k} → {v.tolist()}\")\n",
        "\n",
        "len(wsi_to_labels)"
      ],
      "metadata": {
        "id": "P2f0i6S9BHFo",
        "colab": {
          "base_uri": "https://localhost:8080/"
        },
        "outputId": "1a190e50-192a-4c6e-c489-000bc9531a2a"
      },
      "id": "P2f0i6S9BHFo",
      "execution_count": 12,
      "outputs": [
        {
          "output_type": "stream",
          "name": "stdout",
          "text": [
            "BRACS_264 → [1.0, 1.0, 0.0, 0.0, 0.0, 0.0, 0.0]\n",
            "BRACS_265 → [1.0, 1.0, 1.0, 0.0, 0.0, 0.0, 0.0]\n",
            "BRACS_280 → [1.0, 0.0, 0.0, 0.0, 0.0, 0.0, 1.0]\n",
            "BRACS_281 → [1.0, 1.0, 0.0, 0.0, 0.0, 0.0, 1.0]\n",
            "BRACS_283 → [1.0, 1.0, 0.0, 0.0, 0.0, 1.0, 1.0]\n"
          ]
        },
        {
          "output_type": "execute_result",
          "data": {
            "text/plain": [
              "547"
            ]
          },
          "metadata": {},
          "execution_count": 12
        }
      ]
    },
    {
      "cell_type": "code",
      "source": [
        "import torch\n",
        "from torch.utils.data import Dataset\n",
        "import io\n",
        "import random\n",
        "\n",
        "class WSIRetrievalDataset(Dataset):\n",
        "    def __init__(self, slide_ids, label_dict, gcs_path_map, fs,\n",
        "                 num_pairs=5000, max_patches=256, embedding_dim=768):\n",
        "        self.slide_ids = slide_ids\n",
        "        self.label_dict = label_dict\n",
        "        self.gcs_path_map = gcs_path_map  # dict: slide_id → full .pt GCS path\n",
        "        self.fs = fs\n",
        "        self.max_patches = max_patches\n",
        "        self.embedding_dim = embedding_dim\n",
        "        self.pairs = [tuple(random.sample(slide_ids, 2)) for _ in range(num_pairs)]\n",
        "\n",
        "    def __len__(self):\n",
        "        return len(self.pairs)\n",
        "\n",
        "    def __getitem__(self, idx):\n",
        "        q_id, d_id = self.pairs[idx]\n",
        "\n",
        "        q_embed = self.load_and_pad(q_id)\n",
        "        d_embed = self.load_and_pad(d_id)\n",
        "\n",
        "        q_mask = self.make_mask(q_embed)\n",
        "        d_mask = self.make_mask(d_embed)\n",
        "\n",
        "        return {\n",
        "          'q_embed': q_embed,\n",
        "          'd_embed': d_embed,\n",
        "          'q_mask': self.make_mask(q_embed),\n",
        "          'd_mask': self.make_mask(d_embed),\n",
        "          'y_q': self.label_dict[q_id],\n",
        "          'y_d': self.label_dict[d_id],\n",
        "          'q_id': q_id,\n",
        "          'd_id': d_id\n",
        "      }\n",
        "\n",
        "\n",
        "    def load_and_pad(self, slide_id):\n",
        "        path = self.gcs_path_map[slide_id]\n",
        "        with self.fs.open(path, 'rb') as f:\n",
        "            data = torch.load(io.BytesIO(f.read()))\n",
        "        emb = data\n",
        "        padded = torch.zeros((self.max_patches, self.embedding_dim))\n",
        "        padded[:min(len(emb), self.max_patches)] = emb[:self.max_patches]\n",
        "        return padded\n",
        "\n",
        "    def make_mask(self, padded_emb):\n",
        "        return (padded_emb.abs().sum(dim=1) > 0).float()\n"
      ],
      "metadata": {
        "id": "j21Gk6i3oq1G"
      },
      "id": "j21Gk6i3oq1G",
      "execution_count": 13,
      "outputs": []
    },
    {
      "cell_type": "code",
      "source": [
        "available_slide_ids = []\n",
        "slide_id_to_gcs_path = {}\n",
        "\n",
        "for split, path in all_slide_paths:\n",
        "    parts = path.split('/')\n",
        "    if len(parts) >= 4:\n",
        "        slide_id = parts[-1]\n",
        "        stem     = os.path.splitext(os.path.basename(slide_id))[0]\n",
        "        wsi_id   = stem.rsplit(\"_\", 1)[0]\n",
        "        if wsi_id in wsi_to_labels:\n",
        "            available_slide_ids.append(wsi_id)\n",
        "            slide_id_to_gcs_path[wsi_id] = path\n",
        "\n",
        "len(available_slide_ids)\n",
        "\n"
      ],
      "metadata": {
        "id": "icqZ9ywUQlXQ",
        "outputId": "d2267202-369a-4e13-c8bd-39ce9c414e0d",
        "colab": {
          "base_uri": "https://localhost:8080/"
        }
      },
      "id": "icqZ9ywUQlXQ",
      "execution_count": 14,
      "outputs": [
        {
          "output_type": "execute_result",
          "data": {
            "text/plain": [
              "94"
            ]
          },
          "metadata": {},
          "execution_count": 14
        }
      ]
    },
    {
      "cell_type": "code",
      "source": [
        "from google.cloud import storage\n",
        "\n",
        "def save_model_to_gcs(model, bucket_name, destination_path, project=None):\n",
        "    buffer = io.BytesIO()\n",
        "    torch.save(model.state_dict(), buffer)\n",
        "    buffer.seek(0)\n",
        "    client = storage.Client(project=project)\n",
        "    bucket = client.bucket(bucket_name)\n",
        "    blob = bucket.blob(destination_path)\n",
        "    blob.upload_from_file(buffer, rewind=True)\n",
        "    print(f\"✅ Model saved to gs://{bucket_name}/{destination_path}\")"
      ],
      "metadata": {
        "id": "jU65f18MqrZV"
      },
      "id": "jU65f18MqrZV",
      "execution_count": 21,
      "outputs": []
    },
    {
      "cell_type": "code",
      "source": [
        "from torch.utils.data import DataLoader\n",
        "\n",
        "train_dataset = WSIRetrievalDataset(\n",
        "    slide_ids=available_slide_ids,\n",
        "    label_dict=wsi_to_labels,\n",
        "    gcs_path_map=slide_id_to_gcs_path,\n",
        "    fs=fs,\n",
        "    num_pairs=50*32,\n",
        "    max_patches=256,\n",
        "    embedding_dim=1536\n",
        ")\n",
        "\n",
        "train_loader = DataLoader(train_dataset, batch_size=32, shuffle=True)\n",
        "\n",
        "batch = next(iter(train_loader))\n",
        "print(batch[\"q_id\"], batch[\"d_id\"])"
      ],
      "metadata": {
        "id": "AGSD0-eVRkta",
        "outputId": "4d223d63-0837-4b9e-b17e-ecf7852de2af",
        "colab": {
          "base_uri": "https://localhost:8080/"
        }
      },
      "id": "AGSD0-eVRkta",
      "execution_count": 19,
      "outputs": [
        {
          "output_type": "stream",
          "name": "stdout",
          "text": [
            "['BRACS_1249', 'BRACS_1003724', 'BRACS_1003718', 'BRACS_1777', 'BRACS_1003669', 'BRACS_1003659', 'BRACS_1240', 'BRACS_1267', 'BRACS_1510', 'BRACS_1925', 'BRACS_1486', 'BRACS_1969', 'BRACS_1932', 'BRACS_1003716', 'BRACS_1269', 'BRACS_1241', 'BRACS_1379', 'BRACS_1926', 'BRACS_1269', 'BRACS_1251', 'BRACS_1003715', 'BRACS_1003710', 'BRACS_3282', 'BRACS_3282', 'BRACS_1510', 'BRACS_1774', 'BRACS_1925', 'BRACS_1815', 'BRACS_1003714', 'BRACS_1003693', 'BRACS_1922', 'BRACS_3277'] ['BRACS_1926', 'BRACS_1239', 'BRACS_1775', 'BRACS_1973', 'BRACS_1003715', 'BRACS_1871', 'BRACS_1622', 'BRACS_3292', 'BRACS_1003718', 'BRACS_1506', 'BRACS_1913', 'BRACS_1934', 'BRACS_1912', 'BRACS_1865', 'BRACS_3275', 'BRACS_1253', 'BRACS_1915', 'BRACS_1242', 'BRACS_1242', 'BRACS_1494', 'BRACS_1926', 'BRACS_1003658', 'BRACS_1916', 'BRACS_1003671', 'BRACS_1987', 'BRACS_1932', 'BRACS_1003716', 'BRACS_1775', 'BRACS_3318', 'BRACS_1838', 'BRACS_1513', 'BRACS_1865']\n"
          ]
        }
      ]
    },
    {
      "cell_type": "code",
      "source": [
        "import torch\n",
        "import torch.nn.functional as F\n",
        "from tqdm import tqdm\n",
        "import random\n",
        "\n",
        "device = torch.device(\"cuda\" if torch.cuda.is_available() else \"cpu\")\n",
        "\n",
        "# Model and optimizer\n",
        "scorer = SeparableLITEScorer(max_query_patches=256, max_doc_patches=256, hidden_dim=128).to(device)\n",
        "optimizer = torch.optim.Adam(scorer.parameters(), lr=1e-4)\n",
        "\n",
        "# Final similarity matrix (move to device)\n",
        "M_shier = M_shier.to(device)\n",
        "\n",
        "# MSE loss function\n",
        "def mse_similarity_loss(predicted_score, shier_score):\n",
        "    target = torch.tensor(shier_score, dtype=torch.float32, device=predicted_score.device)\n",
        "    return F.mse_loss(predicted_score, target)\n",
        "\n",
        "# Training loop\n",
        "num_epochs = 10\n",
        "for epoch in range(num_epochs):\n",
        "    scorer.train()\n",
        "    total_loss = 0\n",
        "\n",
        "    for batch in tqdm(train_loader, desc=f\"Epoch {epoch+1}/{num_epochs}\"):\n",
        "        q_embed = batch['q_embed'].squeeze(0).to(device)\n",
        "        d_embed = batch['d_embed'].squeeze(0).to(device)\n",
        "        q_mask = batch['q_mask'].squeeze(0).to(device)\n",
        "        d_mask = batch['d_mask'].squeeze(0).to(device)\n",
        "        y_q = batch['y_q'].squeeze(0).to(device)\n",
        "        y_d = batch['y_d'].squeeze(0).to(device)\n",
        "        q_id = batch['q_id'][0]\n",
        "        d_id = batch['d_id'][0]\n",
        "\n",
        "        # Normalize embeddings\n",
        "        q_norm = F.normalize(q_embed, p=2, dim=-1)\n",
        "        d_norm = F.normalize(d_embed, p=2, dim=-1)\n",
        "\n",
        "        # Patch-wise similarity\n",
        "        S = torch.matmul(q_norm, d_norm.T)\n",
        "\n",
        "        # LITE Scorer (scalar)\n",
        "        sim_score = scorer(S, q_mask, d_mask)  # raw score (not sigmoid)\n",
        "\n",
        "        # Get Shier ground-truth similarity\n",
        "        s_hier = compute_shier_similarity(y_q, y_d, M_shier)\n",
        "\n",
        "        # Compute MSE loss\n",
        "        loss = mse_similarity_loss(sim_score, s_hier)\n",
        "\n",
        "        # Backpropagation\n",
        "        optimizer.zero_grad()\n",
        "        loss.backward()\n",
        "        optimizer.step()\n",
        "\n",
        "        total_loss += loss.item()\n",
        "\n",
        "        if random.random() < 0.25:\n",
        "            print(f\"sim_score = {sim_score.item():.3f}\")\n",
        "            print(f\"🧾 [{q_id} ↔ {d_id}] S_hier={s_hier:.3f}, loss={loss.item():.4f}\")\n",
        "\n",
        "    avg_loss = total_loss / len(train_loader)\n",
        "    print(f\"✅ Epoch {epoch+1}: Average Loss = {avg_loss:.4f}\")\n"
      ],
      "metadata": {
        "id": "C_STV472SgLE",
        "outputId": "1c71f048-9dcc-4cf1-ed91-c40215be523f",
        "colab": {
          "base_uri": "https://localhost:8080/"
        },
        "collapsed": true
      },
      "id": "C_STV472SgLE",
      "execution_count": null,
      "outputs": [
        {
          "metadata": {
            "tags": null
          },
          "name": "stderr",
          "output_type": "stream",
          "text": [
            "Epoch 1/10:   4%|▍         | 2/50 [00:04<01:46,  2.22s/it]"
          ]
        },
        {
          "metadata": {
            "tags": null
          },
          "name": "stdout",
          "output_type": "stream",
          "text": [
            "sim_score = 0.460\n",
            "🧾 [BRACS_1271 ↔ BRACS_1003714] S_hier=0.016, loss=0.1973\n"
          ]
        },
        {
          "metadata": {
            "tags": null
          },
          "name": "stderr",
          "output_type": "stream",
          "text": [
            "Epoch 1/10:  14%|█▍        | 7/50 [00:16<01:35,  2.22s/it]"
          ]
        },
        {
          "metadata": {
            "tags": null
          },
          "name": "stdout",
          "output_type": "stream",
          "text": [
            "sim_score = 0.012\n",
            "🧾 [BRACS_1385 ↔ BRACS_1877] S_hier=0.016, loss=0.0000\n"
          ]
        },
        {
          "metadata": {
            "tags": null
          },
          "name": "stderr",
          "output_type": "stream",
          "text": [
            "Epoch 1/10:  18%|█▊        | 9/50 [00:21<01:35,  2.33s/it]"
          ]
        },
        {
          "metadata": {
            "tags": null
          },
          "name": "stdout",
          "output_type": "stream",
          "text": [
            "sim_score = -0.174\n",
            "🧾 [BRACS_1616 ↔ BRACS_1980] S_hier=0.052, loss=0.0508\n"
          ]
        },
        {
          "metadata": {
            "tags": null
          },
          "name": "stderr",
          "output_type": "stream",
          "text": [
            "Epoch 1/10:  22%|██▏       | 11/50 [00:26<01:34,  2.41s/it]"
          ]
        },
        {
          "metadata": {
            "tags": null
          },
          "name": "stdout",
          "output_type": "stream",
          "text": [
            "sim_score = 0.316\n",
            "🧾 [BRACS_3301 ↔ BRACS_1499] S_hier=0.017, loss=0.0894\n"
          ]
        },
        {
          "metadata": {
            "tags": null
          },
          "name": "stderr",
          "output_type": "stream",
          "text": [
            "Epoch 1/10:  38%|███▊      | 19/50 [00:45<01:19,  2.56s/it]"
          ]
        },
        {
          "metadata": {
            "tags": null
          },
          "name": "stdout",
          "output_type": "stream",
          "text": [
            "sim_score = 0.191\n",
            "🧾 [BRACS_1507 ↔ BRACS_1912] S_hier=0.010, loss=0.0325\n"
          ]
        },
        {
          "metadata": {
            "tags": null
          },
          "name": "stderr",
          "output_type": "stream",
          "text": [
            "Epoch 1/10:  58%|█████▊    | 29/50 [01:09<00:50,  2.39s/it]"
          ]
        },
        {
          "metadata": {
            "tags": null
          },
          "name": "stdout",
          "output_type": "stream",
          "text": [
            "sim_score = 0.565\n",
            "🧾 [BRACS_1863 ↔ BRACS_1250] S_hier=0.319, loss=0.0603\n"
          ]
        },
        {
          "metadata": {
            "tags": null
          },
          "name": "stderr",
          "output_type": "stream",
          "text": [
            "Epoch 1/10:  64%|██████▍   | 32/50 [01:14<00:31,  1.76s/it]"
          ]
        },
        {
          "metadata": {
            "tags": null
          },
          "name": "stdout",
          "output_type": "stream",
          "text": [
            "sim_score = 0.412\n",
            "🧾 [BRACS_3284 ↔ BRACS_1974] S_hier=0.013, loss=0.1593\n"
          ]
        },
        {
          "metadata": {
            "tags": null
          },
          "name": "stderr",
          "output_type": "stream",
          "text": [
            "\rEpoch 1/10:  66%|██████▌   | 33/50 [01:15<00:27,  1.65s/it]"
          ]
        },
        {
          "metadata": {
            "tags": null
          },
          "name": "stdout",
          "output_type": "stream",
          "text": [
            "sim_score = 0.031\n",
            "🧾 [BRACS_1361 ↔ BRACS_1974] S_hier=0.002, loss=0.0008\n"
          ]
        },
        {
          "metadata": {
            "tags": null
          },
          "name": "stderr",
          "output_type": "stream",
          "text": [
            "\rEpoch 1/10:  68%|██████▊   | 34/50 [01:16<00:23,  1.49s/it]"
          ]
        },
        {
          "metadata": {
            "tags": null
          },
          "name": "stdout",
          "output_type": "stream",
          "text": [
            "sim_score = -0.272\n",
            "🧾 [BRACS_1394 ↔ BRACS_3295] S_hier=0.001, loss=0.0749\n"
          ]
        },
        {
          "metadata": {
            "tags": null
          },
          "name": "stderr",
          "output_type": "stream",
          "text": [
            "Epoch 1/10:  78%|███████▊  | 39/50 [01:23<00:13,  1.26s/it]"
          ]
        },
        {
          "metadata": {
            "tags": null
          },
          "name": "stdout",
          "output_type": "stream",
          "text": [
            "sim_score = 0.275\n",
            "🧾 [BRACS_1616 ↔ BRACS_1003715] S_hier=0.010, loss=0.0698\n"
          ]
        },
        {
          "metadata": {
            "tags": null
          },
          "name": "stderr",
          "output_type": "stream",
          "text": [
            "Epoch 1/10: 100%|██████████| 50/50 [01:44<00:00,  2.10s/it]\n"
          ]
        },
        {
          "metadata": {
            "tags": null
          },
          "name": "stdout",
          "output_type": "stream",
          "text": [
            "✅ Epoch 1: Average Loss = 0.0930\n"
          ]
        },
        {
          "metadata": {
            "tags": null
          },
          "name": "stderr",
          "output_type": "stream",
          "text": [
            "Epoch 2/10:   4%|▍         | 2/50 [00:02<01:02,  1.31s/it]"
          ]
        },
        {
          "metadata": {
            "tags": null
          },
          "name": "stdout",
          "output_type": "stream",
          "text": [
            "sim_score = 0.618\n",
            "🧾 [BRACS_1499 ↔ BRACS_1645] S_hier=0.015, loss=0.3631\n"
          ]
        },
        {
          "metadata": {
            "tags": null
          },
          "name": "stderr",
          "output_type": "stream",
          "text": [
            "Epoch 2/10:  34%|███▍      | 17/50 [00:23<00:39,  1.19s/it]"
          ]
        },
        {
          "metadata": {
            "tags": null
          },
          "name": "stdout",
          "output_type": "stream",
          "text": [
            "sim_score = 1.283\n",
            "🧾 [BRACS_1271 ↔ BRACS_1003715] S_hier=0.016, loss=1.6064\n"
          ]
        },
        {
          "metadata": {
            "tags": null
          },
          "name": "stderr",
          "output_type": "stream",
          "text": [
            "Epoch 2/10:  50%|█████     | 25/50 [00:36<00:36,  1.45s/it]"
          ]
        },
        {
          "metadata": {
            "tags": null
          },
          "name": "stdout",
          "output_type": "stream",
          "text": [
            "sim_score = 1.371\n",
            "🧾 [BRACS_739 ↔ BRACS_1933] S_hier=0.414, loss=0.9161\n"
          ]
        },
        {
          "metadata": {
            "tags": null
          },
          "name": "stderr",
          "output_type": "stream",
          "text": [
            "\rEpoch 2/10:  52%|█████▏    | 26/50 [00:38<00:39,  1.63s/it]"
          ]
        },
        {
          "metadata": {
            "tags": null
          },
          "name": "stdout",
          "output_type": "stream",
          "text": [
            "sim_score = -0.040\n",
            "🧾 [BRACS_1838 ↔ BRACS_1295] S_hier=0.100, loss=0.0195\n"
          ]
        },
        {
          "metadata": {
            "tags": null
          },
          "name": "stderr",
          "output_type": "stream",
          "text": [
            "\rEpoch 2/10:  54%|█████▍    | 27/50 [00:40<00:41,  1.79s/it]"
          ]
        },
        {
          "metadata": {
            "tags": null
          },
          "name": "stdout",
          "output_type": "stream",
          "text": [
            "sim_score = -1.576\n",
            "🧾 [BRACS_1863 ↔ BRACS_1250] S_hier=0.319, loss=3.5921\n"
          ]
        },
        {
          "metadata": {
            "tags": null
          },
          "name": "stderr",
          "output_type": "stream",
          "text": [
            "\rEpoch 2/10:  56%|█████▌    | 28/50 [00:41<00:33,  1.53s/it]"
          ]
        },
        {
          "metadata": {
            "tags": null
          },
          "name": "stdout",
          "output_type": "stream",
          "text": [
            "sim_score = -1.581\n",
            "🧾 [BRACS_1378 ↔ BRACS_1367] S_hier=0.003, loss=2.5091\n"
          ]
        },
        {
          "metadata": {
            "tags": null
          },
          "name": "stderr",
          "output_type": "stream",
          "text": [
            "\rEpoch 2/10:  58%|█████▊    | 29/50 [00:42<00:30,  1.43s/it]"
          ]
        },
        {
          "metadata": {
            "tags": null
          },
          "name": "stdout",
          "output_type": "stream",
          "text": [
            "sim_score = -2.229\n",
            "🧾 [BRACS_3301 ↔ BRACS_1499] S_hier=0.017, loss=5.0446\n"
          ]
        },
        {
          "metadata": {
            "tags": null
          },
          "name": "stderr",
          "output_type": "stream",
          "text": [
            "Epoch 2/10:  72%|███████▏  | 36/50 [00:54<00:23,  1.69s/it]"
          ]
        },
        {
          "metadata": {
            "tags": null
          },
          "name": "stdout",
          "output_type": "stream",
          "text": [
            "sim_score = -0.814\n",
            "🧾 [BRACS_1614 ↔ BRACS_735] S_hier=0.252, loss=1.1363\n"
          ]
        },
        {
          "metadata": {
            "tags": null
          },
          "name": "stderr",
          "output_type": "stream",
          "text": [
            "\rEpoch 2/10:  74%|███████▍  | 37/50 [00:55<00:20,  1.56s/it]"
          ]
        },
        {
          "metadata": {
            "tags": null
          },
          "name": "stdout",
          "output_type": "stream",
          "text": [
            "sim_score = 0.722\n",
            "🧾 [BRACS_1616 ↔ BRACS_1980] S_hier=0.052, loss=0.4492\n"
          ]
        },
        {
          "metadata": {
            "tags": null
          },
          "name": "stderr",
          "output_type": "stream",
          "text": [
            "Epoch 2/10:  86%|████████▌ | 43/50 [01:04<00:10,  1.45s/it]"
          ]
        },
        {
          "metadata": {
            "tags": null
          },
          "name": "stdout",
          "output_type": "stream",
          "text": [
            "sim_score = -2.080\n",
            "🧾 [BRACS_1403 ↔ BRACS_1393] S_hier=0.000, loss=4.3275\n"
          ]
        },
        {
          "metadata": {
            "tags": null
          },
          "name": "stderr",
          "output_type": "stream",
          "text": [
            "Epoch 2/10:  90%|█████████ | 45/50 [01:06<00:06,  1.29s/it]"
          ]
        },
        {
          "metadata": {
            "tags": null
          },
          "name": "stdout",
          "output_type": "stream",
          "text": [
            "sim_score = 2.989\n",
            "🧾 [BRACS_1403 ↔ BRACS_1981] S_hier=0.500, loss=6.1937\n"
          ]
        },
        {
          "metadata": {
            "tags": null
          },
          "name": "stderr",
          "output_type": "stream",
          "text": [
            "Epoch 2/10: 100%|██████████| 50/50 [01:13<00:00,  1.48s/it]\n"
          ]
        },
        {
          "metadata": {
            "tags": null
          },
          "name": "stdout",
          "output_type": "stream",
          "text": [
            "sim_score = 1.377\n",
            "🧾 [BRACS_1394 ↔ BRACS_3295] S_hier=0.001, loss=1.8929\n",
            "✅ Epoch 2: Average Loss = 2.2149\n"
          ]
        },
        {
          "metadata": {
            "tags": null
          },
          "name": "stderr",
          "output_type": "stream",
          "text": [
            "Epoch 3/10:   2%|▏         | 1/50 [00:01<01:20,  1.64s/it]"
          ]
        },
        {
          "metadata": {
            "tags": null
          },
          "name": "stdout",
          "output_type": "stream",
          "text": [
            "sim_score = 0.811\n",
            "🧾 [BRACS_1934 ↔ BRACS_1395] S_hier=0.294, loss=0.2671\n"
          ]
        },
        {
          "metadata": {
            "tags": null
          },
          "name": "stderr",
          "output_type": "stream",
          "text": [
            "Epoch 3/10:   6%|▌         | 3/50 [00:04<01:07,  1.44s/it]"
          ]
        },
        {
          "metadata": {
            "tags": null
          },
          "name": "stdout",
          "output_type": "stream",
          "text": [
            "sim_score = 0.270\n",
            "🧾 [BRACS_3301 ↔ BRACS_1271] S_hier=0.018, loss=0.0635\n"
          ]
        },
        {
          "metadata": {
            "tags": null
          },
          "name": "stderr",
          "output_type": "stream",
          "text": [
            "Epoch 3/10:  26%|██▌       | 13/50 [00:19<00:49,  1.34s/it]"
          ]
        },
        {
          "metadata": {
            "tags": null
          },
          "name": "stdout",
          "output_type": "stream",
          "text": [
            "sim_score = 0.498\n",
            "🧾 [BRACS_1385 ↔ BRACS_1877] S_hier=0.016, loss=0.2331\n"
          ]
        },
        {
          "metadata": {
            "tags": null
          },
          "name": "stderr",
          "output_type": "stream",
          "text": [
            "\rEpoch 3/10:  28%|██▊       | 14/50 [00:19<00:41,  1.16s/it]"
          ]
        },
        {
          "metadata": {
            "tags": null
          },
          "name": "stdout",
          "output_type": "stream",
          "text": [
            "sim_score = 0.176\n",
            "🧾 [BRACS_3284 ↔ BRACS_1974] S_hier=0.013, loss=0.0265\n"
          ]
        },
        {
          "metadata": {
            "tags": null
          },
          "name": "stderr",
          "output_type": "stream",
          "text": [
            "Epoch 3/10:  34%|███▍      | 17/50 [00:24<00:44,  1.33s/it]"
          ]
        },
        {
          "metadata": {
            "tags": null
          },
          "name": "stdout",
          "output_type": "stream",
          "text": [
            "sim_score = 0.226\n",
            "🧾 [BRACS_1403 ↔ BRACS_1981] S_hier=0.500, loss=0.0750\n"
          ]
        },
        {
          "metadata": {
            "tags": null
          },
          "name": "stderr",
          "output_type": "stream",
          "text": [
            "\rEpoch 3/10:  36%|███▌      | 18/50 [00:25<00:45,  1.42s/it]"
          ]
        },
        {
          "metadata": {
            "tags": null
          },
          "name": "stdout",
          "output_type": "stream",
          "text": [
            "sim_score = 0.235\n",
            "🧾 [BRACS_1794 ↔ BRACS_1003716] S_hier=0.010, loss=0.0503\n"
          ]
        },
        {
          "metadata": {
            "tags": null
          },
          "name": "stderr",
          "output_type": "stream",
          "text": [
            "\rEpoch 3/10:  38%|███▊      | 19/50 [00:26<00:40,  1.29s/it]"
          ]
        },
        {
          "metadata": {
            "tags": null
          },
          "name": "stdout",
          "output_type": "stream",
          "text": [
            "sim_score = -0.684\n",
            "🧾 [BRACS_1394 ↔ BRACS_3295] S_hier=0.001, loss=0.4696\n"
          ]
        },
        {
          "metadata": {
            "tags": null
          },
          "name": "stderr",
          "output_type": "stream",
          "text": [
            "Epoch 3/10:  44%|████▍     | 22/50 [00:29<00:29,  1.05s/it]"
          ]
        },
        {
          "metadata": {
            "tags": null
          },
          "name": "stdout",
          "output_type": "stream",
          "text": [
            "sim_score = -0.383\n",
            "🧾 [BRACS_1616 ↔ BRACS_1423] S_hier=0.052, loss=0.1892\n"
          ]
        },
        {
          "metadata": {
            "tags": null
          },
          "name": "stderr",
          "output_type": "stream",
          "text": [
            "Epoch 3/10:  50%|█████     | 25/50 [00:35<00:38,  1.52s/it]"
          ]
        },
        {
          "metadata": {
            "tags": null
          },
          "name": "stdout",
          "output_type": "stream",
          "text": [
            "sim_score = -0.126\n",
            "🧾 [BRACS_1295 ↔ BRACS_1250] S_hier=0.100, loss=0.0510\n"
          ]
        },
        {
          "metadata": {
            "tags": null
          },
          "name": "stderr",
          "output_type": "stream",
          "text": [
            "Epoch 3/10:  54%|█████▍    | 27/50 [00:38<00:36,  1.59s/it]"
          ]
        },
        {
          "metadata": {
            "tags": null
          },
          "name": "stdout",
          "output_type": "stream",
          "text": [
            "sim_score = 0.105\n",
            "🧾 [BRACS_1378 ↔ BRACS_1987] S_hier=0.004, loss=0.0103\n"
          ]
        },
        {
          "metadata": {
            "tags": null
          },
          "name": "stderr",
          "output_type": "stream",
          "text": [
            "\rEpoch 3/10:  56%|█████▌    | 28/50 [00:40<00:35,  1.62s/it]"
          ]
        },
        {
          "metadata": {
            "tags": null
          },
          "name": "stdout",
          "output_type": "stream",
          "text": [
            "sim_score = -0.750\n",
            "🧾 [BRACS_1788 ↔ BRACS_1838] S_hier=0.507, loss=1.5815\n"
          ]
        },
        {
          "metadata": {
            "tags": null
          },
          "name": "stderr",
          "output_type": "stream",
          "text": [
            "Epoch 3/10:  62%|██████▏   | 31/50 [00:43<00:24,  1.28s/it]"
          ]
        },
        {
          "metadata": {
            "tags": null
          },
          "name": "stdout",
          "output_type": "stream",
          "text": [
            "sim_score = 0.626\n",
            "🧾 [BRACS_1361 ↔ BRACS_1974] S_hier=0.002, loss=0.3889\n"
          ]
        },
        {
          "metadata": {
            "tags": null
          },
          "name": "stderr",
          "output_type": "stream",
          "text": [
            "Epoch 3/10:  76%|███████▌  | 38/50 [00:54<00:16,  1.36s/it]"
          ]
        },
        {
          "metadata": {
            "tags": null
          },
          "name": "stdout",
          "output_type": "stream",
          "text": [
            "sim_score = 0.330\n",
            "🧾 [BRACS_3295 ↔ BRACS_1395] S_hier=0.129, loss=0.0404\n"
          ]
        },
        {
          "metadata": {
            "tags": null
          },
          "name": "stderr",
          "output_type": "stream",
          "text": [
            "\rEpoch 3/10:  78%|███████▊  | 39/50 [00:56<00:17,  1.55s/it]"
          ]
        },
        {
          "metadata": {
            "tags": null
          },
          "name": "stdout",
          "output_type": "stream",
          "text": [
            "sim_score = 1.339\n",
            "🧾 [BRACS_1863 ↔ BRACS_1250] S_hier=0.319, loss=1.0404\n"
          ]
        },
        {
          "metadata": {
            "tags": null
          },
          "name": "stderr",
          "output_type": "stream",
          "text": [
            "Epoch 3/10:  84%|████████▍ | 42/50 [01:00<00:12,  1.50s/it]"
          ]
        },
        {
          "metadata": {
            "tags": null
          },
          "name": "stdout",
          "output_type": "stream",
          "text": [
            "sim_score = -1.624\n",
            "🧾 [BRACS_1912 ↔ BRACS_1778] S_hier=0.315, loss=3.7575\n"
          ]
        },
        {
          "metadata": {
            "tags": null
          },
          "name": "stderr",
          "output_type": "stream",
          "text": [
            "Epoch 3/10: 100%|██████████| 50/50 [01:10<00:00,  1.40s/it]\n"
          ]
        },
        {
          "metadata": {
            "tags": null
          },
          "name": "stdout",
          "output_type": "stream",
          "text": [
            "✅ Epoch 3: Average Loss = 1.0279\n"
          ]
        },
        {
          "metadata": {
            "tags": null
          },
          "name": "stderr",
          "output_type": "stream",
          "text": [
            "Epoch 4/10:   6%|▌         | 3/50 [00:03<01:01,  1.31s/it]"
          ]
        },
        {
          "metadata": {
            "tags": null
          },
          "name": "stdout",
          "output_type": "stream",
          "text": [
            "sim_score = 0.972\n",
            "🧾 [BRACS_1857 ↔ BRACS_1507] S_hier=0.251, loss=0.5205\n"
          ]
        },
        {
          "metadata": {
            "tags": null
          },
          "name": "stderr",
          "output_type": "stream",
          "text": [
            "Epoch 4/10:  10%|█         | 5/50 [00:06<01:00,  1.33s/it]"
          ]
        },
        {
          "metadata": {
            "tags": null
          },
          "name": "stdout",
          "output_type": "stream",
          "text": [
            "sim_score = 0.196\n",
            "🧾 [BRACS_1378 ↔ BRACS_1987] S_hier=0.004, loss=0.0370\n"
          ]
        },
        {
          "metadata": {
            "tags": null
          },
          "name": "stderr",
          "output_type": "stream",
          "text": [
            "Epoch 4/10:  14%|█▍        | 7/50 [00:09<00:59,  1.38s/it]"
          ]
        },
        {
          "metadata": {
            "tags": null
          },
          "name": "stdout",
          "output_type": "stream",
          "text": [
            "sim_score = 0.718\n",
            "🧾 [BRACS_1934 ↔ BRACS_1395] S_hier=0.294, loss=0.1800\n"
          ]
        },
        {
          "metadata": {
            "tags": null
          },
          "name": "stderr",
          "output_type": "stream",
          "text": [
            "Epoch 4/10:  24%|██▍       | 12/50 [00:16<00:57,  1.51s/it]"
          ]
        },
        {
          "metadata": {
            "tags": null
          },
          "name": "stdout",
          "output_type": "stream",
          "text": [
            "sim_score = 0.451\n",
            "🧾 [BRACS_1609 ↔ BRACS_1401] S_hier=0.334, loss=0.0138\n"
          ]
        },
        {
          "metadata": {
            "tags": null
          },
          "name": "stderr",
          "output_type": "stream",
          "text": [
            "\rEpoch 4/10:  26%|██▌       | 13/50 [00:17<00:49,  1.33s/it]"
          ]
        },
        {
          "metadata": {
            "tags": null
          },
          "name": "stdout",
          "output_type": "stream",
          "text": [
            "sim_score = 1.205\n",
            "🧾 [BRACS_1401 ↔ BRACS_1513] S_hier=0.500, loss=0.4977\n"
          ]
        },
        {
          "metadata": {
            "tags": null
          },
          "name": "stderr",
          "output_type": "stream",
          "text": [
            "\rEpoch 4/10:  28%|██▊       | 14/50 [00:19<00:52,  1.45s/it]"
          ]
        },
        {
          "metadata": {
            "tags": null
          },
          "name": "stdout",
          "output_type": "stream",
          "text": [
            "sim_score = 0.863\n",
            "🧾 [BRACS_1885 ↔ BRACS_1899] S_hier=0.490, loss=0.1391\n"
          ]
        },
        {
          "metadata": {
            "tags": null
          },
          "name": "stderr",
          "output_type": "stream",
          "text": [
            "Epoch 4/10:  38%|███▊      | 19/50 [00:26<00:48,  1.55s/it]"
          ]
        },
        {
          "metadata": {
            "tags": null
          },
          "name": "stdout",
          "output_type": "stream",
          "text": [
            "sim_score = -0.120\n",
            "🧾 [BRACS_1275 ↔ BRACS_1403] S_hier=0.016, loss=0.0185\n"
          ]
        },
        {
          "metadata": {
            "tags": null
          },
          "name": "stderr",
          "output_type": "stream",
          "text": [
            "Epoch 4/10:  60%|██████    | 30/50 [00:38<00:22,  1.14s/it]"
          ]
        },
        {
          "metadata": {
            "tags": null
          },
          "name": "stdout",
          "output_type": "stream",
          "text": [
            "sim_score = -0.480\n",
            "🧾 [BRACS_1424 ↔ BRACS_1773] S_hier=0.293, loss=0.5966\n"
          ]
        },
        {
          "metadata": {
            "tags": null
          },
          "name": "stderr",
          "output_type": "stream",
          "text": [
            "Epoch 4/10:  70%|███████   | 35/50 [00:46<00:25,  1.67s/it]"
          ]
        },
        {
          "metadata": {
            "tags": null
          },
          "name": "stdout",
          "output_type": "stream",
          "text": [
            "sim_score = 0.014\n",
            "🧾 [BRACS_1595 ↔ BRACS_743] S_hier=0.294, loss=0.0784\n"
          ]
        },
        {
          "metadata": {
            "tags": null
          },
          "name": "stderr",
          "output_type": "stream",
          "text": [
            "Epoch 4/10:  74%|███████▍  | 37/50 [00:49<00:22,  1.76s/it]"
          ]
        },
        {
          "metadata": {
            "tags": null
          },
          "name": "stdout",
          "output_type": "stream",
          "text": [
            "sim_score = 0.194\n",
            "🧾 [BRACS_1250 ↔ BRACS_1392] S_hier=0.006, loss=0.0351\n"
          ]
        },
        {
          "metadata": {
            "tags": null
          },
          "name": "stderr",
          "output_type": "stream",
          "text": [
            "Epoch 4/10:  78%|███████▊  | 39/50 [00:52<00:17,  1.56s/it]"
          ]
        },
        {
          "metadata": {
            "tags": null
          },
          "name": "stdout",
          "output_type": "stream",
          "text": [
            "sim_score = 0.933\n",
            "🧾 [BRACS_739 ↔ BRACS_1933] S_hier=0.414, loss=0.2702\n"
          ]
        },
        {
          "metadata": {
            "tags": null
          },
          "name": "stderr",
          "output_type": "stream",
          "text": [
            "Epoch 4/10:  82%|████████▏ | 41/50 [00:55<00:13,  1.55s/it]"
          ]
        },
        {
          "metadata": {
            "tags": null
          },
          "name": "stdout",
          "output_type": "stream",
          "text": [
            "sim_score = 0.053\n",
            "🧾 [BRACS_1795 ↔ BRACS_1269] S_hier=0.016, loss=0.0014\n"
          ]
        },
        {
          "metadata": {
            "tags": null
          },
          "name": "stderr",
          "output_type": "stream",
          "text": [
            "Epoch 4/10:  94%|█████████▍| 47/50 [01:05<00:05,  1.71s/it]"
          ]
        },
        {
          "metadata": {
            "tags": null
          },
          "name": "stdout",
          "output_type": "stream",
          "text": [
            "sim_score = 0.303\n",
            "🧾 [BRACS_1838 ↔ BRACS_1295] S_hier=0.100, loss=0.0412\n"
          ]
        },
        {
          "metadata": {
            "tags": null
          },
          "name": "stderr",
          "output_type": "stream",
          "text": [
            "Epoch 4/10:  98%|█████████▊| 49/50 [01:08<00:01,  1.54s/it]"
          ]
        },
        {
          "metadata": {
            "tags": null
          },
          "name": "stdout",
          "output_type": "stream",
          "text": [
            "sim_score = -0.022\n",
            "🧾 [BRACS_1978 ↔ BRACS_1775] S_hier=0.015, loss=0.0014\n"
          ]
        },
        {
          "metadata": {
            "tags": null
          },
          "name": "stderr",
          "output_type": "stream",
          "text": [
            "Epoch 4/10: 100%|██████████| 50/50 [01:09<00:00,  1.39s/it]\n"
          ]
        },
        {
          "metadata": {
            "tags": null
          },
          "name": "stdout",
          "output_type": "stream",
          "text": [
            "sim_score = 0.463\n",
            "🧾 [BRACS_1912 ↔ BRACS_1778] S_hier=0.315, loss=0.0221\n",
            "✅ Epoch 4: Average Loss = 0.1162\n"
          ]
        },
        {
          "metadata": {
            "tags": null
          },
          "name": "stderr",
          "output_type": "stream",
          "text": [
            "Epoch 5/10:   6%|▌         | 3/50 [00:04<01:05,  1.39s/it]"
          ]
        },
        {
          "metadata": {
            "tags": null
          },
          "name": "stdout",
          "output_type": "stream",
          "text": [
            "sim_score = 0.634\n",
            "🧾 [BRACS_1424 ↔ BRACS_1773] S_hier=0.293, loss=0.1163\n"
          ]
        },
        {
          "metadata": {
            "tags": null
          },
          "name": "stderr",
          "output_type": "stream",
          "text": [
            "Epoch 5/10:  32%|███▏      | 16/50 [00:22<00:57,  1.70s/it]"
          ]
        },
        {
          "metadata": {
            "tags": null
          },
          "name": "stdout",
          "output_type": "stream",
          "text": [
            "sim_score = 0.279\n",
            "🧾 [BRACS_1971 ↔ BRACS_1915] S_hier=0.124, loss=0.0240\n"
          ]
        },
        {
          "metadata": {
            "tags": null
          },
          "name": "stderr",
          "output_type": "stream",
          "text": [
            "Epoch 5/10:  40%|████      | 20/50 [00:28<00:42,  1.43s/it]"
          ]
        },
        {
          "metadata": {
            "tags": null
          },
          "name": "stdout",
          "output_type": "stream",
          "text": [
            "sim_score = 0.125\n",
            "🧾 [BRACS_3284 ↔ BRACS_1932] S_hier=0.233, loss=0.0115\n"
          ]
        },
        {
          "metadata": {
            "tags": null
          },
          "name": "stderr",
          "output_type": "stream",
          "text": [
            "Epoch 5/10:  64%|██████▍   | 32/50 [00:45<00:27,  1.54s/it]"
          ]
        },
        {
          "metadata": {
            "tags": null
          },
          "name": "stdout",
          "output_type": "stream",
          "text": [
            "sim_score = 0.261\n",
            "🧾 [BRACS_1275 ↔ BRACS_1403] S_hier=0.016, loss=0.0599\n"
          ]
        },
        {
          "metadata": {
            "tags": null
          },
          "name": "stderr",
          "output_type": "stream",
          "text": [
            "Epoch 5/10:  70%|███████   | 35/50 [00:48<00:19,  1.27s/it]"
          ]
        },
        {
          "metadata": {
            "tags": null
          },
          "name": "stdout",
          "output_type": "stream",
          "text": [
            "sim_score = 0.387\n",
            "🧾 [BRACS_1609 ↔ BRACS_1401] S_hier=0.334, loss=0.0029\n"
          ]
        },
        {
          "metadata": {
            "tags": null
          },
          "name": "stderr",
          "output_type": "stream",
          "text": [
            "Epoch 5/10:  76%|███████▌  | 38/50 [00:52<00:17,  1.50s/it]"
          ]
        },
        {
          "metadata": {
            "tags": null
          },
          "name": "stdout",
          "output_type": "stream",
          "text": [
            "sim_score = -0.143\n",
            "🧾 [BRACS_1250 ↔ BRACS_1392] S_hier=0.006, loss=0.0224\n"
          ]
        },
        {
          "metadata": {
            "tags": null
          },
          "name": "stderr",
          "output_type": "stream",
          "text": [
            "Epoch 5/10: 100%|██████████| 50/50 [01:09<00:00,  1.39s/it]\n"
          ]
        },
        {
          "metadata": {
            "tags": null
          },
          "name": "stdout",
          "output_type": "stream",
          "text": [
            "✅ Epoch 5: Average Loss = 0.0882\n"
          ]
        },
        {
          "metadata": {
            "tags": null
          },
          "name": "stderr",
          "output_type": "stream",
          "text": [
            "Epoch 6/10:   8%|▊         | 4/50 [00:06<01:09,  1.52s/it]"
          ]
        },
        {
          "metadata": {
            "tags": null
          },
          "name": "stdout",
          "output_type": "stream",
          "text": [
            "sim_score = 0.173\n",
            "🧾 [BRACS_1361 ↔ BRACS_1974] S_hier=0.002, loss=0.0294\n"
          ]
        },
        {
          "metadata": {
            "tags": null
          },
          "name": "stderr",
          "output_type": "stream",
          "text": [
            "Epoch 6/10:  34%|███▍      | 17/50 [00:24<00:48,  1.47s/it]"
          ]
        },
        {
          "metadata": {
            "tags": null
          },
          "name": "stdout",
          "output_type": "stream",
          "text": [
            "sim_score = 0.357\n",
            "🧾 [BRACS_1860 ↔ BRACS_738] S_hier=0.391, loss=0.0012\n"
          ]
        },
        {
          "metadata": {
            "tags": null
          },
          "name": "stderr",
          "output_type": "stream",
          "text": [
            "Epoch 6/10:  40%|████      | 20/50 [00:28<00:45,  1.50s/it]"
          ]
        },
        {
          "metadata": {
            "tags": null
          },
          "name": "stdout",
          "output_type": "stream",
          "text": [
            "sim_score = 0.259\n",
            "🧾 [BRACS_1609 ↔ BRACS_1401] S_hier=0.334, loss=0.0055\n"
          ]
        },
        {
          "metadata": {
            "tags": null
          },
          "name": "stderr",
          "output_type": "stream",
          "text": [
            "Epoch 6/10:  54%|█████▍    | 27/50 [00:37<00:32,  1.43s/it]"
          ]
        },
        {
          "metadata": {
            "tags": null
          },
          "name": "stdout",
          "output_type": "stream",
          "text": [
            "sim_score = 0.499\n",
            "🧾 [BRACS_1788 ↔ BRACS_1838] S_hier=0.507, loss=0.0001\n"
          ]
        },
        {
          "metadata": {
            "tags": null
          },
          "name": "stderr",
          "output_type": "stream",
          "text": [
            "Epoch 6/10:  78%|███████▊  | 39/50 [00:54<00:15,  1.40s/it]"
          ]
        },
        {
          "metadata": {
            "tags": null
          },
          "name": "stdout",
          "output_type": "stream",
          "text": [
            "sim_score = 0.419\n",
            "🧾 [BRACS_1885 ↔ BRACS_1899] S_hier=0.490, loss=0.0050\n"
          ]
        },
        {
          "metadata": {
            "tags": null
          },
          "name": "stderr",
          "output_type": "stream",
          "text": [
            "Epoch 6/10:  94%|█████████▍| 47/50 [01:05<00:03,  1.23s/it]"
          ]
        },
        {
          "metadata": {
            "tags": null
          },
          "name": "stdout",
          "output_type": "stream",
          "text": [
            "sim_score = -0.049\n",
            "🧾 [BRACS_1271 ↔ BRACS_1003715] S_hier=0.016, loss=0.0041\n"
          ]
        },
        {
          "metadata": {
            "tags": null
          },
          "name": "stderr",
          "output_type": "stream",
          "text": [
            "Epoch 6/10: 100%|██████████| 50/50 [01:09<00:00,  1.38s/it]\n"
          ]
        },
        {
          "metadata": {
            "tags": null
          },
          "name": "stdout",
          "output_type": "stream",
          "text": [
            "✅ Epoch 6: Average Loss = 0.0212\n"
          ]
        },
        {
          "metadata": {
            "tags": null
          },
          "name": "stderr",
          "output_type": "stream",
          "text": [
            "Epoch 7/10:  10%|█         | 5/50 [00:05<00:56,  1.25s/it]"
          ]
        },
        {
          "metadata": {
            "tags": null
          },
          "name": "stdout",
          "output_type": "stream",
          "text": [
            "sim_score = 0.050\n",
            "🧾 [BRACS_1507 ↔ BRACS_1912] S_hier=0.010, loss=0.0016\n"
          ]
        },
        {
          "metadata": {
            "tags": null
          },
          "name": "stderr",
          "output_type": "stream",
          "text": [
            "Epoch 7/10:  16%|█▌        | 8/50 [00:10<00:57,  1.36s/it]"
          ]
        },
        {
          "metadata": {
            "tags": null
          },
          "name": "stdout",
          "output_type": "stream",
          "text": [
            "sim_score = 0.373\n",
            "🧾 [BRACS_1773 ↔ BRACS_1616] S_hier=0.315, loss=0.0034\n"
          ]
        },
        {
          "metadata": {
            "tags": null
          },
          "name": "stderr",
          "output_type": "stream",
          "text": [
            "Epoch 7/10:  28%|██▊       | 14/50 [00:19<00:57,  1.59s/it]"
          ]
        },
        {
          "metadata": {
            "tags": null
          },
          "name": "stdout",
          "output_type": "stream",
          "text": [
            "sim_score = -0.144\n",
            "🧾 [BRACS_1295 ↔ BRACS_1250] S_hier=0.100, loss=0.0594\n"
          ]
        },
        {
          "metadata": {
            "tags": null
          },
          "name": "stderr",
          "output_type": "stream",
          "text": [
            "Epoch 7/10:  38%|███▊      | 19/50 [00:24<00:36,  1.17s/it]"
          ]
        },
        {
          "metadata": {
            "tags": null
          },
          "name": "stdout",
          "output_type": "stream",
          "text": [
            "sim_score = 0.151\n",
            "🧾 [BRACS_1275 ↔ BRACS_1403] S_hier=0.016, loss=0.0182\n"
          ]
        },
        {
          "metadata": {
            "tags": null
          },
          "name": "stderr",
          "output_type": "stream",
          "text": [
            "Epoch 7/10:  56%|█████▌    | 28/50 [00:37<00:28,  1.31s/it]"
          ]
        },
        {
          "metadata": {
            "tags": null
          },
          "name": "stdout",
          "output_type": "stream",
          "text": [
            "sim_score = 0.187\n",
            "🧾 [BRACS_1616 ↔ BRACS_1423] S_hier=0.052, loss=0.0182\n"
          ]
        },
        {
          "metadata": {
            "tags": null
          },
          "name": "stderr",
          "output_type": "stream",
          "text": [
            "\rEpoch 7/10:  58%|█████▊    | 29/50 [00:38<00:26,  1.25s/it]"
          ]
        },
        {
          "metadata": {
            "tags": null
          },
          "name": "stdout",
          "output_type": "stream",
          "text": [
            "sim_score = 0.163\n",
            "🧾 [BRACS_3301 ↔ BRACS_1271] S_hier=0.018, loss=0.0211\n"
          ]
        },
        {
          "metadata": {
            "tags": null
          },
          "name": "stderr",
          "output_type": "stream",
          "text": [
            "Epoch 7/10:  62%|██████▏   | 31/50 [00:41<00:23,  1.23s/it]"
          ]
        },
        {
          "metadata": {
            "tags": null
          },
          "name": "stdout",
          "output_type": "stream",
          "text": [
            "sim_score = -0.001\n",
            "🧾 [BRACS_1968 ↔ BRACS_3337] S_hier=0.046, loss=0.0022\n"
          ]
        },
        {
          "metadata": {
            "tags": null
          },
          "name": "stderr",
          "output_type": "stream",
          "text": [
            "Epoch 7/10:  70%|███████   | 35/50 [00:47<00:23,  1.59s/it]"
          ]
        },
        {
          "metadata": {
            "tags": null
          },
          "name": "stdout",
          "output_type": "stream",
          "text": [
            "sim_score = 0.004\n",
            "🧾 [BRACS_1616 ↔ BRACS_1296] S_hier=0.010, loss=0.0000\n"
          ]
        },
        {
          "metadata": {
            "tags": null
          },
          "name": "stderr",
          "output_type": "stream",
          "text": [
            "Epoch 7/10:  76%|███████▌  | 38/50 [00:52<00:19,  1.65s/it]"
          ]
        },
        {
          "metadata": {
            "tags": null
          },
          "name": "stdout",
          "output_type": "stream",
          "text": [
            "sim_score = 0.444\n",
            "🧾 [BRACS_1424 ↔ BRACS_1773] S_hier=0.293, loss=0.0230\n"
          ]
        },
        {
          "metadata": {
            "tags": null
          },
          "name": "stderr",
          "output_type": "stream",
          "text": [
            "Epoch 7/10:  88%|████████▊ | 44/50 [01:02<00:09,  1.64s/it]"
          ]
        },
        {
          "metadata": {
            "tags": null
          },
          "name": "stdout",
          "output_type": "stream",
          "text": [
            "sim_score = 0.151\n",
            "🧾 [BRACS_1838 ↔ BRACS_1295] S_hier=0.100, loss=0.0026\n"
          ]
        },
        {
          "metadata": {
            "tags": null
          },
          "name": "stderr",
          "output_type": "stream",
          "text": [
            "Epoch 7/10:  94%|█████████▍| 47/50 [01:05<00:03,  1.27s/it]"
          ]
        },
        {
          "metadata": {
            "tags": null
          },
          "name": "stdout",
          "output_type": "stream",
          "text": [
            "sim_score = -0.082\n",
            "🧾 [BRACS_3301 ↔ BRACS_1499] S_hier=0.017, loss=0.0099\n"
          ]
        },
        {
          "metadata": {
            "tags": null
          },
          "name": "stderr",
          "output_type": "stream",
          "text": [
            "Epoch 7/10: 100%|██████████| 50/50 [01:09<00:00,  1.39s/it]\n"
          ]
        },
        {
          "metadata": {
            "tags": null
          },
          "name": "stdout",
          "output_type": "stream",
          "text": [
            "✅ Epoch 7: Average Loss = 0.0175\n"
          ]
        },
        {
          "metadata": {
            "tags": null
          },
          "name": "stderr",
          "output_type": "stream",
          "text": [
            "Epoch 8/10:   6%|▌         | 3/50 [00:03<00:56,  1.19s/it]"
          ]
        },
        {
          "metadata": {
            "tags": null
          },
          "name": "stdout",
          "output_type": "stream",
          "text": [
            "sim_score = 0.031\n",
            "🧾 [BRACS_1271 ↔ BRACS_1003715] S_hier=0.016, loss=0.0002\n"
          ]
        },
        {
          "metadata": {
            "tags": null
          },
          "name": "stderr",
          "output_type": "stream",
          "text": [
            "Epoch 8/10:  12%|█▏        | 6/50 [00:08<01:04,  1.47s/it]"
          ]
        },
        {
          "metadata": {
            "tags": null
          },
          "name": "stdout",
          "output_type": "stream",
          "text": [
            "sim_score = -0.042\n",
            "🧾 [BRACS_1403 ↔ BRACS_1393] S_hier=0.000, loss=0.0018\n"
          ]
        },
        {
          "metadata": {
            "tags": null
          },
          "name": "stderr",
          "output_type": "stream",
          "text": [
            "Epoch 8/10:  24%|██▍       | 12/50 [00:16<00:56,  1.48s/it]"
          ]
        },
        {
          "metadata": {
            "tags": null
          },
          "name": "stdout",
          "output_type": "stream",
          "text": [
            "sim_score = 0.131\n",
            "🧾 [BRACS_1609 ↔ BRACS_1401] S_hier=0.334, loss=0.0410\n"
          ]
        },
        {
          "metadata": {
            "tags": null
          },
          "name": "stderr",
          "output_type": "stream",
          "text": [
            "Epoch 8/10:  30%|███       | 15/50 [00:19<00:40,  1.15s/it]"
          ]
        },
        {
          "metadata": {
            "tags": null
          },
          "name": "stdout",
          "output_type": "stream",
          "text": [
            "sim_score = -0.001\n",
            "🧾 [BRACS_1271 ↔ BRACS_1003714] S_hier=0.016, loss=0.0003\n"
          ]
        },
        {
          "metadata": {
            "tags": null
          },
          "name": "stderr",
          "output_type": "stream",
          "text": [
            "Epoch 8/10:  36%|███▌      | 18/50 [00:23<00:38,  1.19s/it]"
          ]
        },
        {
          "metadata": {
            "tags": null
          },
          "name": "stdout",
          "output_type": "stream",
          "text": [
            "sim_score = 0.174\n",
            "🧾 [BRACS_1773 ↔ BRACS_1616] S_hier=0.315, loss=0.0198\n"
          ]
        },
        {
          "metadata": {
            "tags": null
          },
          "name": "stderr",
          "output_type": "stream",
          "text": [
            "Epoch 8/10:  42%|████▏     | 21/50 [00:28<00:46,  1.61s/it]"
          ]
        },
        {
          "metadata": {
            "tags": null
          },
          "name": "stdout",
          "output_type": "stream",
          "text": [
            "sim_score = 0.435\n",
            "🧾 [BRACS_1614 ↔ BRACS_735] S_hier=0.252, loss=0.0332\n"
          ]
        },
        {
          "metadata": {
            "tags": null
          },
          "name": "stderr",
          "output_type": "stream",
          "text": [
            "Epoch 8/10:  58%|█████▊    | 29/50 [00:38<00:26,  1.27s/it]"
          ]
        },
        {
          "metadata": {
            "tags": null
          },
          "name": "stdout",
          "output_type": "stream",
          "text": [
            "sim_score = 0.375\n",
            "🧾 [BRACS_739 ↔ BRACS_1933] S_hier=0.414, loss=0.0015\n"
          ]
        },
        {
          "metadata": {
            "tags": null
          },
          "name": "stderr",
          "output_type": "stream",
          "text": [
            "Epoch 8/10:  72%|███████▏  | 36/50 [00:48<00:18,  1.32s/it]"
          ]
        },
        {
          "metadata": {
            "tags": null
          },
          "name": "stdout",
          "output_type": "stream",
          "text": [
            "sim_score = -0.006\n",
            "🧾 [BRACS_1616 ↔ BRACS_1423] S_hier=0.052, loss=0.0034\n"
          ]
        },
        {
          "metadata": {
            "tags": null
          },
          "name": "stderr",
          "output_type": "stream",
          "text": [
            "Epoch 8/10:  84%|████████▍ | 42/50 [00:56<00:11,  1.46s/it]"
          ]
        },
        {
          "metadata": {
            "tags": null
          },
          "name": "stdout",
          "output_type": "stream",
          "text": [
            "sim_score = 0.432\n",
            "🧾 [BRACS_1925 ↔ BRACS_1815] S_hier=0.438, loss=0.0000\n"
          ]
        },
        {
          "metadata": {
            "tags": null
          },
          "name": "stderr",
          "output_type": "stream",
          "text": [
            "Epoch 8/10:  90%|█████████ | 45/50 [01:02<00:08,  1.76s/it]"
          ]
        },
        {
          "metadata": {
            "tags": null
          },
          "name": "stdout",
          "output_type": "stream",
          "text": [
            "sim_score = -0.047\n",
            "🧾 [BRACS_1261 ↔ BRACS_1276] S_hier=0.016, loss=0.0040\n"
          ]
        },
        {
          "metadata": {
            "tags": null
          },
          "name": "stderr",
          "output_type": "stream",
          "text": [
            "Epoch 8/10:  98%|█████████▊| 49/50 [01:07<00:01,  1.39s/it]"
          ]
        },
        {
          "metadata": {
            "tags": null
          },
          "name": "stdout",
          "output_type": "stream",
          "text": [
            "sim_score = 0.258\n",
            "🧾 [BRACS_1912 ↔ BRACS_1778] S_hier=0.315, loss=0.0033\n"
          ]
        },
        {
          "metadata": {
            "tags": null
          },
          "name": "stderr",
          "output_type": "stream",
          "text": [
            "Epoch 8/10: 100%|██████████| 50/50 [01:09<00:00,  1.39s/it]\n"
          ]
        },
        {
          "metadata": {
            "tags": null
          },
          "name": "stdout",
          "output_type": "stream",
          "text": [
            "✅ Epoch 8: Average Loss = 0.0136\n"
          ]
        },
        {
          "metadata": {
            "tags": null
          },
          "name": "stderr",
          "output_type": "stream",
          "text": [
            "Epoch 9/10:  12%|█▏        | 6/50 [00:06<00:49,  1.11s/it]"
          ]
        },
        {
          "metadata": {
            "tags": null
          },
          "name": "stdout",
          "output_type": "stream",
          "text": [
            "sim_score = 0.462\n",
            "🧾 [BRACS_1773 ↔ BRACS_1616] S_hier=0.315, loss=0.0218\n"
          ]
        },
        {
          "metadata": {
            "tags": null
          },
          "name": "stderr",
          "output_type": "stream",
          "text": [
            "\rEpoch 9/10:  14%|█▍        | 7/50 [00:08<00:51,  1.21s/it]"
          ]
        },
        {
          "metadata": {
            "tags": null
          },
          "name": "stdout",
          "output_type": "stream",
          "text": [
            "sim_score = 0.480\n",
            "🧾 [BRACS_1882 ↔ BRACS_1860] S_hier=0.448, loss=0.0010\n"
          ]
        },
        {
          "metadata": {
            "tags": null
          },
          "name": "stderr",
          "output_type": "stream",
          "text": [
            "Epoch 9/10:  22%|██▏       | 11/50 [00:14<00:58,  1.51s/it]"
          ]
        },
        {
          "metadata": {
            "tags": null
          },
          "name": "stdout",
          "output_type": "stream",
          "text": [
            "sim_score = 0.652\n",
            "🧾 [BRACS_1788 ↔ BRACS_1838] S_hier=0.507, loss=0.0211\n"
          ]
        },
        {
          "metadata": {
            "tags": null
          },
          "name": "stderr",
          "output_type": "stream",
          "text": [
            "\rEpoch 9/10:  24%|██▍       | 12/50 [00:15<00:51,  1.36s/it]"
          ]
        },
        {
          "metadata": {
            "tags": null
          },
          "name": "stdout",
          "output_type": "stream",
          "text": [
            "sim_score = 0.028\n",
            "🧾 [BRACS_1394 ↔ BRACS_3295] S_hier=0.001, loss=0.0007\n"
          ]
        },
        {
          "metadata": {
            "tags": null
          },
          "name": "stderr",
          "output_type": "stream",
          "text": [
            "Epoch 9/10:  28%|██▊       | 14/50 [00:18<00:51,  1.43s/it]"
          ]
        },
        {
          "metadata": {
            "tags": null
          },
          "name": "stdout",
          "output_type": "stream",
          "text": [
            "sim_score = 0.096\n",
            "🧾 [BRACS_1616 ↔ BRACS_1980] S_hier=0.052, loss=0.0020\n"
          ]
        },
        {
          "metadata": {
            "tags": null
          },
          "name": "stderr",
          "output_type": "stream",
          "text": [
            "Epoch 9/10:  32%|███▏      | 16/50 [00:21<00:46,  1.38s/it]"
          ]
        },
        {
          "metadata": {
            "tags": null
          },
          "name": "stdout",
          "output_type": "stream",
          "text": [
            "sim_score = 0.049\n",
            "🧾 [BRACS_3301 ↔ BRACS_1271] S_hier=0.018, loss=0.0010\n"
          ]
        },
        {
          "metadata": {
            "tags": null
          },
          "name": "stderr",
          "output_type": "stream",
          "text": [
            "Epoch 9/10:  42%|████▏     | 21/50 [00:27<00:38,  1.34s/it]"
          ]
        },
        {
          "metadata": {
            "tags": null
          },
          "name": "stdout",
          "output_type": "stream",
          "text": [
            "sim_score = -0.129\n",
            "🧾 [BRACS_1968 ↔ BRACS_3337] S_hier=0.046, loss=0.0308\n"
          ]
        },
        {
          "metadata": {
            "tags": null
          },
          "name": "stderr",
          "output_type": "stream",
          "text": [
            "Epoch 9/10:  46%|████▌     | 23/50 [00:30<00:37,  1.39s/it]"
          ]
        },
        {
          "metadata": {
            "tags": null
          },
          "name": "stdout",
          "output_type": "stream",
          "text": [
            "sim_score = 0.505\n",
            "🧾 [BRACS_1403 ↔ BRACS_1981] S_hier=0.500, loss=0.0000\n"
          ]
        },
        {
          "metadata": {
            "tags": null
          },
          "name": "stderr",
          "output_type": "stream",
          "text": [
            "Epoch 9/10:  56%|█████▌    | 28/50 [00:37<00:30,  1.39s/it]"
          ]
        },
        {
          "metadata": {
            "tags": null
          },
          "name": "stdout",
          "output_type": "stream",
          "text": [
            "sim_score = 0.111\n",
            "🧾 [BRACS_1250 ↔ BRACS_1876] S_hier=0.285, loss=0.0306\n"
          ]
        },
        {
          "metadata": {
            "tags": null
          },
          "name": "stderr",
          "output_type": "stream",
          "text": [
            "Epoch 9/10:  74%|███████▍  | 37/50 [00:51<00:22,  1.72s/it]"
          ]
        },
        {
          "metadata": {
            "tags": null
          },
          "name": "stdout",
          "output_type": "stream",
          "text": [
            "sim_score = 0.161\n",
            "🧾 [BRACS_1863 ↔ BRACS_1250] S_hier=0.319, loss=0.0251\n"
          ]
        },
        {
          "metadata": {
            "tags": null
          },
          "name": "stderr",
          "output_type": "stream",
          "text": [
            "Epoch 9/10:  92%|█████████▏| 46/50 [01:03<00:04,  1.23s/it]"
          ]
        },
        {
          "metadata": {
            "tags": null
          },
          "name": "stdout",
          "output_type": "stream",
          "text": [
            "sim_score = -0.198\n",
            "🧾 [BRACS_3284 ↔ BRACS_1974] S_hier=0.013, loss=0.0446\n"
          ]
        },
        {
          "metadata": {
            "tags": null
          },
          "name": "stderr",
          "output_type": "stream",
          "text": [
            "\rEpoch 9/10:  94%|█████████▍| 47/50 [01:04<00:03,  1.32s/it]"
          ]
        },
        {
          "metadata": {
            "tags": null
          },
          "name": "stdout",
          "output_type": "stream",
          "text": [
            "sim_score = 0.034\n",
            "🧾 [BRACS_1275 ↔ BRACS_1403] S_hier=0.016, loss=0.0003\n"
          ]
        },
        {
          "metadata": {
            "tags": null
          },
          "name": "stderr",
          "output_type": "stream",
          "text": [
            "Epoch 9/10: 100%|██████████| 50/50 [01:08<00:00,  1.38s/it]\n"
          ]
        },
        {
          "metadata": {
            "tags": null
          },
          "name": "stdout",
          "output_type": "stream",
          "text": [
            "sim_score = 0.354\n",
            "🧾 [BRACS_1971 ↔ BRACS_1915] S_hier=0.124, loss=0.0531\n",
            "✅ Epoch 9: Average Loss = 0.0145\n"
          ]
        },
        {
          "metadata": {
            "tags": null
          },
          "name": "stderr",
          "output_type": "stream",
          "text": [
            "Epoch 10/10:  12%|█▏        | 6/50 [00:08<00:58,  1.32s/it]"
          ]
        },
        {
          "metadata": {
            "tags": null
          },
          "name": "stdout",
          "output_type": "stream",
          "text": [
            "sim_score = 0.370\n",
            "🧾 [BRACS_1912 ↔ BRACS_1778] S_hier=0.315, loss=0.0030\n"
          ]
        },
        {
          "metadata": {
            "tags": null
          },
          "name": "stderr",
          "output_type": "stream",
          "text": [
            "Epoch 10/10:  16%|█▌        | 8/50 [00:10<00:54,  1.30s/it]"
          ]
        },
        {
          "metadata": {
            "tags": null
          },
          "name": "stdout",
          "output_type": "stream",
          "text": [
            "sim_score = 0.175\n",
            "🧾 [BRACS_1361 ↔ BRACS_1974] S_hier=0.002, loss=0.0300\n"
          ]
        },
        {
          "metadata": {
            "tags": null
          },
          "name": "stderr",
          "output_type": "stream",
          "text": [
            "Epoch 10/10:  22%|██▏       | 11/50 [00:15<01:01,  1.56s/it]"
          ]
        },
        {
          "metadata": {
            "tags": null
          },
          "name": "stdout",
          "output_type": "stream",
          "text": [
            "sim_score = 0.239\n",
            "🧾 [BRACS_1934 ↔ BRACS_1395] S_hier=0.294, loss=0.0030\n"
          ]
        },
        {
          "metadata": {
            "tags": null
          },
          "name": "stderr",
          "output_type": "stream",
          "text": [
            "Epoch 10/10:  38%|███▊      | 19/50 [00:27<00:39,  1.28s/it]"
          ]
        },
        {
          "metadata": {
            "tags": null
          },
          "name": "stdout",
          "output_type": "stream",
          "text": [
            "sim_score = -0.078\n",
            "🧾 [BRACS_3301 ↔ BRACS_1499] S_hier=0.017, loss=0.0089\n"
          ]
        },
        {
          "metadata": {
            "tags": null
          },
          "name": "stderr",
          "output_type": "stream",
          "text": [
            "\rEpoch 10/10:  40%|████      | 20/50 [00:28<00:36,  1.21s/it]"
          ]
        },
        {
          "metadata": {
            "tags": null
          },
          "name": "stdout",
          "output_type": "stream",
          "text": [
            "sim_score = -0.116\n",
            "🧾 [BRACS_1394 ↔ BRACS_3295] S_hier=0.001, loss=0.0137\n"
          ]
        },
        {
          "metadata": {
            "tags": null
          },
          "name": "stderr",
          "output_type": "stream",
          "text": [
            "Epoch 10/10:  52%|█████▏    | 26/50 [00:36<00:29,  1.22s/it]"
          ]
        },
        {
          "metadata": {
            "tags": null
          },
          "name": "stdout",
          "output_type": "stream",
          "text": [
            "sim_score = 0.110\n",
            "🧾 [BRACS_3284 ↔ BRACS_1974] S_hier=0.013, loss=0.0094\n"
          ]
        },
        {
          "metadata": {
            "tags": null
          },
          "name": "stderr",
          "output_type": "stream",
          "text": [
            "\rEpoch 10/10:  54%|█████▍    | 27/50 [00:37<00:26,  1.16s/it]"
          ]
        },
        {
          "metadata": {
            "tags": null
          },
          "name": "stdout",
          "output_type": "stream",
          "text": [
            "sim_score = 0.204\n",
            "🧾 [BRACS_3284 ↔ BRACS_1932] S_hier=0.233, loss=0.0008\n"
          ]
        },
        {
          "metadata": {
            "tags": null
          },
          "name": "stderr",
          "output_type": "stream",
          "text": [
            "Epoch 10/10:  60%|██████    | 30/50 [00:42<00:29,  1.48s/it]"
          ]
        },
        {
          "metadata": {
            "tags": null
          },
          "name": "stdout",
          "output_type": "stream",
          "text": [
            "sim_score = 0.172\n",
            "🧾 [BRACS_1003716 ↔ BRACS_1609] S_hier=0.334, loss=0.0263\n"
          ]
        },
        {
          "metadata": {
            "tags": null
          },
          "name": "stderr",
          "output_type": "stream",
          "text": [
            "Epoch 10/10:  72%|███████▏  | 36/50 [00:50<00:19,  1.41s/it]"
          ]
        },
        {
          "metadata": {
            "tags": null
          },
          "name": "stdout",
          "output_type": "stream",
          "text": [
            "sim_score = 0.097\n",
            "🧾 [BRACS_3301 ↔ BRACS_1271] S_hier=0.018, loss=0.0062\n"
          ]
        },
        {
          "metadata": {
            "tags": null
          },
          "name": "stderr",
          "output_type": "stream",
          "text": [
            "Epoch 10/10:  90%|█████████ | 45/50 [01:02<00:06,  1.22s/it]"
          ]
        },
        {
          "metadata": {
            "tags": null
          },
          "name": "stdout",
          "output_type": "stream",
          "text": [
            "sim_score = 0.296\n",
            "🧾 [BRACS_1499 ↔ BRACS_1645] S_hier=0.015, loss=0.0791\n"
          ]
        },
        {
          "metadata": {
            "tags": null
          },
          "name": "stderr",
          "output_type": "stream",
          "text": [
            "\rEpoch 10/10:  92%|█████████▏| 46/50 [01:03<00:04,  1.10s/it]"
          ]
        },
        {
          "metadata": {
            "tags": null
          },
          "name": "stdout",
          "output_type": "stream",
          "text": [
            "sim_score = 0.039\n",
            "🧾 [BRACS_1271 ↔ BRACS_1003714] S_hier=0.016, loss=0.0005\n"
          ]
        },
        {
          "metadata": {
            "tags": null
          },
          "name": "stderr",
          "output_type": "stream",
          "text": [
            "Epoch 10/10: 100%|██████████| 50/50 [01:09<00:00,  1.39s/it]"
          ]
        },
        {
          "metadata": {
            "tags": null
          },
          "name": "stdout",
          "output_type": "stream",
          "text": [
            "✅ Epoch 10: Average Loss = 0.0217\n"
          ]
        },
        {
          "metadata": {
            "tags": null
          },
          "name": "stderr",
          "output_type": "stream",
          "text": [
            "\n"
          ]
        }
      ]
    },
    {
      "cell_type": "code",
      "source": [
        "\n",
        "import torch\n",
        "import torch.nn.functional as F\n",
        "from tqdm import tqdm\n",
        "import random\n",
        "\n",
        "device = torch.device(\"cuda\" if torch.cuda.is_available() else \"cpu\")\n",
        "\n",
        "# Model and optimizer\n",
        "scorer = SeparableLITEScorer(max_query_patches=256, max_doc_patches=256, hidden_dim=128).to(device)\n",
        "optimizer = torch.optim.Adam(scorer.parameters(), lr=1e-4)\n",
        "\n",
        "# Final similarity matrix (move to device)\n",
        "M_shier = M_shier.to(device)\n",
        "\n",
        "# MSE loss function\n",
        "def mse_similarity_loss(predicted_score, shier_score):\n",
        "    target = torch.tensor(shier_score, dtype=torch.float32, device=predicted_score.device)\n",
        "    return F.mse_loss(predicted_score, target)\n",
        "\n",
        "# Training loop\n",
        "num_epochs = 100\n",
        "save_every = 20\n",
        "bucket_name = 'bracs-dataset-bucket'\n",
        "\n",
        "for epoch in range(num_epochs):\n",
        "    scorer.train()\n",
        "    total_loss = 0\n",
        "\n",
        "    for batch in tqdm(train_loader, desc=f\"Epoch {epoch+1}/{num_epochs}\"):\n",
        "        # 1) Pull the whole batch (B=32):\n",
        "        # Shapes:\n",
        "        # q_embed, d_embed: [B, max_patches, emb_dim]\n",
        "        # q_mask,  d_mask:  [B, max_patches]\n",
        "        # y_q,     y_d:     [B, 7]\n",
        "        q_embed = batch['q_embed'].to(device)\n",
        "        d_embed = batch['d_embed'].to(device)\n",
        "        q_mask  = batch['q_mask'].to(device)\n",
        "        d_mask  = batch['d_mask'].to(device)\n",
        "        y_q     = batch['y_q'].to(device)\n",
        "        y_d     = batch['y_d'].to(device)\n",
        "\n",
        "        # 2) Normalize embeddings over the last dim:\n",
        "        q_norm = F.normalize(q_embed, p=2, dim=-1)  # [B, P, E]\n",
        "        d_norm = F.normalize(d_embed, p=2, dim=-1)  # [B, P, E]\n",
        "\n",
        "        # 3) Compute patch–patch similarity in parallel:\n",
        "        #    result: [B, P, P]\n",
        "        S = torch.matmul(q_norm, d_norm.transpose(1,2))\n",
        "\n",
        "        # 4) Run your LITE scorer on each matrix → [B] raw scores\n",
        "        sim_scores = scorer(S, q_mask, d_mask)  # [B]\n",
        "\n",
        "        # 5) Build the target S_hier for each of the B pairs\n",
        "        #    Here we use a list comprehension and stack:\n",
        "        s_hier = torch.stack([\n",
        "            compute_shier_similarity(y_q[i], y_d[i], M_shier)\n",
        "            for i in range(sim_scores.size(0))\n",
        "        ]).to(device)                            # [B]\n",
        "\n",
        "        # 6) Compute MSE loss over the batch and average\n",
        "        loss = F.mse_loss(sim_scores, s_hier)\n",
        "\n",
        "        # 7) Backpropagate once per batch of 32\n",
        "        optimizer.zero_grad()\n",
        "        loss.backward()\n",
        "        optimizer.step()\n",
        "\n",
        "        total_loss += loss.item()\n",
        "\n",
        "        # (Optional) print a few random scores for debugging\n",
        "        if random.random() < 0.05:\n",
        "            idx = random.randint(0, sim_scores.size(0)-1)\n",
        "            print(f\"sim_score[{idx}] = {sim_scores[idx]:.3f}, \"\n",
        "                  f\"S_hier = {s_hier[idx]:.3f}, loss = {(sim_scores[idx]-s_hier[idx]).pow(2):.4f}\")\n",
        "\n",
        "    avg_loss = total_loss / len(train_loader)\n",
        "    print(f\"✅ Epoch {epoch+1}: Average Loss = {avg_loss:.4f}\")\n",
        "\n",
        "    if (epoch + 1) % save_every == 0:\n",
        "        dest = f\"checkpoints/scorer_epoch{epoch+1}.pt\"\n",
        "        save_model_to_gcs(\n",
        "            model=scorer,\n",
        "            bucket_name=bucket_name,\n",
        "            destination_path=dest\n",
        "        )\n"
      ],
      "metadata": {
        "id": "_gtbXbzHA-2M",
        "outputId": "8c282ee9-7487-4b17-9458-438f898b105c",
        "colab": {
          "base_uri": "https://localhost:8080/",
          "height": 1000
        }
      },
      "id": "_gtbXbzHA-2M",
      "execution_count": 22,
      "outputs": [
        {
          "metadata": {
            "tags": null
          },
          "name": "stderr",
          "output_type": "stream",
          "text": [
            "Epoch 1/100:  76%|███████▌  | 38/50 [15:56<04:39, 23.25s/it]"
          ]
        },
        {
          "metadata": {
            "tags": null
          },
          "name": "stdout",
          "output_type": "stream",
          "text": [
            "sim_score[12] = -0.789, S_hier = 0.394, loss = 1.3994\n"
          ]
        },
        {
          "metadata": {
            "tags": null
          },
          "name": "stderr",
          "output_type": "stream",
          "text": [
            "Epoch 1/100: 100%|██████████| 50/50 [20:35<00:00, 24.70s/it]\n"
          ]
        },
        {
          "metadata": {
            "tags": null
          },
          "name": "stdout",
          "output_type": "stream",
          "text": [
            "✅ Epoch 1: Average Loss = 0.3299\n"
          ]
        },
        {
          "metadata": {
            "tags": null
          },
          "name": "stderr",
          "output_type": "stream",
          "text": [
            "Epoch 2/100:  28%|██▊       | 14/50 [05:27<13:55, 23.22s/it]"
          ]
        },
        {
          "metadata": {
            "tags": null
          },
          "name": "stdout",
          "output_type": "stream",
          "text": [
            "sim_score[18] = 0.444, S_hier = 0.161, loss = 0.0804\n"
          ]
        },
        {
          "metadata": {
            "tags": null
          },
          "name": "stderr",
          "output_type": "stream",
          "text": [
            "Epoch 2/100: 100%|██████████| 50/50 [20:33<00:00, 24.68s/it]\n"
          ]
        },
        {
          "metadata": {
            "tags": null
          },
          "name": "stdout",
          "output_type": "stream",
          "text": [
            "✅ Epoch 2: Average Loss = 0.1159\n"
          ]
        },
        {
          "metadata": {
            "tags": null
          },
          "name": "stderr",
          "output_type": "stream",
          "text": [
            "Epoch 3/100: 100%|██████████| 50/50 [19:19<00:00, 23.18s/it]\n"
          ]
        },
        {
          "metadata": {
            "tags": null
          },
          "name": "stdout",
          "output_type": "stream",
          "text": [
            "✅ Epoch 3: Average Loss = 0.0672\n"
          ]
        },
        {
          "metadata": {
            "tags": null
          },
          "name": "stderr",
          "output_type": "stream",
          "text": [
            "Epoch 4/100:   4%|▍         | 2/50 [00:47<19:05, 23.87s/it]"
          ]
        },
        {
          "metadata": {
            "tags": null
          },
          "name": "stdout",
          "output_type": "stream",
          "text": [
            "sim_score[4] = 0.054, S_hier = 0.312, loss = 0.0668\n"
          ]
        },
        {
          "metadata": {
            "tags": null
          },
          "name": "stderr",
          "output_type": "stream",
          "text": [
            "Epoch 4/100:  20%|██        | 10/50 [03:51<15:32, 23.31s/it]"
          ]
        },
        {
          "metadata": {
            "tags": null
          },
          "name": "stdout",
          "output_type": "stream",
          "text": [
            "sim_score[31] = 0.058, S_hier = 0.019, loss = 0.0015\n"
          ]
        },
        {
          "metadata": {
            "tags": null
          },
          "name": "stderr",
          "output_type": "stream",
          "text": [
            "Epoch 4/100:  38%|███▊      | 19/50 [07:20<12:06, 23.42s/it]"
          ]
        },
        {
          "metadata": {
            "tags": null
          },
          "name": "stdout",
          "output_type": "stream",
          "text": [
            "sim_score[1] = -0.182, S_hier = 0.016, loss = 0.0390\n"
          ]
        },
        {
          "metadata": {
            "tags": null
          },
          "name": "stderr",
          "output_type": "stream",
          "text": [
            "Epoch 4/100:  50%|█████     | 25/50 [09:36<09:27, 22.69s/it]"
          ]
        },
        {
          "metadata": {
            "tags": null
          },
          "name": "stdout",
          "output_type": "stream",
          "text": [
            "sim_score[26] = 0.325, S_hier = 0.119, loss = 0.0423\n"
          ]
        },
        {
          "metadata": {
            "tags": null
          },
          "name": "stderr",
          "output_type": "stream",
          "text": [
            "Epoch 4/100: 100%|██████████| 50/50 [19:16<00:00, 23.14s/it]\n"
          ]
        },
        {
          "metadata": {
            "tags": null
          },
          "name": "stdout",
          "output_type": "stream",
          "text": [
            "✅ Epoch 4: Average Loss = 0.0422\n"
          ]
        },
        {
          "metadata": {
            "tags": null
          },
          "name": "stderr",
          "output_type": "stream",
          "text": [
            "Epoch 5/100:  20%|██        | 10/50 [03:48<15:10, 22.75s/it]"
          ]
        },
        {
          "metadata": {
            "tags": null
          },
          "name": "stdout",
          "output_type": "stream",
          "text": [
            "sim_score[18] = 0.060, S_hier = 0.119, loss = 0.0035\n"
          ]
        },
        {
          "metadata": {
            "tags": null
          },
          "name": "stderr",
          "output_type": "stream",
          "text": [
            "Epoch 5/100:  38%|███▊      | 19/50 [07:20<12:05, 23.41s/it]"
          ]
        },
        {
          "metadata": {
            "tags": null
          },
          "name": "stdout",
          "output_type": "stream",
          "text": [
            "sim_score[11] = 0.212, S_hier = 0.254, loss = 0.0018\n"
          ]
        },
        {
          "metadata": {
            "tags": null
          },
          "name": "stderr",
          "output_type": "stream",
          "text": [
            "Epoch 5/100:  82%|████████▏ | 41/50 [17:01<03:33, 23.74s/it]"
          ]
        },
        {
          "metadata": {
            "tags": null
          },
          "name": "stdout",
          "output_type": "stream",
          "text": [
            "sim_score[29] = 0.528, S_hier = 0.500, loss = 0.0008\n"
          ]
        },
        {
          "metadata": {
            "tags": null
          },
          "name": "stderr",
          "output_type": "stream",
          "text": [
            "Epoch 5/100:  88%|████████▊ | 44/50 [18:09<02:17, 22.92s/it]"
          ]
        },
        {
          "metadata": {
            "tags": null
          },
          "name": "stdout",
          "output_type": "stream",
          "text": [
            "sim_score[13] = 0.336, S_hier = 0.251, loss = 0.0073\n"
          ]
        },
        {
          "metadata": {
            "tags": null
          },
          "name": "stderr",
          "output_type": "stream",
          "text": [
            "Epoch 5/100: 100%|██████████| 50/50 [20:30<00:00, 24.62s/it]\n"
          ]
        },
        {
          "metadata": {
            "tags": null
          },
          "name": "stdout",
          "output_type": "stream",
          "text": [
            "✅ Epoch 5: Average Loss = 0.0290\n"
          ]
        },
        {
          "metadata": {
            "tags": null
          },
          "name": "stderr",
          "output_type": "stream",
          "text": [
            "Epoch 6/100:  66%|██████▌   | 33/50 [12:47<06:37, 23.38s/it]"
          ]
        },
        {
          "metadata": {
            "tags": null
          },
          "name": "stdout",
          "output_type": "stream",
          "text": [
            "sim_score[25] = 0.231, S_hier = 0.016, loss = 0.0464\n"
          ]
        },
        {
          "metadata": {
            "tags": null
          },
          "name": "stderr",
          "output_type": "stream",
          "text": [
            "Epoch 6/100:  78%|███████▊  | 39/50 [15:07<04:17, 23.44s/it]"
          ]
        },
        {
          "metadata": {
            "tags": null
          },
          "name": "stdout",
          "output_type": "stream",
          "text": [
            "sim_score[8] = -0.014, S_hier = 0.017, loss = 0.0009\n"
          ]
        },
        {
          "metadata": {
            "tags": null
          },
          "name": "stderr",
          "output_type": "stream",
          "text": [
            "Epoch 6/100: 100%|██████████| 50/50 [19:23<00:00, 23.26s/it]\n"
          ]
        },
        {
          "metadata": {
            "tags": null
          },
          "name": "stdout",
          "output_type": "stream",
          "text": [
            "✅ Epoch 6: Average Loss = 0.0211\n"
          ]
        },
        {
          "metadata": {
            "tags": null
          },
          "name": "stderr",
          "output_type": "stream",
          "text": [
            "Epoch 7/100:  76%|███████▌  | 38/50 [14:35<04:38, 23.24s/it]"
          ]
        },
        {
          "metadata": {
            "tags": null
          },
          "name": "stdout",
          "output_type": "stream",
          "text": [
            "sim_score[22] = 0.598, S_hier = 0.500, loss = 0.0096\n"
          ]
        },
        {
          "metadata": {
            "tags": null
          },
          "name": "stderr",
          "output_type": "stream",
          "text": [
            "Epoch 7/100: 100%|██████████| 50/50 [19:13<00:00, 23.07s/it]\n"
          ]
        },
        {
          "metadata": {
            "tags": null
          },
          "name": "stdout",
          "output_type": "stream",
          "text": [
            "✅ Epoch 7: Average Loss = 0.0147\n"
          ]
        },
        {
          "metadata": {
            "tags": null
          },
          "name": "stderr",
          "output_type": "stream",
          "text": [
            "Epoch 8/100:   8%|▊         | 4/50 [01:32<17:51, 23.30s/it]"
          ]
        },
        {
          "metadata": {
            "tags": null
          },
          "name": "stdout",
          "output_type": "stream",
          "text": [
            "sim_score[21] = 0.549, S_hier = 0.500, loss = 0.0024\n"
          ]
        },
        {
          "metadata": {
            "tags": null
          },
          "name": "stderr",
          "output_type": "stream",
          "text": [
            "Epoch 8/100:  38%|███▊      | 19/50 [07:17<12:01, 23.29s/it]"
          ]
        },
        {
          "metadata": {
            "tags": null
          },
          "name": "stdout",
          "output_type": "stream",
          "text": [
            "sim_score[4] = 0.225, S_hier = 0.338, loss = 0.0127\n"
          ]
        },
        {
          "metadata": {
            "tags": null
          },
          "name": "stderr",
          "output_type": "stream",
          "text": [
            "Epoch 8/100:  64%|██████▍   | 32/50 [13:28<08:15, 27.55s/it]"
          ]
        },
        {
          "metadata": {
            "tags": null
          },
          "name": "stdout",
          "output_type": "stream",
          "text": [
            "sim_score[25] = 0.296, S_hier = 0.293, loss = 0.0000\n"
          ]
        },
        {
          "metadata": {
            "tags": null
          },
          "name": "stderr",
          "output_type": "stream",
          "text": [
            "\rEpoch 8/100:  66%|██████▌   | 33/50 [13:52<07:30, 26.49s/it]"
          ]
        },
        {
          "metadata": {
            "tags": null
          },
          "name": "stdout",
          "output_type": "stream",
          "text": [
            "sim_score[11] = 0.156, S_hier = 0.305, loss = 0.0220\n"
          ]
        },
        {
          "metadata": {
            "tags": null
          },
          "name": "stderr",
          "output_type": "stream",
          "text": [
            "Epoch 8/100:  88%|████████▊ | 44/50 [18:14<02:23, 23.90s/it]"
          ]
        },
        {
          "metadata": {
            "tags": null
          },
          "name": "stdout",
          "output_type": "stream",
          "text": [
            "sim_score[24] = 0.183, S_hier = 0.119, loss = 0.0040\n"
          ]
        },
        {
          "metadata": {
            "tags": null
          },
          "name": "stderr",
          "output_type": "stream",
          "text": [
            "Epoch 8/100: 100%|██████████| 50/50 [20:30<00:00, 24.62s/it]\n"
          ]
        },
        {
          "metadata": {
            "tags": null
          },
          "name": "stdout",
          "output_type": "stream",
          "text": [
            "✅ Epoch 8: Average Loss = 0.0108\n"
          ]
        },
        {
          "metadata": {
            "tags": null
          },
          "name": "stderr",
          "output_type": "stream",
          "text": [
            "Epoch 9/100:  26%|██▌       | 13/50 [04:59<14:17, 23.17s/it]"
          ]
        },
        {
          "metadata": {
            "tags": null
          },
          "name": "stdout",
          "output_type": "stream",
          "text": [
            "sim_score[14] = 0.651, S_hier = 0.571, loss = 0.0064\n"
          ]
        },
        {
          "metadata": {
            "tags": null
          },
          "name": "stderr",
          "output_type": "stream",
          "text": [
            "Epoch 9/100: 100%|██████████| 50/50 [19:13<00:00, 23.07s/it]\n"
          ]
        },
        {
          "metadata": {
            "tags": null
          },
          "name": "stdout",
          "output_type": "stream",
          "text": [
            "✅ Epoch 9: Average Loss = 0.0084\n"
          ]
        },
        {
          "metadata": {
            "tags": null
          },
          "name": "stderr",
          "output_type": "stream",
          "text": [
            "Epoch 10/100:  36%|███▌      | 18/50 [06:54<12:11, 22.85s/it]"
          ]
        },
        {
          "metadata": {
            "tags": null
          },
          "name": "stdout",
          "output_type": "stream",
          "text": [
            "sim_score[15] = -0.104, S_hier = 0.017, loss = 0.0146\n"
          ]
        },
        {
          "metadata": {
            "tags": null
          },
          "name": "stderr",
          "output_type": "stream",
          "text": [
            "Epoch 10/100:  58%|█████▊    | 29/50 [11:05<07:57, 22.72s/it]"
          ]
        },
        {
          "metadata": {
            "tags": null
          },
          "name": "stdout",
          "output_type": "stream",
          "text": [
            "sim_score[8] = -0.054, S_hier = 0.016, loss = 0.0049\n"
          ]
        },
        {
          "metadata": {
            "tags": null
          },
          "name": "stderr",
          "output_type": "stream",
          "text": [
            "Epoch 10/100: 100%|██████████| 50/50 [19:06<00:00, 22.93s/it]\n"
          ]
        },
        {
          "metadata": {
            "tags": null
          },
          "name": "stdout",
          "output_type": "stream",
          "text": [
            "✅ Epoch 10: Average Loss = 0.0068\n"
          ]
        },
        {
          "metadata": {
            "tags": null
          },
          "name": "stderr",
          "output_type": "stream",
          "text": [
            "Epoch 11/100:   2%|▏         | 1/50 [00:23<18:52, 23.12s/it]"
          ]
        },
        {
          "metadata": {
            "tags": null
          },
          "name": "stdout",
          "output_type": "stream",
          "text": [
            "sim_score[17] = 0.127, S_hier = 0.186, loss = 0.0035\n"
          ]
        },
        {
          "metadata": {
            "tags": null
          },
          "name": "stderr",
          "output_type": "stream",
          "text": [
            "Epoch 11/100:  42%|████▏     | 21/50 [08:06<11:02, 22.83s/it]"
          ]
        },
        {
          "metadata": {
            "tags": null
          },
          "name": "stdout",
          "output_type": "stream",
          "text": [
            "sim_score[26] = 0.341, S_hier = 0.348, loss = 0.0001\n"
          ]
        },
        {
          "metadata": {
            "tags": null
          },
          "name": "stderr",
          "output_type": "stream",
          "text": [
            "Epoch 11/100: 100%|██████████| 50/50 [20:33<00:00, 24.67s/it]\n"
          ]
        },
        {
          "metadata": {
            "tags": null
          },
          "name": "stdout",
          "output_type": "stream",
          "text": [
            "✅ Epoch 11: Average Loss = 0.0052\n"
          ]
        },
        {
          "metadata": {
            "tags": null
          },
          "name": "stderr",
          "output_type": "stream",
          "text": [
            "Epoch 12/100:  26%|██▌       | 13/50 [05:01<14:20, 23.24s/it]"
          ]
        },
        {
          "metadata": {
            "tags": null
          },
          "name": "stdout",
          "output_type": "stream",
          "text": [
            "sim_score[5] = 0.064, S_hier = 0.017, loss = 0.0023\n"
          ]
        },
        {
          "metadata": {
            "tags": null
          },
          "name": "stderr",
          "output_type": "stream",
          "text": [
            "Epoch 12/100: 100%|██████████| 50/50 [19:15<00:00, 23.12s/it]\n"
          ]
        },
        {
          "metadata": {
            "tags": null
          },
          "name": "stdout",
          "output_type": "stream",
          "text": [
            "✅ Epoch 12: Average Loss = 0.0043\n"
          ]
        },
        {
          "metadata": {
            "tags": null
          },
          "name": "stderr",
          "output_type": "stream",
          "text": [
            "Epoch 13/100:  66%|██████▌   | 33/50 [12:35<06:24, 22.61s/it]"
          ]
        },
        {
          "metadata": {
            "tags": null
          },
          "name": "stdout",
          "output_type": "stream",
          "text": [
            "sim_score[11] = 0.332, S_hier = 0.394, loss = 0.0039\n"
          ]
        },
        {
          "metadata": {
            "tags": null
          },
          "name": "stderr",
          "output_type": "stream",
          "text": [
            "Epoch 13/100:  74%|███████▍  | 37/50 [14:06<04:57, 22.88s/it]"
          ]
        },
        {
          "metadata": {
            "tags": null
          },
          "name": "stdout",
          "output_type": "stream",
          "text": [
            "sim_score[8] = 0.380, S_hier = 0.455, loss = 0.0057\n"
          ]
        },
        {
          "metadata": {
            "tags": null
          },
          "name": "stderr",
          "output_type": "stream",
          "text": [
            "Epoch 13/100: 100%|██████████| 50/50 [19:09<00:00, 23.00s/it]\n"
          ]
        },
        {
          "metadata": {
            "tags": null
          },
          "name": "stdout",
          "output_type": "stream",
          "text": [
            "✅ Epoch 13: Average Loss = 0.0036\n"
          ]
        },
        {
          "metadata": {
            "tags": null
          },
          "name": "stderr",
          "output_type": "stream",
          "text": [
            "Epoch 14/100:   8%|▊         | 4/50 [01:33<17:53, 23.33s/it]"
          ]
        },
        {
          "metadata": {
            "tags": null
          },
          "name": "stdout",
          "output_type": "stream",
          "text": [
            "sim_score[3] = 0.188, S_hier = 0.016, loss = 0.0296\n"
          ]
        },
        {
          "metadata": {
            "tags": null
          },
          "name": "stderr",
          "output_type": "stream",
          "text": [
            "Epoch 14/100:  46%|████▌     | 23/50 [08:47<10:18, 22.92s/it]"
          ]
        },
        {
          "metadata": {
            "tags": null
          },
          "name": "stdout",
          "output_type": "stream",
          "text": [
            "sim_score[15] = 0.097, S_hier = 0.016, loss = 0.0065\n"
          ]
        },
        {
          "metadata": {
            "tags": null
          },
          "name": "stderr",
          "output_type": "stream",
          "text": [
            "Epoch 14/100:  68%|██████▊   | 34/50 [13:58<08:54, 33.41s/it]"
          ]
        },
        {
          "metadata": {
            "tags": null
          },
          "name": "stdout",
          "output_type": "stream",
          "text": [
            "sim_score[0] = 0.412, S_hier = 0.422, loss = 0.0001\n"
          ]
        },
        {
          "metadata": {
            "tags": null
          },
          "name": "stderr",
          "output_type": "stream",
          "text": [
            "Epoch 14/100: 100%|██████████| 50/50 [20:24<00:00, 24.49s/it]\n"
          ]
        },
        {
          "metadata": {
            "tags": null
          },
          "name": "stdout",
          "output_type": "stream",
          "text": [
            "✅ Epoch 14: Average Loss = 0.0030\n"
          ]
        },
        {
          "metadata": {
            "tags": null
          },
          "name": "stderr",
          "output_type": "stream",
          "text": [
            "Epoch 15/100: 100%|██████████| 50/50 [19:10<00:00, 23.02s/it]\n"
          ]
        },
        {
          "metadata": {
            "tags": null
          },
          "name": "stdout",
          "output_type": "stream",
          "text": [
            "✅ Epoch 15: Average Loss = 0.0026\n"
          ]
        },
        {
          "metadata": {
            "tags": null
          },
          "name": "stderr",
          "output_type": "stream",
          "text": [
            "Epoch 16/100:  50%|█████     | 25/50 [09:34<09:25, 22.63s/it]"
          ]
        },
        {
          "metadata": {
            "tags": null
          },
          "name": "stdout",
          "output_type": "stream",
          "text": [
            "sim_score[31] = 0.064, S_hier = 0.016, loss = 0.0023\n"
          ]
        },
        {
          "metadata": {
            "tags": null
          },
          "name": "stderr",
          "output_type": "stream",
          "text": [
            "Epoch 16/100:  92%|█████████▏| 46/50 [17:35<01:31, 22.90s/it]"
          ]
        },
        {
          "metadata": {
            "tags": null
          },
          "name": "stdout",
          "output_type": "stream",
          "text": [
            "sim_score[11] = 0.254, S_hier = 0.293, loss = 0.0015\n"
          ]
        },
        {
          "metadata": {
            "tags": null
          },
          "name": "stderr",
          "output_type": "stream",
          "text": [
            "Epoch 16/100: 100%|██████████| 50/50 [19:06<00:00, 22.93s/it]\n"
          ]
        },
        {
          "metadata": {
            "tags": null
          },
          "name": "stdout",
          "output_type": "stream",
          "text": [
            "✅ Epoch 16: Average Loss = 0.0022\n"
          ]
        },
        {
          "metadata": {
            "tags": null
          },
          "name": "stderr",
          "output_type": "stream",
          "text": [
            "Epoch 17/100:  18%|█▊        | 9/50 [03:26<16:00, 23.42s/it]"
          ]
        },
        {
          "metadata": {
            "tags": null
          },
          "name": "stdout",
          "output_type": "stream",
          "text": [
            "sim_score[25] = 0.036, S_hier = 0.016, loss = 0.0004\n"
          ]
        },
        {
          "metadata": {
            "tags": null
          },
          "name": "stderr",
          "output_type": "stream",
          "text": [
            "Epoch 17/100:  22%|██▏       | 11/50 [04:14<15:24, 23.72s/it]"
          ]
        },
        {
          "metadata": {
            "tags": null
          },
          "name": "stdout",
          "output_type": "stream",
          "text": [
            "sim_score[23] = 0.116, S_hier = 0.106, loss = 0.0001\n"
          ]
        },
        {
          "metadata": {
            "tags": null
          },
          "name": "stderr",
          "output_type": "stream",
          "text": [
            "Epoch 17/100:  58%|█████▊    | 29/50 [11:11<08:08, 23.26s/it]"
          ]
        },
        {
          "metadata": {
            "tags": null
          },
          "name": "stdout",
          "output_type": "stream",
          "text": [
            "sim_score[15] = 0.065, S_hier = 0.004, loss = 0.0038\n"
          ]
        },
        {
          "metadata": {
            "tags": null
          },
          "name": "stderr",
          "output_type": "stream",
          "text": [
            "Epoch 17/100:  82%|████████▏ | 41/50 [16:57<04:10, 27.78s/it]"
          ]
        },
        {
          "metadata": {
            "tags": null
          },
          "name": "stdout",
          "output_type": "stream",
          "text": [
            "sim_score[0] = 0.217, S_hier = 0.251, loss = 0.0011\n"
          ]
        },
        {
          "metadata": {
            "tags": null
          },
          "name": "stderr",
          "output_type": "stream",
          "text": [
            "Epoch 17/100: 100%|██████████| 50/50 [20:27<00:00, 24.54s/it]\n"
          ]
        },
        {
          "metadata": {
            "tags": null
          },
          "name": "stdout",
          "output_type": "stream",
          "text": [
            "✅ Epoch 17: Average Loss = 0.0019\n"
          ]
        },
        {
          "metadata": {
            "tags": null
          },
          "name": "stderr",
          "output_type": "stream",
          "text": [
            "Epoch 18/100: 100%|██████████| 50/50 [19:13<00:00, 23.06s/it]\n"
          ]
        },
        {
          "metadata": {
            "tags": null
          },
          "name": "stdout",
          "output_type": "stream",
          "text": [
            "✅ Epoch 18: Average Loss = 0.0015\n"
          ]
        },
        {
          "metadata": {
            "tags": null
          },
          "name": "stderr",
          "output_type": "stream",
          "text": [
            "Epoch 19/100:  10%|█         | 5/50 [01:52<16:38, 22.19s/it]"
          ]
        },
        {
          "metadata": {
            "tags": null
          },
          "name": "stdout",
          "output_type": "stream",
          "text": [
            "sim_score[10] = 0.219, S_hier = 0.220, loss = 0.0000\n"
          ]
        },
        {
          "metadata": {
            "tags": null
          },
          "name": "stderr",
          "output_type": "stream",
          "text": [
            "Epoch 19/100:  16%|█▌        | 8/50 [03:01<15:50, 22.64s/it]"
          ]
        },
        {
          "metadata": {
            "tags": null
          },
          "name": "stdout",
          "output_type": "stream",
          "text": [
            "sim_score[15] = 0.063, S_hier = 0.046, loss = 0.0003\n"
          ]
        },
        {
          "metadata": {
            "tags": null
          },
          "name": "stderr",
          "output_type": "stream",
          "text": [
            "Epoch 19/100:  82%|████████▏ | 41/50 [15:35<03:21, 22.44s/it]"
          ]
        },
        {
          "metadata": {
            "tags": null
          },
          "name": "stdout",
          "output_type": "stream",
          "text": [
            "sim_score[28] = 0.485, S_hier = 0.500, loss = 0.0002\n"
          ]
        },
        {
          "metadata": {
            "tags": null
          },
          "name": "stderr",
          "output_type": "stream",
          "text": [
            "Epoch 19/100:  96%|█████████▌| 48/50 [18:16<00:46, 23.16s/it]"
          ]
        },
        {
          "metadata": {
            "tags": null
          },
          "name": "stdout",
          "output_type": "stream",
          "text": [
            "sim_score[9] = 0.068, S_hier = 0.119, loss = 0.0026\n"
          ]
        },
        {
          "metadata": {
            "tags": null
          },
          "name": "stderr",
          "output_type": "stream",
          "text": [
            "Epoch 19/100: 100%|██████████| 50/50 [19:02<00:00, 22.85s/it]\n"
          ]
        },
        {
          "metadata": {
            "tags": null
          },
          "name": "stdout",
          "output_type": "stream",
          "text": [
            "✅ Epoch 19: Average Loss = 0.0014\n"
          ]
        },
        {
          "metadata": {
            "tags": null
          },
          "name": "stderr",
          "output_type": "stream",
          "text": [
            "Epoch 20/100:  26%|██▌       | 13/50 [04:54<14:03, 22.81s/it]"
          ]
        },
        {
          "metadata": {
            "tags": null
          },
          "name": "stdout",
          "output_type": "stream",
          "text": [
            "sim_score[7] = 0.444, S_hier = 0.455, loss = 0.0001\n"
          ]
        },
        {
          "metadata": {
            "tags": null
          },
          "name": "stderr",
          "output_type": "stream",
          "text": [
            "\rEpoch 20/100:  28%|██▊       | 14/50 [05:18<13:49, 23.03s/it]"
          ]
        },
        {
          "metadata": {
            "tags": null
          },
          "name": "stdout",
          "output_type": "stream",
          "text": [
            "sim_score[14] = 0.240, S_hier = 0.235, loss = 0.0000\n"
          ]
        },
        {
          "metadata": {
            "tags": null
          },
          "name": "stderr",
          "output_type": "stream",
          "text": [
            "\rEpoch 20/100:  30%|███       | 15/50 [05:41<13:23, 22.95s/it]"
          ]
        },
        {
          "metadata": {
            "tags": null
          },
          "name": "stdout",
          "output_type": "stream",
          "text": [
            "sim_score[21] = 0.562, S_hier = 0.500, loss = 0.0038\n"
          ]
        },
        {
          "metadata": {
            "tags": null
          },
          "name": "stderr",
          "output_type": "stream",
          "text": [
            "Epoch 20/100:  68%|██████▊   | 34/50 [12:53<05:58, 22.39s/it]"
          ]
        },
        {
          "metadata": {
            "tags": null
          },
          "name": "stdout",
          "output_type": "stream",
          "text": [
            "sim_score[0] = -0.001, S_hier = 0.017, loss = 0.0003\n"
          ]
        },
        {
          "metadata": {
            "tags": null
          },
          "name": "stderr",
          "output_type": "stream",
          "text": [
            "Epoch 20/100:  96%|█████████▌| 48/50 [19:57<00:57, 28.58s/it]"
          ]
        },
        {
          "metadata": {
            "tags": null
          },
          "name": "stdout",
          "output_type": "stream",
          "text": [
            "sim_score[11] = 0.049, S_hier = 0.016, loss = 0.0011\n"
          ]
        },
        {
          "metadata": {
            "tags": null
          },
          "name": "stderr",
          "output_type": "stream",
          "text": [
            "Epoch 20/100: 100%|██████████| 50/50 [20:54<00:00, 25.08s/it]\n"
          ]
        },
        {
          "metadata": {
            "tags": null
          },
          "name": "stdout",
          "output_type": "stream",
          "text": [
            "✅ Epoch 20: Average Loss = 0.0012\n",
            "✅ Model saved to gs://bracs-dataset-bucket/checkpoints/scorer_epoch20.pt\n"
          ]
        },
        {
          "metadata": {
            "tags": null
          },
          "name": "stderr",
          "output_type": "stream",
          "text": [
            "Epoch 21/100:   4%|▍         | 2/50 [00:53<21:42, 27.13s/it]"
          ]
        },
        {
          "metadata": {
            "tags": null
          },
          "name": "stdout",
          "output_type": "stream",
          "text": [
            "sim_score[12] = 0.493, S_hier = 0.500, loss = 0.0000\n"
          ]
        },
        {
          "metadata": {
            "tags": null
          },
          "name": "stderr",
          "output_type": "stream",
          "text": [
            "Epoch 21/100:  44%|████▍     | 22/50 [09:28<12:02, 25.81s/it]"
          ]
        },
        {
          "metadata": {
            "tags": null
          },
          "name": "stdout",
          "output_type": "stream",
          "text": [
            "sim_score[27] = -0.006, S_hier = 0.016, loss = 0.0005\n"
          ]
        },
        {
          "metadata": {
            "tags": null
          },
          "name": "stderr",
          "output_type": "stream",
          "text": [
            "Epoch 21/100:  50%|█████     | 25/50 [11:00<11:46, 28.24s/it]"
          ]
        },
        {
          "metadata": {
            "tags": null
          },
          "name": "stdout",
          "output_type": "stream",
          "text": [
            "sim_score[0] = -0.008, S_hier = 0.015, loss = 0.0005\n"
          ]
        },
        {
          "metadata": {
            "tags": null
          },
          "name": "stderr",
          "output_type": "stream",
          "text": [
            "Epoch 21/100:  92%|█████████▏| 46/50 [19:54<01:32, 23.03s/it]"
          ]
        },
        {
          "metadata": {
            "tags": null
          },
          "name": "stdout",
          "output_type": "stream",
          "text": [
            "sim_score[1] = 0.291, S_hier = 0.274, loss = 0.0003\n"
          ]
        },
        {
          "metadata": {
            "tags": null
          },
          "name": "stderr",
          "output_type": "stream",
          "text": [
            "Epoch 21/100: 100%|██████████| 50/50 [21:27<00:00, 25.76s/it]\n"
          ]
        },
        {
          "metadata": {
            "tags": null
          },
          "name": "stdout",
          "output_type": "stream",
          "text": [
            "✅ Epoch 21: Average Loss = 0.0012\n"
          ]
        },
        {
          "metadata": {
            "tags": null
          },
          "name": "stderr",
          "output_type": "stream",
          "text": [
            "Epoch 22/100:  44%|████▍     | 22/50 [08:23<10:28, 22.46s/it]"
          ]
        },
        {
          "metadata": {
            "tags": null
          },
          "name": "stdout",
          "output_type": "stream",
          "text": [
            "sim_score[13] = -0.000, S_hier = 0.017, loss = 0.0003\n"
          ]
        },
        {
          "metadata": {
            "tags": null
          },
          "name": "stderr",
          "output_type": "stream",
          "text": [
            "Epoch 22/100:  72%|███████▏  | 36/50 [13:44<05:24, 23.18s/it]"
          ]
        },
        {
          "metadata": {
            "tags": null
          },
          "name": "stdout",
          "output_type": "stream",
          "text": [
            "sim_score[30] = 0.053, S_hier = 0.016, loss = 0.0013\n"
          ]
        },
        {
          "metadata": {
            "tags": null
          },
          "name": "stderr",
          "output_type": "stream",
          "text": [
            "Epoch 22/100:  78%|███████▊  | 39/50 [14:55<04:15, 23.24s/it]"
          ]
        },
        {
          "metadata": {
            "tags": null
          },
          "name": "stdout",
          "output_type": "stream",
          "text": [
            "sim_score[10] = 0.191, S_hier = 0.186, loss = 0.0000\n"
          ]
        },
        {
          "metadata": {
            "tags": null
          },
          "name": "stderr",
          "output_type": "stream",
          "text": [
            "Epoch 22/100:  94%|█████████▍| 47/50 [17:57<01:08, 22.71s/it]"
          ]
        },
        {
          "metadata": {
            "tags": null
          },
          "name": "stdout",
          "output_type": "stream",
          "text": [
            "sim_score[3] = 0.289, S_hier = 0.289, loss = 0.0000\n"
          ]
        },
        {
          "metadata": {
            "tags": null
          },
          "name": "stderr",
          "output_type": "stream",
          "text": [
            "Epoch 22/100: 100%|██████████| 50/50 [19:06<00:00, 22.93s/it]\n"
          ]
        },
        {
          "metadata": {
            "tags": null
          },
          "name": "stdout",
          "output_type": "stream",
          "text": [
            "✅ Epoch 22: Average Loss = 0.0012\n"
          ]
        },
        {
          "metadata": {
            "tags": null
          },
          "name": "stderr",
          "output_type": "stream",
          "text": [
            "Epoch 23/100:  20%|██        | 10/50 [03:45<14:53, 22.35s/it]"
          ]
        },
        {
          "metadata": {
            "tags": null
          },
          "name": "stdout",
          "output_type": "stream",
          "text": [
            "sim_score[29] = 0.456, S_hier = 0.500, loss = 0.0019\n"
          ]
        },
        {
          "metadata": {
            "tags": null
          },
          "name": "stderr",
          "output_type": "stream",
          "text": [
            "Epoch 23/100:  40%|████      | 20/50 [07:35<11:36, 23.21s/it]"
          ]
        },
        {
          "metadata": {
            "tags": null
          },
          "name": "stdout",
          "output_type": "stream",
          "text": [
            "sim_score[24] = 0.068, S_hier = 0.061, loss = 0.0001\n"
          ]
        },
        {
          "metadata": {
            "tags": null
          },
          "name": "stderr",
          "output_type": "stream",
          "text": [
            "Epoch 23/100:  60%|██████    | 30/50 [11:24<07:43, 23.15s/it]"
          ]
        },
        {
          "metadata": {
            "tags": null
          },
          "name": "stdout",
          "output_type": "stream",
          "text": [
            "sim_score[2] = 0.279, S_hier = 0.273, loss = 0.0000\n"
          ]
        },
        {
          "metadata": {
            "tags": null
          },
          "name": "stderr",
          "output_type": "stream",
          "text": [
            "Epoch 23/100: 100%|██████████| 50/50 [20:20<00:00, 24.42s/it]\n"
          ]
        },
        {
          "metadata": {
            "tags": null
          },
          "name": "stdout",
          "output_type": "stream",
          "text": [
            "✅ Epoch 23: Average Loss = 0.0012\n"
          ]
        },
        {
          "metadata": {
            "tags": null
          },
          "name": "stderr",
          "output_type": "stream",
          "text": [
            "Epoch 24/100: 100%|██████████| 50/50 [19:16<00:00, 23.13s/it]\n"
          ]
        },
        {
          "metadata": {
            "tags": null
          },
          "name": "stdout",
          "output_type": "stream",
          "text": [
            "✅ Epoch 24: Average Loss = 0.0011\n"
          ]
        },
        {
          "metadata": {
            "tags": null
          },
          "name": "stderr",
          "output_type": "stream",
          "text": [
            "Epoch 25/100:  62%|██████▏   | 31/50 [11:50<07:30, 23.71s/it]"
          ]
        },
        {
          "metadata": {
            "tags": null
          },
          "name": "stdout",
          "output_type": "stream",
          "text": [
            "sim_score[16] = 0.026, S_hier = 0.042, loss = 0.0003\n"
          ]
        },
        {
          "metadata": {
            "tags": null
          },
          "name": "stderr",
          "output_type": "stream",
          "text": [
            "Epoch 25/100: 100%|██████████| 50/50 [19:12<00:00, 23.06s/it]\n"
          ]
        },
        {
          "metadata": {
            "tags": null
          },
          "name": "stdout",
          "output_type": "stream",
          "text": [
            "✅ Epoch 25: Average Loss = 0.0011\n"
          ]
        },
        {
          "metadata": {
            "tags": null
          },
          "name": "stderr",
          "output_type": "stream",
          "text": [
            "Epoch 26/100:  54%|█████▍    | 27/50 [10:24<08:56, 23.34s/it]"
          ]
        },
        {
          "metadata": {
            "tags": null
          },
          "name": "stdout",
          "output_type": "stream",
          "text": [
            "sim_score[6] = 0.014, S_hier = 0.017, loss = 0.0000\n"
          ]
        },
        {
          "metadata": {
            "tags": null
          },
          "name": "stderr",
          "output_type": "stream",
          "text": [
            "Epoch 26/100: 100%|██████████| 50/50 [20:25<00:00, 24.51s/it]\n"
          ]
        },
        {
          "metadata": {
            "tags": null
          },
          "name": "stdout",
          "output_type": "stream",
          "text": [
            "✅ Epoch 26: Average Loss = 0.0009\n"
          ]
        },
        {
          "metadata": {
            "tags": null
          },
          "name": "stderr",
          "output_type": "stream",
          "text": [
            "Epoch 27/100:  40%|████      | 20/50 [07:43<11:29, 22.98s/it]"
          ]
        },
        {
          "metadata": {
            "tags": null
          },
          "name": "stdout",
          "output_type": "stream",
          "text": [
            "sim_score[7] = 0.001, S_hier = 0.004, loss = 0.0000\n"
          ]
        },
        {
          "metadata": {
            "tags": null
          },
          "name": "stderr",
          "output_type": "stream",
          "text": [
            "Epoch 27/100:  74%|███████▍  | 37/50 [14:16<04:59, 23.03s/it]"
          ]
        },
        {
          "metadata": {
            "tags": null
          },
          "name": "stdout",
          "output_type": "stream",
          "text": [
            "sim_score[24] = 0.499, S_hier = 0.500, loss = 0.0000\n"
          ]
        },
        {
          "metadata": {
            "tags": null
          },
          "name": "stderr",
          "output_type": "stream",
          "text": [
            "Epoch 27/100: 100%|██████████| 50/50 [19:22<00:00, 23.24s/it]\n"
          ]
        },
        {
          "metadata": {
            "tags": null
          },
          "name": "stdout",
          "output_type": "stream",
          "text": [
            "✅ Epoch 27: Average Loss = 0.0008\n"
          ]
        },
        {
          "metadata": {
            "tags": null
          },
          "name": "stderr",
          "output_type": "stream",
          "text": [
            "Epoch 28/100:  80%|████████  | 40/50 [15:21<03:52, 23.24s/it]"
          ]
        },
        {
          "metadata": {
            "tags": null
          },
          "name": "stdout",
          "output_type": "stream",
          "text": [
            "sim_score[6] = -0.022, S_hier = 0.016, loss = 0.0015\n"
          ]
        },
        {
          "metadata": {
            "tags": null
          },
          "name": "stderr",
          "output_type": "stream",
          "text": [
            "Epoch 28/100: 100%|██████████| 50/50 [19:07<00:00, 22.95s/it]\n"
          ]
        },
        {
          "metadata": {
            "tags": null
          },
          "name": "stdout",
          "output_type": "stream",
          "text": [
            "✅ Epoch 28: Average Loss = 0.0008\n"
          ]
        },
        {
          "metadata": {
            "tags": null
          },
          "name": "stderr",
          "output_type": "stream",
          "text": [
            "Epoch 29/100:  44%|████▍     | 22/50 [08:29<10:52, 23.30s/it]"
          ]
        },
        {
          "metadata": {
            "tags": null
          },
          "name": "stdout",
          "output_type": "stream",
          "text": [
            "sim_score[13] = 0.243, S_hier = 0.293, loss = 0.0025\n"
          ]
        },
        {
          "metadata": {
            "tags": null
          },
          "name": "stderr",
          "output_type": "stream",
          "text": [
            "Epoch 29/100:  84%|████████▍ | 42/50 [17:03<04:36, 34.59s/it]"
          ]
        },
        {
          "metadata": {
            "tags": null
          },
          "name": "stdout",
          "output_type": "stream",
          "text": [
            "sim_score[18] = 0.473, S_hier = 0.500, loss = 0.0007\n"
          ]
        },
        {
          "metadata": {
            "tags": null
          },
          "name": "stderr",
          "output_type": "stream",
          "text": [
            "Epoch 29/100: 100%|██████████| 50/50 [20:28<00:00, 24.57s/it]\n"
          ]
        },
        {
          "metadata": {
            "tags": null
          },
          "name": "stdout",
          "output_type": "stream",
          "text": [
            "✅ Epoch 29: Average Loss = 0.0010\n"
          ]
        },
        {
          "metadata": {
            "tags": null
          },
          "name": "stderr",
          "output_type": "stream",
          "text": [
            "Epoch 30/100: 100%|██████████| 50/50 [19:24<00:00, 23.29s/it]\n"
          ]
        },
        {
          "metadata": {
            "tags": null
          },
          "name": "stdout",
          "output_type": "stream",
          "text": [
            "✅ Epoch 30: Average Loss = 0.0010\n"
          ]
        },
        {
          "metadata": {
            "tags": null
          },
          "name": "stderr",
          "output_type": "stream",
          "text": [
            "Epoch 31/100:  18%|█▊        | 9/50 [03:27<15:48, 23.14s/it]"
          ]
        },
        {
          "metadata": {
            "tags": null
          },
          "name": "stdout",
          "output_type": "stream",
          "text": [
            "sim_score[30] = 0.252, S_hier = 0.251, loss = 0.0000\n"
          ]
        },
        {
          "metadata": {
            "tags": null
          },
          "name": "stderr",
          "output_type": "stream",
          "text": [
            "Epoch 31/100:  22%|██▏       | 11/50 [04:13<15:04, 23.20s/it]"
          ]
        },
        {
          "metadata": {
            "tags": null
          },
          "name": "stdout",
          "output_type": "stream",
          "text": [
            "sim_score[31] = 0.262, S_hier = 0.293, loss = 0.0010\n"
          ]
        },
        {
          "metadata": {
            "tags": null
          },
          "name": "stderr",
          "output_type": "stream",
          "text": [
            "Epoch 31/100:  52%|█████▏    | 26/50 [09:56<09:14, 23.10s/it]"
          ]
        },
        {
          "metadata": {
            "tags": null
          },
          "name": "stdout",
          "output_type": "stream",
          "text": [
            "sim_score[30] = 0.273, S_hier = 0.269, loss = 0.0000\n"
          ]
        },
        {
          "metadata": {
            "tags": null
          },
          "name": "stderr",
          "output_type": "stream",
          "text": [
            "Epoch 31/100: 100%|██████████| 50/50 [19:16<00:00, 23.13s/it]\n"
          ]
        },
        {
          "metadata": {
            "tags": null
          },
          "name": "stdout",
          "output_type": "stream",
          "text": [
            "✅ Epoch 31: Average Loss = 0.0009\n"
          ]
        },
        {
          "metadata": {
            "tags": null
          },
          "name": "stderr",
          "output_type": "stream",
          "text": [
            "Epoch 32/100: 100%|██████████| 50/50 [20:20<00:00, 24.41s/it]\n"
          ]
        },
        {
          "metadata": {
            "tags": null
          },
          "name": "stdout",
          "output_type": "stream",
          "text": [
            "✅ Epoch 32: Average Loss = 0.0011\n"
          ]
        },
        {
          "metadata": {
            "tags": null
          },
          "name": "stderr",
          "output_type": "stream",
          "text": [
            "Epoch 33/100:  10%|█         | 5/50 [01:56<17:27, 23.27s/it]"
          ]
        },
        {
          "metadata": {
            "tags": null
          },
          "name": "stdout",
          "output_type": "stream",
          "text": [
            "sim_score[2] = -0.011, S_hier = 0.016, loss = 0.0007\n"
          ]
        },
        {
          "metadata": {
            "tags": null
          },
          "name": "stderr",
          "output_type": "stream",
          "text": [
            "Epoch 33/100:  88%|████████▊ | 44/50 [16:57<02:15, 22.58s/it]"
          ]
        },
        {
          "metadata": {
            "tags": null
          },
          "name": "stdout",
          "output_type": "stream",
          "text": [
            "sim_score[16] = 0.114, S_hier = 0.052, loss = 0.0039\n"
          ]
        },
        {
          "metadata": {
            "tags": null
          },
          "name": "stderr",
          "output_type": "stream",
          "text": [
            "Epoch 33/100: 100%|██████████| 50/50 [19:15<00:00, 23.10s/it]\n"
          ]
        },
        {
          "metadata": {
            "tags": null
          },
          "name": "stdout",
          "output_type": "stream",
          "text": [
            "✅ Epoch 33: Average Loss = 0.0010\n"
          ]
        },
        {
          "metadata": {
            "tags": null
          },
          "name": "stderr",
          "output_type": "stream",
          "text": [
            "Epoch 34/100:  28%|██▊       | 14/50 [05:20<13:45, 22.93s/it]"
          ]
        },
        {
          "metadata": {
            "tags": null
          },
          "name": "stdout",
          "output_type": "stream",
          "text": [
            "sim_score[9] = 0.149, S_hier = 0.136, loss = 0.0002\n"
          ]
        },
        {
          "metadata": {
            "tags": null
          },
          "name": "stderr",
          "output_type": "stream",
          "text": [
            "Epoch 34/100:  58%|█████▊    | 29/50 [11:05<08:07, 23.21s/it]"
          ]
        },
        {
          "metadata": {
            "tags": null
          },
          "name": "stdout",
          "output_type": "stream",
          "text": [
            "sim_score[24] = 0.030, S_hier = 0.052, loss = 0.0005\n"
          ]
        },
        {
          "metadata": {
            "tags": null
          },
          "name": "stderr",
          "output_type": "stream",
          "text": [
            "Epoch 34/100: 100%|██████████| 50/50 [19:11<00:00, 23.03s/it]\n"
          ]
        },
        {
          "metadata": {
            "tags": null
          },
          "name": "stdout",
          "output_type": "stream",
          "text": [
            "✅ Epoch 34: Average Loss = 0.0011\n"
          ]
        },
        {
          "metadata": {
            "tags": null
          },
          "name": "stderr",
          "output_type": "stream",
          "text": [
            "Epoch 35/100:   6%|▌         | 3/50 [01:08<17:47, 22.71s/it]"
          ]
        },
        {
          "metadata": {
            "tags": null
          },
          "name": "stdout",
          "output_type": "stream",
          "text": [
            "sim_score[4] = 0.338, S_hier = 0.348, loss = 0.0001\n"
          ]
        },
        {
          "metadata": {
            "tags": null
          },
          "name": "stderr",
          "output_type": "stream",
          "text": [
            "Epoch 35/100:  44%|████▍     | 22/50 [08:21<10:32, 22.57s/it]"
          ]
        },
        {
          "metadata": {
            "tags": null
          },
          "name": "stdout",
          "output_type": "stream",
          "text": [
            "sim_score[9] = -0.039, S_hier = 0.016, loss = 0.0030\n"
          ]
        },
        {
          "metadata": {
            "tags": null
          },
          "name": "stderr",
          "output_type": "stream",
          "text": [
            "Epoch 35/100: 100%|██████████| 50/50 [20:13<00:00, 24.28s/it]\n"
          ]
        },
        {
          "metadata": {
            "tags": null
          },
          "name": "stdout",
          "output_type": "stream",
          "text": [
            "✅ Epoch 35: Average Loss = 0.0014\n"
          ]
        },
        {
          "metadata": {
            "tags": null
          },
          "name": "stderr",
          "output_type": "stream",
          "text": [
            "Epoch 36/100:  38%|███▊      | 19/50 [07:29<12:03, 23.35s/it]"
          ]
        },
        {
          "metadata": {
            "tags": null
          },
          "name": "stdout",
          "output_type": "stream",
          "text": [
            "sim_score[8] = 0.397, S_hier = 0.438, loss = 0.0017\n"
          ]
        },
        {
          "metadata": {
            "tags": null
          },
          "name": "stderr",
          "output_type": "stream",
          "text": [
            "Epoch 36/100:  42%|████▏     | 21/50 [08:15<11:09, 23.09s/it]"
          ]
        },
        {
          "metadata": {
            "tags": null
          },
          "name": "stdout",
          "output_type": "stream",
          "text": [
            "sim_score[15] = 0.048, S_hier = 0.016, loss = 0.0011\n"
          ]
        },
        {
          "metadata": {
            "tags": null
          },
          "name": "stderr",
          "output_type": "stream",
          "text": [
            "\rEpoch 36/100:  44%|████▍     | 22/50 [08:38<10:49, 23.19s/it]"
          ]
        },
        {
          "metadata": {
            "tags": null
          },
          "name": "stdout",
          "output_type": "stream",
          "text": [
            "sim_score[29] = 0.145, S_hier = 0.225, loss = 0.0064\n"
          ]
        },
        {
          "metadata": {
            "tags": null
          },
          "name": "stderr",
          "output_type": "stream",
          "text": [
            "Epoch 36/100:  48%|████▊     | 24/50 [09:26<10:08, 23.39s/it]"
          ]
        },
        {
          "metadata": {
            "tags": null
          },
          "name": "stdout",
          "output_type": "stream",
          "text": [
            "sim_score[3] = 0.361, S_hier = 0.348, loss = 0.0002\n"
          ]
        },
        {
          "metadata": {
            "tags": null
          },
          "name": "stderr",
          "output_type": "stream",
          "text": [
            "Epoch 36/100:  82%|████████▏ | 41/50 [15:55<03:28, 23.15s/it]"
          ]
        },
        {
          "metadata": {
            "tags": null
          },
          "name": "stdout",
          "output_type": "stream",
          "text": [
            "sim_score[25] = 0.290, S_hier = 0.348, loss = 0.0034\n"
          ]
        },
        {
          "metadata": {
            "tags": null
          },
          "name": "stderr",
          "output_type": "stream",
          "text": [
            "Epoch 36/100: 100%|██████████| 50/50 [19:24<00:00, 23.28s/it]\n"
          ]
        },
        {
          "metadata": {
            "tags": null
          },
          "name": "stdout",
          "output_type": "stream",
          "text": [
            "✅ Epoch 36: Average Loss = 0.0028\n"
          ]
        },
        {
          "metadata": {
            "tags": null
          },
          "name": "stderr",
          "output_type": "stream",
          "text": [
            "Epoch 37/100:  10%|█         | 5/50 [01:52<16:54, 22.54s/it]"
          ]
        },
        {
          "metadata": {
            "tags": null
          },
          "name": "stdout",
          "output_type": "stream",
          "text": [
            "sim_score[23] = -0.002, S_hier = 0.010, loss = 0.0001\n"
          ]
        },
        {
          "metadata": {
            "tags": null
          },
          "name": "stderr",
          "output_type": "stream",
          "text": [
            "Epoch 37/100:  54%|█████▍    | 27/50 [10:41<09:05, 23.73s/it]"
          ]
        },
        {
          "metadata": {
            "tags": null
          },
          "name": "stdout",
          "output_type": "stream",
          "text": [
            "sim_score[3] = 0.508, S_hier = 0.500, loss = 0.0001\n"
          ]
        },
        {
          "metadata": {
            "tags": null
          },
          "name": "stderr",
          "output_type": "stream",
          "text": [
            "Epoch 37/100:  70%|███████   | 35/50 [13:49<05:52, 23.51s/it]"
          ]
        },
        {
          "metadata": {
            "tags": null
          },
          "name": "stdout",
          "output_type": "stream",
          "text": [
            "sim_score[18] = -0.052, S_hier = 0.016, loss = 0.0046\n"
          ]
        },
        {
          "metadata": {
            "tags": null
          },
          "name": "stderr",
          "output_type": "stream",
          "text": [
            "Epoch 37/100: 100%|██████████| 50/50 [19:34<00:00, 23.48s/it]\n"
          ]
        },
        {
          "metadata": {
            "tags": null
          },
          "name": "stdout",
          "output_type": "stream",
          "text": [
            "✅ Epoch 37: Average Loss = 0.0044\n"
          ]
        },
        {
          "metadata": {
            "tags": null
          },
          "name": "stderr",
          "output_type": "stream",
          "text": [
            "Epoch 38/100:   2%|▏         | 1/50 [00:23<18:55, 23.17s/it]"
          ]
        },
        {
          "metadata": {
            "tags": null
          },
          "name": "stdout",
          "output_type": "stream",
          "text": [
            "sim_score[23] = 0.367, S_hier = 0.438, loss = 0.0050\n"
          ]
        },
        {
          "metadata": {
            "tags": null
          },
          "name": "stderr",
          "output_type": "stream",
          "text": [
            "Epoch 38/100:  20%|██        | 10/50 [03:53<15:33, 23.33s/it]"
          ]
        },
        {
          "metadata": {
            "tags": null
          },
          "name": "stdout",
          "output_type": "stream",
          "text": [
            "sim_score[9] = -0.020, S_hier = 0.019, loss = 0.0015\n"
          ]
        },
        {
          "metadata": {
            "tags": null
          },
          "name": "stderr",
          "output_type": "stream",
          "text": [
            "Epoch 38/100:  42%|████▏     | 21/50 [08:05<11:02, 22.84s/it]"
          ]
        },
        {
          "metadata": {
            "tags": null
          },
          "name": "stdout",
          "output_type": "stream",
          "text": [
            "sim_score[18] = -0.079, S_hier = 0.042, loss = 0.0146\n"
          ]
        },
        {
          "metadata": {
            "tags": null
          },
          "name": "stderr",
          "output_type": "stream",
          "text": [
            "Epoch 38/100:  82%|████████▏ | 41/50 [15:45<03:25, 22.84s/it]"
          ]
        },
        {
          "metadata": {
            "tags": null
          },
          "name": "stdout",
          "output_type": "stream",
          "text": [
            "sim_score[12] = 0.446, S_hier = 0.500, loss = 0.0029\n"
          ]
        },
        {
          "metadata": {
            "tags": null
          },
          "name": "stderr",
          "output_type": "stream",
          "text": [
            "Epoch 38/100:  88%|████████▊ | 44/50 [16:54<02:18, 23.01s/it]"
          ]
        },
        {
          "metadata": {
            "tags": null
          },
          "name": "stdout",
          "output_type": "stream",
          "text": [
            "sim_score[7] = 0.048, S_hier = 0.016, loss = 0.0011\n"
          ]
        },
        {
          "metadata": {
            "tags": null
          },
          "name": "stderr",
          "output_type": "stream",
          "text": [
            "Epoch 38/100: 100%|██████████| 50/50 [20:05<00:00, 24.11s/it]\n"
          ]
        },
        {
          "metadata": {
            "tags": null
          },
          "name": "stdout",
          "output_type": "stream",
          "text": [
            "✅ Epoch 38: Average Loss = 0.0056\n"
          ]
        },
        {
          "metadata": {
            "tags": null
          },
          "name": "stderr",
          "output_type": "stream",
          "text": [
            "Epoch 39/100:  72%|███████▏  | 36/50 [14:09<05:22, 23.04s/it]"
          ]
        },
        {
          "metadata": {
            "tags": null
          },
          "name": "stdout",
          "output_type": "stream",
          "text": [
            "sim_score[0] = 0.269, S_hier = 0.260, loss = 0.0001\n"
          ]
        },
        {
          "metadata": {
            "tags": null
          },
          "name": "stderr",
          "output_type": "stream",
          "text": [
            "Epoch 39/100: 100%|██████████| 50/50 [19:31<00:00, 23.42s/it]\n"
          ]
        },
        {
          "metadata": {
            "tags": null
          },
          "name": "stdout",
          "output_type": "stream",
          "text": [
            "✅ Epoch 39: Average Loss = 0.0048\n"
          ]
        },
        {
          "metadata": {
            "tags": null
          },
          "name": "stderr",
          "output_type": "stream",
          "text": [
            "Epoch 40/100:   2%|▏         | 1/50 [00:22<18:31, 22.69s/it]"
          ]
        },
        {
          "metadata": {
            "tags": null
          },
          "name": "stdout",
          "output_type": "stream",
          "text": [
            "sim_score[14] = 0.288, S_hier = 0.225, loss = 0.0039\n"
          ]
        },
        {
          "metadata": {
            "tags": null
          },
          "name": "stderr",
          "output_type": "stream",
          "text": [
            "Epoch 40/100:  36%|███▌      | 18/50 [06:53<12:14, 22.95s/it]"
          ]
        },
        {
          "metadata": {
            "tags": null
          },
          "name": "stdout",
          "output_type": "stream",
          "text": [
            "sim_score[14] = 0.284, S_hier = 0.389, loss = 0.0111\n"
          ]
        },
        {
          "metadata": {
            "tags": null
          },
          "name": "stderr",
          "output_type": "stream",
          "text": [
            "Epoch 40/100: 100%|██████████| 50/50 [19:15<00:00, 23.11s/it]\n"
          ]
        },
        {
          "metadata": {
            "tags": null
          },
          "name": "stdout",
          "output_type": "stream",
          "text": [
            "✅ Epoch 40: Average Loss = 0.0046\n",
            "✅ Model saved to gs://bracs-dataset-bucket/checkpoints/scorer_epoch40.pt\n"
          ]
        },
        {
          "metadata": {
            "tags": null
          },
          "name": "stderr",
          "output_type": "stream",
          "text": [
            "Epoch 41/100:   4%|▍         | 2/50 [00:45<18:21, 22.94s/it]"
          ]
        },
        {
          "metadata": {
            "tags": null
          },
          "name": "stdout",
          "output_type": "stream",
          "text": [
            "sim_score[24] = 0.071, S_hier = 0.197, loss = 0.0158\n"
          ]
        },
        {
          "metadata": {
            "tags": null
          },
          "name": "stderr",
          "output_type": "stream",
          "text": [
            "Epoch 41/100:  28%|██▊       | 14/50 [05:19<13:55, 23.20s/it]"
          ]
        },
        {
          "metadata": {
            "tags": null
          },
          "name": "stdout",
          "output_type": "stream",
          "text": [
            "sim_score[8] = 0.164, S_hier = 0.220, loss = 0.0032\n"
          ]
        },
        {
          "metadata": {
            "tags": null
          },
          "name": "stderr",
          "output_type": "stream",
          "text": [
            "Epoch 41/100:  48%|████▊     | 24/50 [09:16<10:10, 23.48s/it]"
          ]
        },
        {
          "metadata": {
            "tags": null
          },
          "name": "stdout",
          "output_type": "stream",
          "text": [
            "sim_score[5] = 0.287, S_hier = 0.312, loss = 0.0006\n"
          ]
        },
        {
          "metadata": {
            "tags": null
          },
          "name": "stderr",
          "output_type": "stream",
          "text": [
            "Epoch 41/100:  80%|████████  | 40/50 [15:28<03:51, 23.11s/it]"
          ]
        },
        {
          "metadata": {
            "tags": null
          },
          "name": "stdout",
          "output_type": "stream",
          "text": [
            "sim_score[2] = 0.034, S_hier = 0.016, loss = 0.0003\n"
          ]
        },
        {
          "metadata": {
            "tags": null
          },
          "name": "stderr",
          "output_type": "stream",
          "text": [
            "Epoch 41/100: 100%|██████████| 50/50 [19:19<00:00, 23.19s/it]\n"
          ]
        },
        {
          "metadata": {
            "tags": null
          },
          "name": "stdout",
          "output_type": "stream",
          "text": [
            "✅ Epoch 41: Average Loss = 0.0040\n"
          ]
        },
        {
          "metadata": {
            "tags": null
          },
          "name": "stderr",
          "output_type": "stream",
          "text": [
            "Epoch 42/100:   2%|▏         | 1/50 [00:53<43:35, 53.39s/it]"
          ]
        },
        {
          "metadata": {
            "tags": null
          },
          "name": "stdout",
          "output_type": "stream",
          "text": [
            "sim_score[28] = 0.207, S_hier = 0.197, loss = 0.0001\n"
          ]
        },
        {
          "metadata": {
            "tags": null
          },
          "name": "stderr",
          "output_type": "stream",
          "text": [
            "Epoch 42/100:  66%|██████▌   | 33/50 [14:03<06:38, 23.44s/it]"
          ]
        },
        {
          "metadata": {
            "tags": null
          },
          "name": "stdout",
          "output_type": "stream",
          "text": [
            "sim_score[9] = 0.357, S_hier = 0.348, loss = 0.0001\n"
          ]
        },
        {
          "metadata": {
            "tags": null
          },
          "name": "stderr",
          "output_type": "stream",
          "text": [
            "Epoch 42/100: 100%|██████████| 50/50 [20:38<00:00, 24.78s/it]\n"
          ]
        },
        {
          "metadata": {
            "tags": null
          },
          "name": "stdout",
          "output_type": "stream",
          "text": [
            "✅ Epoch 42: Average Loss = 0.0042\n"
          ]
        },
        {
          "metadata": {
            "tags": null
          },
          "name": "stderr",
          "output_type": "stream",
          "text": [
            "Epoch 43/100:  34%|███▍      | 17/50 [06:35<12:39, 23.03s/it]"
          ]
        },
        {
          "metadata": {
            "tags": null
          },
          "name": "stdout",
          "output_type": "stream",
          "text": [
            "sim_score[15] = 0.390, S_hier = 0.500, loss = 0.0122\n"
          ]
        },
        {
          "metadata": {
            "tags": null
          },
          "name": "stderr",
          "output_type": "stream",
          "text": [
            "Epoch 43/100:  62%|██████▏   | 31/50 [12:02<07:18, 23.10s/it]"
          ]
        },
        {
          "metadata": {
            "tags": null
          },
          "name": "stdout",
          "output_type": "stream",
          "text": [
            "sim_score[6] = -0.069, S_hier = 0.016, loss = 0.0072\n"
          ]
        },
        {
          "metadata": {
            "tags": null
          },
          "name": "stderr",
          "output_type": "stream",
          "text": [
            "Epoch 43/100: 100%|██████████| 50/50 [19:21<00:00, 23.23s/it]\n"
          ]
        },
        {
          "metadata": {
            "tags": null
          },
          "name": "stdout",
          "output_type": "stream",
          "text": [
            "✅ Epoch 43: Average Loss = 0.0050\n"
          ]
        },
        {
          "metadata": {
            "tags": null
          },
          "name": "stderr",
          "output_type": "stream",
          "text": [
            "Epoch 44/100:  36%|███▌      | 18/50 [06:58<12:30, 23.45s/it]"
          ]
        },
        {
          "metadata": {
            "tags": null
          },
          "name": "stdout",
          "output_type": "stream",
          "text": [
            "sim_score[5] = 0.009, S_hier = 0.042, loss = 0.0011\n"
          ]
        },
        {
          "metadata": {
            "tags": null
          },
          "name": "stderr",
          "output_type": "stream",
          "text": [
            "Epoch 44/100:  62%|██████▏   | 31/50 [11:57<07:19, 23.15s/it]"
          ]
        },
        {
          "metadata": {
            "tags": null
          },
          "name": "stdout",
          "output_type": "stream",
          "text": [
            "sim_score[12] = 0.565, S_hier = 0.681, loss = 0.0136\n"
          ]
        },
        {
          "output_type": "stream",
          "name": "stderr",
          "text": [
            "Epoch 44/100:  84%|████████▍ | 42/50 [16:11<03:01, 22.69s/it]"
          ]
        },
        {
          "output_type": "stream",
          "name": "stdout",
          "text": [
            "sim_score[26] = -0.060, S_hier = 0.042, loss = 0.0103\n"
          ]
        },
        {
          "output_type": "stream",
          "name": "stderr",
          "text": [
            "\rEpoch 44/100:  86%|████████▌ | 43/50 [16:33<02:37, 22.44s/it]"
          ]
        },
        {
          "output_type": "stream",
          "name": "stdout",
          "text": [
            "sim_score[12] = 0.340, S_hier = 0.251, loss = 0.0080\n"
          ]
        },
        {
          "output_type": "stream",
          "name": "stderr",
          "text": [
            "Epoch 44/100: 100%|██████████| 50/50 [19:15<00:00, 23.10s/it]\n"
          ]
        },
        {
          "output_type": "stream",
          "name": "stdout",
          "text": [
            "✅ Epoch 44: Average Loss = 0.0055\n"
          ]
        },
        {
          "output_type": "stream",
          "name": "stderr",
          "text": [
            "Epoch 45/100:  14%|█▍        | 7/50 [03:49<23:32, 32.84s/it]\n"
          ]
        },
        {
          "output_type": "error",
          "ename": "KeyboardInterrupt",
          "evalue": "",
          "traceback": [
            "\u001b[0;31m---------------------------------------------------------------------------\u001b[0m",
            "\u001b[0;31mKeyboardInterrupt\u001b[0m                         Traceback (most recent call last)",
            "\u001b[0;32m/tmp/ipython-input-2833747429.py\u001b[0m in \u001b[0;36m<cell line: 0>\u001b[0;34m()\u001b[0m\n\u001b[1;32m     27\u001b[0m     \u001b[0mtotal_loss\u001b[0m \u001b[0;34m=\u001b[0m \u001b[0;36m0\u001b[0m\u001b[0;34m\u001b[0m\u001b[0;34m\u001b[0m\u001b[0m\n\u001b[1;32m     28\u001b[0m \u001b[0;34m\u001b[0m\u001b[0m\n\u001b[0;32m---> 29\u001b[0;31m     \u001b[0;32mfor\u001b[0m \u001b[0mbatch\u001b[0m \u001b[0;32min\u001b[0m \u001b[0mtqdm\u001b[0m\u001b[0;34m(\u001b[0m\u001b[0mtrain_loader\u001b[0m\u001b[0;34m,\u001b[0m \u001b[0mdesc\u001b[0m\u001b[0;34m=\u001b[0m\u001b[0;34mf\"Epoch {epoch+1}/{num_epochs}\"\u001b[0m\u001b[0;34m)\u001b[0m\u001b[0;34m:\u001b[0m\u001b[0;34m\u001b[0m\u001b[0;34m\u001b[0m\u001b[0m\n\u001b[0m\u001b[1;32m     30\u001b[0m         \u001b[0;31m# 1) Pull the whole batch (B=32):\u001b[0m\u001b[0;34m\u001b[0m\u001b[0;34m\u001b[0m\u001b[0m\n\u001b[1;32m     31\u001b[0m         \u001b[0;31m# Shapes:\u001b[0m\u001b[0;34m\u001b[0m\u001b[0;34m\u001b[0m\u001b[0m\n",
            "\u001b[0;32m/usr/local/lib/python3.11/dist-packages/tqdm/std.py\u001b[0m in \u001b[0;36m__iter__\u001b[0;34m(self)\u001b[0m\n\u001b[1;32m   1179\u001b[0m \u001b[0;34m\u001b[0m\u001b[0m\n\u001b[1;32m   1180\u001b[0m         \u001b[0;32mtry\u001b[0m\u001b[0;34m:\u001b[0m\u001b[0;34m\u001b[0m\u001b[0;34m\u001b[0m\u001b[0m\n\u001b[0;32m-> 1181\u001b[0;31m             \u001b[0;32mfor\u001b[0m \u001b[0mobj\u001b[0m \u001b[0;32min\u001b[0m \u001b[0miterable\u001b[0m\u001b[0;34m:\u001b[0m\u001b[0;34m\u001b[0m\u001b[0;34m\u001b[0m\u001b[0m\n\u001b[0m\u001b[1;32m   1182\u001b[0m                 \u001b[0;32myield\u001b[0m \u001b[0mobj\u001b[0m\u001b[0;34m\u001b[0m\u001b[0;34m\u001b[0m\u001b[0m\n\u001b[1;32m   1183\u001b[0m                 \u001b[0;31m# Update and possibly print the progressbar.\u001b[0m\u001b[0;34m\u001b[0m\u001b[0;34m\u001b[0m\u001b[0m\n",
            "\u001b[0;32m/usr/local/lib/python3.11/dist-packages/torch/utils/data/dataloader.py\u001b[0m in \u001b[0;36m__next__\u001b[0;34m(self)\u001b[0m\n\u001b[1;32m    706\u001b[0m                 \u001b[0;31m# TODO(https://github.com/pytorch/pytorch/issues/76750)\u001b[0m\u001b[0;34m\u001b[0m\u001b[0;34m\u001b[0m\u001b[0m\n\u001b[1;32m    707\u001b[0m                 \u001b[0mself\u001b[0m\u001b[0;34m.\u001b[0m\u001b[0m_reset\u001b[0m\u001b[0;34m(\u001b[0m\u001b[0;34m)\u001b[0m  \u001b[0;31m# type: ignore[call-arg]\u001b[0m\u001b[0;34m\u001b[0m\u001b[0;34m\u001b[0m\u001b[0m\n\u001b[0;32m--> 708\u001b[0;31m             \u001b[0mdata\u001b[0m \u001b[0;34m=\u001b[0m \u001b[0mself\u001b[0m\u001b[0;34m.\u001b[0m\u001b[0m_next_data\u001b[0m\u001b[0;34m(\u001b[0m\u001b[0;34m)\u001b[0m\u001b[0;34m\u001b[0m\u001b[0;34m\u001b[0m\u001b[0m\n\u001b[0m\u001b[1;32m    709\u001b[0m             \u001b[0mself\u001b[0m\u001b[0;34m.\u001b[0m\u001b[0m_num_yielded\u001b[0m \u001b[0;34m+=\u001b[0m \u001b[0;36m1\u001b[0m\u001b[0;34m\u001b[0m\u001b[0;34m\u001b[0m\u001b[0m\n\u001b[1;32m    710\u001b[0m             if (\n",
            "\u001b[0;32m/usr/local/lib/python3.11/dist-packages/torch/utils/data/dataloader.py\u001b[0m in \u001b[0;36m_next_data\u001b[0;34m(self)\u001b[0m\n\u001b[1;32m    762\u001b[0m     \u001b[0;32mdef\u001b[0m \u001b[0m_next_data\u001b[0m\u001b[0;34m(\u001b[0m\u001b[0mself\u001b[0m\u001b[0;34m)\u001b[0m\u001b[0;34m:\u001b[0m\u001b[0;34m\u001b[0m\u001b[0;34m\u001b[0m\u001b[0m\n\u001b[1;32m    763\u001b[0m         \u001b[0mindex\u001b[0m \u001b[0;34m=\u001b[0m \u001b[0mself\u001b[0m\u001b[0;34m.\u001b[0m\u001b[0m_next_index\u001b[0m\u001b[0;34m(\u001b[0m\u001b[0;34m)\u001b[0m  \u001b[0;31m# may raise StopIteration\u001b[0m\u001b[0;34m\u001b[0m\u001b[0;34m\u001b[0m\u001b[0m\n\u001b[0;32m--> 764\u001b[0;31m         \u001b[0mdata\u001b[0m \u001b[0;34m=\u001b[0m \u001b[0mself\u001b[0m\u001b[0;34m.\u001b[0m\u001b[0m_dataset_fetcher\u001b[0m\u001b[0;34m.\u001b[0m\u001b[0mfetch\u001b[0m\u001b[0;34m(\u001b[0m\u001b[0mindex\u001b[0m\u001b[0;34m)\u001b[0m  \u001b[0;31m# may raise StopIteration\u001b[0m\u001b[0;34m\u001b[0m\u001b[0;34m\u001b[0m\u001b[0m\n\u001b[0m\u001b[1;32m    765\u001b[0m         \u001b[0;32mif\u001b[0m \u001b[0mself\u001b[0m\u001b[0;34m.\u001b[0m\u001b[0m_pin_memory\u001b[0m\u001b[0;34m:\u001b[0m\u001b[0;34m\u001b[0m\u001b[0;34m\u001b[0m\u001b[0m\n\u001b[1;32m    766\u001b[0m             \u001b[0mdata\u001b[0m \u001b[0;34m=\u001b[0m \u001b[0m_utils\u001b[0m\u001b[0;34m.\u001b[0m\u001b[0mpin_memory\u001b[0m\u001b[0;34m.\u001b[0m\u001b[0mpin_memory\u001b[0m\u001b[0;34m(\u001b[0m\u001b[0mdata\u001b[0m\u001b[0;34m,\u001b[0m \u001b[0mself\u001b[0m\u001b[0;34m.\u001b[0m\u001b[0m_pin_memory_device\u001b[0m\u001b[0;34m)\u001b[0m\u001b[0;34m\u001b[0m\u001b[0;34m\u001b[0m\u001b[0m\n",
            "\u001b[0;32m/usr/local/lib/python3.11/dist-packages/torch/utils/data/_utils/fetch.py\u001b[0m in \u001b[0;36mfetch\u001b[0;34m(self, possibly_batched_index)\u001b[0m\n\u001b[1;32m     50\u001b[0m                 \u001b[0mdata\u001b[0m \u001b[0;34m=\u001b[0m \u001b[0mself\u001b[0m\u001b[0;34m.\u001b[0m\u001b[0mdataset\u001b[0m\u001b[0;34m.\u001b[0m\u001b[0m__getitems__\u001b[0m\u001b[0;34m(\u001b[0m\u001b[0mpossibly_batched_index\u001b[0m\u001b[0;34m)\u001b[0m\u001b[0;34m\u001b[0m\u001b[0;34m\u001b[0m\u001b[0m\n\u001b[1;32m     51\u001b[0m             \u001b[0;32melse\u001b[0m\u001b[0;34m:\u001b[0m\u001b[0;34m\u001b[0m\u001b[0;34m\u001b[0m\u001b[0m\n\u001b[0;32m---> 52\u001b[0;31m                 \u001b[0mdata\u001b[0m \u001b[0;34m=\u001b[0m \u001b[0;34m[\u001b[0m\u001b[0mself\u001b[0m\u001b[0;34m.\u001b[0m\u001b[0mdataset\u001b[0m\u001b[0;34m[\u001b[0m\u001b[0midx\u001b[0m\u001b[0;34m]\u001b[0m \u001b[0;32mfor\u001b[0m \u001b[0midx\u001b[0m \u001b[0;32min\u001b[0m \u001b[0mpossibly_batched_index\u001b[0m\u001b[0;34m]\u001b[0m\u001b[0;34m\u001b[0m\u001b[0;34m\u001b[0m\u001b[0m\n\u001b[0m\u001b[1;32m     53\u001b[0m         \u001b[0;32melse\u001b[0m\u001b[0;34m:\u001b[0m\u001b[0;34m\u001b[0m\u001b[0;34m\u001b[0m\u001b[0m\n\u001b[1;32m     54\u001b[0m             \u001b[0mdata\u001b[0m \u001b[0;34m=\u001b[0m \u001b[0mself\u001b[0m\u001b[0;34m.\u001b[0m\u001b[0mdataset\u001b[0m\u001b[0;34m[\u001b[0m\u001b[0mpossibly_batched_index\u001b[0m\u001b[0;34m]\u001b[0m\u001b[0;34m\u001b[0m\u001b[0;34m\u001b[0m\u001b[0m\n",
            "\u001b[0;32m/usr/local/lib/python3.11/dist-packages/torch/utils/data/_utils/fetch.py\u001b[0m in \u001b[0;36m<listcomp>\u001b[0;34m(.0)\u001b[0m\n\u001b[1;32m     50\u001b[0m                 \u001b[0mdata\u001b[0m \u001b[0;34m=\u001b[0m \u001b[0mself\u001b[0m\u001b[0;34m.\u001b[0m\u001b[0mdataset\u001b[0m\u001b[0;34m.\u001b[0m\u001b[0m__getitems__\u001b[0m\u001b[0;34m(\u001b[0m\u001b[0mpossibly_batched_index\u001b[0m\u001b[0;34m)\u001b[0m\u001b[0;34m\u001b[0m\u001b[0;34m\u001b[0m\u001b[0m\n\u001b[1;32m     51\u001b[0m             \u001b[0;32melse\u001b[0m\u001b[0;34m:\u001b[0m\u001b[0;34m\u001b[0m\u001b[0;34m\u001b[0m\u001b[0m\n\u001b[0;32m---> 52\u001b[0;31m                 \u001b[0mdata\u001b[0m \u001b[0;34m=\u001b[0m \u001b[0;34m[\u001b[0m\u001b[0mself\u001b[0m\u001b[0;34m.\u001b[0m\u001b[0mdataset\u001b[0m\u001b[0;34m[\u001b[0m\u001b[0midx\u001b[0m\u001b[0;34m]\u001b[0m \u001b[0;32mfor\u001b[0m \u001b[0midx\u001b[0m \u001b[0;32min\u001b[0m \u001b[0mpossibly_batched_index\u001b[0m\u001b[0;34m]\u001b[0m\u001b[0;34m\u001b[0m\u001b[0;34m\u001b[0m\u001b[0m\n\u001b[0m\u001b[1;32m     53\u001b[0m         \u001b[0;32melse\u001b[0m\u001b[0;34m:\u001b[0m\u001b[0;34m\u001b[0m\u001b[0;34m\u001b[0m\u001b[0m\n\u001b[1;32m     54\u001b[0m             \u001b[0mdata\u001b[0m \u001b[0;34m=\u001b[0m \u001b[0mself\u001b[0m\u001b[0;34m.\u001b[0m\u001b[0mdataset\u001b[0m\u001b[0;34m[\u001b[0m\u001b[0mpossibly_batched_index\u001b[0m\u001b[0;34m]\u001b[0m\u001b[0;34m\u001b[0m\u001b[0;34m\u001b[0m\u001b[0m\n",
            "\u001b[0;32m/tmp/ipython-input-3029227418.py\u001b[0m in \u001b[0;36m__getitem__\u001b[0;34m(self, idx)\u001b[0m\n\u001b[1;32m     22\u001b[0m \u001b[0;34m\u001b[0m\u001b[0m\n\u001b[1;32m     23\u001b[0m         \u001b[0mq_embed\u001b[0m \u001b[0;34m=\u001b[0m \u001b[0mself\u001b[0m\u001b[0;34m.\u001b[0m\u001b[0mload_and_pad\u001b[0m\u001b[0;34m(\u001b[0m\u001b[0mq_id\u001b[0m\u001b[0;34m)\u001b[0m\u001b[0;34m\u001b[0m\u001b[0;34m\u001b[0m\u001b[0m\n\u001b[0;32m---> 24\u001b[0;31m         \u001b[0md_embed\u001b[0m \u001b[0;34m=\u001b[0m \u001b[0mself\u001b[0m\u001b[0;34m.\u001b[0m\u001b[0mload_and_pad\u001b[0m\u001b[0;34m(\u001b[0m\u001b[0md_id\u001b[0m\u001b[0;34m)\u001b[0m\u001b[0;34m\u001b[0m\u001b[0;34m\u001b[0m\u001b[0m\n\u001b[0m\u001b[1;32m     25\u001b[0m \u001b[0;34m\u001b[0m\u001b[0m\n\u001b[1;32m     26\u001b[0m         \u001b[0mq_mask\u001b[0m \u001b[0;34m=\u001b[0m \u001b[0mself\u001b[0m\u001b[0;34m.\u001b[0m\u001b[0mmake_mask\u001b[0m\u001b[0;34m(\u001b[0m\u001b[0mq_embed\u001b[0m\u001b[0;34m)\u001b[0m\u001b[0;34m\u001b[0m\u001b[0;34m\u001b[0m\u001b[0m\n",
            "\u001b[0;32m/tmp/ipython-input-3029227418.py\u001b[0m in \u001b[0;36mload_and_pad\u001b[0;34m(self, slide_id)\u001b[0m\n\u001b[1;32m     42\u001b[0m         \u001b[0mpath\u001b[0m \u001b[0;34m=\u001b[0m \u001b[0mself\u001b[0m\u001b[0;34m.\u001b[0m\u001b[0mgcs_path_map\u001b[0m\u001b[0;34m[\u001b[0m\u001b[0mslide_id\u001b[0m\u001b[0;34m]\u001b[0m\u001b[0;34m\u001b[0m\u001b[0;34m\u001b[0m\u001b[0m\n\u001b[1;32m     43\u001b[0m         \u001b[0;32mwith\u001b[0m \u001b[0mself\u001b[0m\u001b[0;34m.\u001b[0m\u001b[0mfs\u001b[0m\u001b[0;34m.\u001b[0m\u001b[0mopen\u001b[0m\u001b[0;34m(\u001b[0m\u001b[0mpath\u001b[0m\u001b[0;34m,\u001b[0m \u001b[0;34m'rb'\u001b[0m\u001b[0;34m)\u001b[0m \u001b[0;32mas\u001b[0m \u001b[0mf\u001b[0m\u001b[0;34m:\u001b[0m\u001b[0;34m\u001b[0m\u001b[0;34m\u001b[0m\u001b[0m\n\u001b[0;32m---> 44\u001b[0;31m             \u001b[0mdata\u001b[0m \u001b[0;34m=\u001b[0m \u001b[0mtorch\u001b[0m\u001b[0;34m.\u001b[0m\u001b[0mload\u001b[0m\u001b[0;34m(\u001b[0m\u001b[0mio\u001b[0m\u001b[0;34m.\u001b[0m\u001b[0mBytesIO\u001b[0m\u001b[0;34m(\u001b[0m\u001b[0mf\u001b[0m\u001b[0;34m.\u001b[0m\u001b[0mread\u001b[0m\u001b[0;34m(\u001b[0m\u001b[0;34m)\u001b[0m\u001b[0;34m)\u001b[0m\u001b[0;34m)\u001b[0m\u001b[0;34m\u001b[0m\u001b[0;34m\u001b[0m\u001b[0m\n\u001b[0m\u001b[1;32m     45\u001b[0m         \u001b[0memb\u001b[0m \u001b[0;34m=\u001b[0m \u001b[0mdata\u001b[0m\u001b[0;34m\u001b[0m\u001b[0;34m\u001b[0m\u001b[0m\n\u001b[1;32m     46\u001b[0m         \u001b[0mpadded\u001b[0m \u001b[0;34m=\u001b[0m \u001b[0mtorch\u001b[0m\u001b[0;34m.\u001b[0m\u001b[0mzeros\u001b[0m\u001b[0;34m(\u001b[0m\u001b[0;34m(\u001b[0m\u001b[0mself\u001b[0m\u001b[0;34m.\u001b[0m\u001b[0mmax_patches\u001b[0m\u001b[0;34m,\u001b[0m \u001b[0mself\u001b[0m\u001b[0;34m.\u001b[0m\u001b[0membedding_dim\u001b[0m\u001b[0;34m)\u001b[0m\u001b[0;34m)\u001b[0m\u001b[0;34m\u001b[0m\u001b[0;34m\u001b[0m\u001b[0m\n",
            "\u001b[0;32m/usr/local/lib/python3.11/dist-packages/fsspec/spec.py\u001b[0m in \u001b[0;36mread\u001b[0;34m(self, length)\u001b[0m\n\u001b[1;32m   2081\u001b[0m             \u001b[0;31m# don't even bother calling fetch\u001b[0m\u001b[0;34m\u001b[0m\u001b[0;34m\u001b[0m\u001b[0m\n\u001b[1;32m   2082\u001b[0m             \u001b[0;32mreturn\u001b[0m \u001b[0;34mb\"\"\u001b[0m\u001b[0;34m\u001b[0m\u001b[0;34m\u001b[0m\u001b[0m\n\u001b[0;32m-> 2083\u001b[0;31m         \u001b[0mout\u001b[0m \u001b[0;34m=\u001b[0m \u001b[0mself\u001b[0m\u001b[0;34m.\u001b[0m\u001b[0mcache\u001b[0m\u001b[0;34m.\u001b[0m\u001b[0m_fetch\u001b[0m\u001b[0;34m(\u001b[0m\u001b[0mself\u001b[0m\u001b[0;34m.\u001b[0m\u001b[0mloc\u001b[0m\u001b[0;34m,\u001b[0m \u001b[0mself\u001b[0m\u001b[0;34m.\u001b[0m\u001b[0mloc\u001b[0m \u001b[0;34m+\u001b[0m \u001b[0mlength\u001b[0m\u001b[0;34m)\u001b[0m\u001b[0;34m\u001b[0m\u001b[0;34m\u001b[0m\u001b[0m\n\u001b[0m\u001b[1;32m   2084\u001b[0m \u001b[0;34m\u001b[0m\u001b[0m\n\u001b[1;32m   2085\u001b[0m         logger.debug(\n",
            "\u001b[0;32m/usr/local/lib/python3.11/dist-packages/fsspec/caching.py\u001b[0m in \u001b[0;36m_fetch\u001b[0;34m(self, start, end)\u001b[0m\n\u001b[1;32m    247\u001b[0m         \u001b[0mend\u001b[0m \u001b[0;34m=\u001b[0m \u001b[0mmin\u001b[0m\u001b[0;34m(\u001b[0m\u001b[0mself\u001b[0m\u001b[0;34m.\u001b[0m\u001b[0msize\u001b[0m\u001b[0;34m,\u001b[0m \u001b[0mend\u001b[0m \u001b[0;34m+\u001b[0m \u001b[0mself\u001b[0m\u001b[0;34m.\u001b[0m\u001b[0mblocksize\u001b[0m\u001b[0;34m)\u001b[0m\u001b[0;34m\u001b[0m\u001b[0;34m\u001b[0m\u001b[0m\n\u001b[1;32m    248\u001b[0m         \u001b[0mself\u001b[0m\u001b[0;34m.\u001b[0m\u001b[0mtotal_requested_bytes\u001b[0m \u001b[0;34m+=\u001b[0m \u001b[0mend\u001b[0m \u001b[0;34m-\u001b[0m \u001b[0mstart\u001b[0m\u001b[0;34m\u001b[0m\u001b[0;34m\u001b[0m\u001b[0m\n\u001b[0;32m--> 249\u001b[0;31m         \u001b[0mself\u001b[0m\u001b[0;34m.\u001b[0m\u001b[0mcache\u001b[0m \u001b[0;34m=\u001b[0m \u001b[0mself\u001b[0m\u001b[0;34m.\u001b[0m\u001b[0mfetcher\u001b[0m\u001b[0;34m(\u001b[0m\u001b[0mstart\u001b[0m\u001b[0;34m,\u001b[0m \u001b[0mend\u001b[0m\u001b[0;34m)\u001b[0m  \u001b[0;31m# new block replaces old\u001b[0m\u001b[0;34m\u001b[0m\u001b[0;34m\u001b[0m\u001b[0m\n\u001b[0m\u001b[1;32m    250\u001b[0m         \u001b[0mself\u001b[0m\u001b[0;34m.\u001b[0m\u001b[0mstart\u001b[0m \u001b[0;34m=\u001b[0m \u001b[0mstart\u001b[0m\u001b[0;34m\u001b[0m\u001b[0;34m\u001b[0m\u001b[0m\n\u001b[1;32m    251\u001b[0m         \u001b[0mself\u001b[0m\u001b[0;34m.\u001b[0m\u001b[0mend\u001b[0m \u001b[0;34m=\u001b[0m \u001b[0mself\u001b[0m\u001b[0;34m.\u001b[0m\u001b[0mstart\u001b[0m \u001b[0;34m+\u001b[0m \u001b[0mlen\u001b[0m\u001b[0;34m(\u001b[0m\u001b[0mself\u001b[0m\u001b[0;34m.\u001b[0m\u001b[0mcache\u001b[0m\u001b[0;34m)\u001b[0m\u001b[0;34m\u001b[0m\u001b[0;34m\u001b[0m\u001b[0m\n",
            "\u001b[0;32m/usr/local/lib/python3.11/dist-packages/gcsfs/core.py\u001b[0m in \u001b[0;36m_fetch_range\u001b[0;34m(self, start, end)\u001b[0m\n\u001b[1;32m   1980\u001b[0m         \"\"\"\n\u001b[1;32m   1981\u001b[0m         \u001b[0;32mtry\u001b[0m\u001b[0;34m:\u001b[0m\u001b[0;34m\u001b[0m\u001b[0;34m\u001b[0m\u001b[0m\n\u001b[0;32m-> 1982\u001b[0;31m             \u001b[0;32mreturn\u001b[0m \u001b[0mself\u001b[0m\u001b[0;34m.\u001b[0m\u001b[0mgcsfs\u001b[0m\u001b[0;34m.\u001b[0m\u001b[0mcat_file\u001b[0m\u001b[0;34m(\u001b[0m\u001b[0mself\u001b[0m\u001b[0;34m.\u001b[0m\u001b[0mpath\u001b[0m\u001b[0;34m,\u001b[0m \u001b[0mstart\u001b[0m\u001b[0;34m=\u001b[0m\u001b[0mstart\u001b[0m\u001b[0;34m,\u001b[0m \u001b[0mend\u001b[0m\u001b[0;34m=\u001b[0m\u001b[0mend\u001b[0m\u001b[0;34m)\u001b[0m\u001b[0;34m\u001b[0m\u001b[0;34m\u001b[0m\u001b[0m\n\u001b[0m\u001b[1;32m   1983\u001b[0m         \u001b[0;32mexcept\u001b[0m \u001b[0mRuntimeError\u001b[0m \u001b[0;32mas\u001b[0m \u001b[0me\u001b[0m\u001b[0;34m:\u001b[0m\u001b[0;34m\u001b[0m\u001b[0;34m\u001b[0m\u001b[0m\n\u001b[1;32m   1984\u001b[0m             \u001b[0;32mif\u001b[0m \u001b[0;34m\"not satisfiable\"\u001b[0m \u001b[0;32min\u001b[0m \u001b[0mstr\u001b[0m\u001b[0;34m(\u001b[0m\u001b[0me\u001b[0m\u001b[0;34m)\u001b[0m\u001b[0;34m:\u001b[0m\u001b[0;34m\u001b[0m\u001b[0;34m\u001b[0m\u001b[0m\n",
            "\u001b[0;32m/usr/local/lib/python3.11/dist-packages/fsspec/asyn.py\u001b[0m in \u001b[0;36mwrapper\u001b[0;34m(*args, **kwargs)\u001b[0m\n\u001b[1;32m    116\u001b[0m     \u001b[0;32mdef\u001b[0m \u001b[0mwrapper\u001b[0m\u001b[0;34m(\u001b[0m\u001b[0;34m*\u001b[0m\u001b[0margs\u001b[0m\u001b[0;34m,\u001b[0m \u001b[0;34m**\u001b[0m\u001b[0mkwargs\u001b[0m\u001b[0;34m)\u001b[0m\u001b[0;34m:\u001b[0m\u001b[0;34m\u001b[0m\u001b[0;34m\u001b[0m\u001b[0m\n\u001b[1;32m    117\u001b[0m         \u001b[0mself\u001b[0m \u001b[0;34m=\u001b[0m \u001b[0mobj\u001b[0m \u001b[0;32mor\u001b[0m \u001b[0margs\u001b[0m\u001b[0;34m[\u001b[0m\u001b[0;36m0\u001b[0m\u001b[0;34m]\u001b[0m\u001b[0;34m\u001b[0m\u001b[0;34m\u001b[0m\u001b[0m\n\u001b[0;32m--> 118\u001b[0;31m         \u001b[0;32mreturn\u001b[0m \u001b[0msync\u001b[0m\u001b[0;34m(\u001b[0m\u001b[0mself\u001b[0m\u001b[0;34m.\u001b[0m\u001b[0mloop\u001b[0m\u001b[0;34m,\u001b[0m \u001b[0mfunc\u001b[0m\u001b[0;34m,\u001b[0m \u001b[0;34m*\u001b[0m\u001b[0margs\u001b[0m\u001b[0;34m,\u001b[0m \u001b[0;34m**\u001b[0m\u001b[0mkwargs\u001b[0m\u001b[0;34m)\u001b[0m\u001b[0;34m\u001b[0m\u001b[0;34m\u001b[0m\u001b[0m\n\u001b[0m\u001b[1;32m    119\u001b[0m \u001b[0;34m\u001b[0m\u001b[0m\n\u001b[1;32m    120\u001b[0m     \u001b[0;32mreturn\u001b[0m \u001b[0mwrapper\u001b[0m\u001b[0;34m\u001b[0m\u001b[0;34m\u001b[0m\u001b[0m\n",
            "\u001b[0;32m/usr/local/lib/python3.11/dist-packages/fsspec/asyn.py\u001b[0m in \u001b[0;36msync\u001b[0;34m(loop, func, timeout, *args, **kwargs)\u001b[0m\n\u001b[1;32m     89\u001b[0m     \u001b[0;32mwhile\u001b[0m \u001b[0;32mTrue\u001b[0m\u001b[0;34m:\u001b[0m\u001b[0;34m\u001b[0m\u001b[0;34m\u001b[0m\u001b[0m\n\u001b[1;32m     90\u001b[0m         \u001b[0;31m# this loops allows thread to get interrupted\u001b[0m\u001b[0;34m\u001b[0m\u001b[0;34m\u001b[0m\u001b[0m\n\u001b[0;32m---> 91\u001b[0;31m         \u001b[0;32mif\u001b[0m \u001b[0mevent\u001b[0m\u001b[0;34m.\u001b[0m\u001b[0mwait\u001b[0m\u001b[0;34m(\u001b[0m\u001b[0;36m1\u001b[0m\u001b[0;34m)\u001b[0m\u001b[0;34m:\u001b[0m\u001b[0;34m\u001b[0m\u001b[0;34m\u001b[0m\u001b[0m\n\u001b[0m\u001b[1;32m     92\u001b[0m             \u001b[0;32mbreak\u001b[0m\u001b[0;34m\u001b[0m\u001b[0;34m\u001b[0m\u001b[0m\n\u001b[1;32m     93\u001b[0m         \u001b[0;32mif\u001b[0m \u001b[0mtimeout\u001b[0m \u001b[0;32mis\u001b[0m \u001b[0;32mnot\u001b[0m \u001b[0;32mNone\u001b[0m\u001b[0;34m:\u001b[0m\u001b[0;34m\u001b[0m\u001b[0;34m\u001b[0m\u001b[0m\n",
            "\u001b[0;32m/usr/lib/python3.11/threading.py\u001b[0m in \u001b[0;36mwait\u001b[0;34m(self, timeout)\u001b[0m\n\u001b[1;32m    627\u001b[0m             \u001b[0msignaled\u001b[0m \u001b[0;34m=\u001b[0m \u001b[0mself\u001b[0m\u001b[0;34m.\u001b[0m\u001b[0m_flag\u001b[0m\u001b[0;34m\u001b[0m\u001b[0;34m\u001b[0m\u001b[0m\n\u001b[1;32m    628\u001b[0m             \u001b[0;32mif\u001b[0m \u001b[0;32mnot\u001b[0m \u001b[0msignaled\u001b[0m\u001b[0;34m:\u001b[0m\u001b[0;34m\u001b[0m\u001b[0;34m\u001b[0m\u001b[0m\n\u001b[0;32m--> 629\u001b[0;31m                 \u001b[0msignaled\u001b[0m \u001b[0;34m=\u001b[0m \u001b[0mself\u001b[0m\u001b[0;34m.\u001b[0m\u001b[0m_cond\u001b[0m\u001b[0;34m.\u001b[0m\u001b[0mwait\u001b[0m\u001b[0;34m(\u001b[0m\u001b[0mtimeout\u001b[0m\u001b[0;34m)\u001b[0m\u001b[0;34m\u001b[0m\u001b[0;34m\u001b[0m\u001b[0m\n\u001b[0m\u001b[1;32m    630\u001b[0m             \u001b[0;32mreturn\u001b[0m \u001b[0msignaled\u001b[0m\u001b[0;34m\u001b[0m\u001b[0;34m\u001b[0m\u001b[0m\n\u001b[1;32m    631\u001b[0m \u001b[0;34m\u001b[0m\u001b[0m\n",
            "\u001b[0;32m/usr/lib/python3.11/threading.py\u001b[0m in \u001b[0;36mwait\u001b[0;34m(self, timeout)\u001b[0m\n\u001b[1;32m    329\u001b[0m             \u001b[0;32melse\u001b[0m\u001b[0;34m:\u001b[0m\u001b[0;34m\u001b[0m\u001b[0;34m\u001b[0m\u001b[0m\n\u001b[1;32m    330\u001b[0m                 \u001b[0;32mif\u001b[0m \u001b[0mtimeout\u001b[0m \u001b[0;34m>\u001b[0m \u001b[0;36m0\u001b[0m\u001b[0;34m:\u001b[0m\u001b[0;34m\u001b[0m\u001b[0;34m\u001b[0m\u001b[0m\n\u001b[0;32m--> 331\u001b[0;31m                     \u001b[0mgotit\u001b[0m \u001b[0;34m=\u001b[0m \u001b[0mwaiter\u001b[0m\u001b[0;34m.\u001b[0m\u001b[0macquire\u001b[0m\u001b[0;34m(\u001b[0m\u001b[0;32mTrue\u001b[0m\u001b[0;34m,\u001b[0m \u001b[0mtimeout\u001b[0m\u001b[0;34m)\u001b[0m\u001b[0;34m\u001b[0m\u001b[0;34m\u001b[0m\u001b[0m\n\u001b[0m\u001b[1;32m    332\u001b[0m                 \u001b[0;32melse\u001b[0m\u001b[0;34m:\u001b[0m\u001b[0;34m\u001b[0m\u001b[0;34m\u001b[0m\u001b[0m\n\u001b[1;32m    333\u001b[0m                     \u001b[0mgotit\u001b[0m \u001b[0;34m=\u001b[0m \u001b[0mwaiter\u001b[0m\u001b[0;34m.\u001b[0m\u001b[0macquire\u001b[0m\u001b[0;34m(\u001b[0m\u001b[0;32mFalse\u001b[0m\u001b[0;34m)\u001b[0m\u001b[0;34m\u001b[0m\u001b[0;34m\u001b[0m\u001b[0m\n",
            "\u001b[0;31mKeyboardInterrupt\u001b[0m: "
          ]
        }
      ]
    }
  ],
  "metadata": {
    "language_info": {
      "name": "python"
    },
    "colab": {
      "provenance": [],
      "machine_shape": "hm",
      "gpuType": "A100"
    },
    "kernelspec": {
      "name": "python3",
      "display_name": "Python 3"
    },
    "accelerator": "GPU"
  },
  "nbformat": 4,
  "nbformat_minor": 5
}