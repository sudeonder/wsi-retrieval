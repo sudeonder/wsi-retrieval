{
  "cells": [
    {
      "cell_type": "code",
      "execution_count": 1,
      "id": "e8a0fd3a",
      "metadata": {
        "vscode": {
          "languageId": "plaintext"
        },
        "id": "e8a0fd3a",
        "outputId": "574dd5a3-62e5-4e84-c14d-cc926498897e",
        "colab": {
          "base_uri": "https://localhost:8080/"
        }
      },
      "outputs": [
        {
          "output_type": "stream",
          "name": "stdout",
          "text": [
            "Reading package lists... Done\n",
            "Building dependency tree... Done\n",
            "Reading state information... Done\n",
            "openslide-tools is already the newest version (3.4.1+dfsg-5build1).\n",
            "0 upgraded, 0 newly installed, 0 to remove and 34 not upgraded.\n"
          ]
        }
      ],
      "source": [
        "# System and Python dependencies\n",
        "!apt-get install -y openslide-tools\n",
        "!pip install openslide-python scikit-image timm pandas tqdm --quiet"
      ]
    },
    {
      "cell_type": "code",
      "source": [
        "# Authenticate to access Google Cloud resources\n",
        "from google.colab import auth\n",
        "auth.authenticate_user()\n",
        "\n",
        "# Install OpenSlide and dependencies\n",
        "!apt-get install -y openslide-tools\n",
        "!pip install openslide-python\n",
        "\n",
        "# Remove the old (slow) Python-only version\n",
        "!pip uninstall -y crcmod\n",
        "\n",
        "# Install required build tools and compile crcmod from source\n",
        "!apt-get install -y python3-dev\n",
        "!pip install --no-binary :all: crcmod\n",
        "\n",
        "bucket_path = \"gs://bracs-dataset-bucket/BRACS/BRACS_WSI/test/Group_AT/Type_ADH/BRACS_1892.svs\"\n",
        "local_path = \"/content/BRACS_1892.svs\"\n",
        "\n",
        "!gsutil -m cp gs://bracs-dataset-bucket/BRACS/BRACS_WSI/test/Group_AT/Type_ADH/BRACS_1892.svs /content/BRACS_1892.svs\n",
        "\n",
        "\n"
      ],
      "metadata": {
        "id": "3Ew96Ot0Thuj",
        "outputId": "7fece9cd-a315-496f-ad04-e2bfa53bac6b",
        "colab": {
          "base_uri": "https://localhost:8080/"
        }
      },
      "id": "3Ew96Ot0Thuj",
      "execution_count": 2,
      "outputs": [
        {
          "output_type": "stream",
          "name": "stdout",
          "text": [
            "Reading package lists... Done\n",
            "Building dependency tree... Done\n",
            "Reading state information... Done\n",
            "openslide-tools is already the newest version (3.4.1+dfsg-5build1).\n",
            "0 upgraded, 0 newly installed, 0 to remove and 34 not upgraded.\n",
            "Requirement already satisfied: openslide-python in /usr/local/lib/python3.11/dist-packages (1.4.1)\n",
            "Requirement already satisfied: Pillow in /usr/local/lib/python3.11/dist-packages (from openslide-python) (11.1.0)\n",
            "Found existing installation: crcmod 1.7\n",
            "Uninstalling crcmod-1.7:\n",
            "  Successfully uninstalled crcmod-1.7\n",
            "Reading package lists... Done\n",
            "Building dependency tree... Done\n",
            "Reading state information... Done\n",
            "python3-dev is already the newest version (3.10.6-1~22.04.1).\n",
            "0 upgraded, 0 newly installed, 0 to remove and 34 not upgraded.\n",
            "Collecting crcmod\n",
            "  Using cached crcmod-1.7-cp311-cp311-linux_x86_64.whl\n",
            "Installing collected packages: crcmod\n",
            "Successfully installed crcmod-1.7\n",
            "Copying gs://bracs-dataset-bucket/BRACS/BRACS_WSI/test/Group_AT/Type_ADH/BRACS_1892.svs...\n",
            "| [1/1 files][  2.2 GiB/  2.2 GiB] 100% Done  69.4 MiB/s ETA 00:00:00           \n",
            "Operation completed over 1 objects/2.2 GiB.                                      \n"
          ]
        }
      ]
    },
    {
      "cell_type": "code",
      "source": [
        "!git clone https://github.com/prov-gigapath/prov-gigapath.git\n",
        "%cd prov-gigapath\n",
        "#Remove xformers from requirements\n",
        "!grep -v \"xformers\" requirements.txt > requirements_clean.txt\n",
        "!pip install -r requirements_clean.txt"
      ],
      "metadata": {
        "id": "M4fzgHaPT9RN",
        "outputId": "86d58530-5ce4-4367-aa4b-5d7226e868e4",
        "colab": {
          "base_uri": "https://localhost:8080/"
        }
      },
      "id": "M4fzgHaPT9RN",
      "execution_count": 4,
      "outputs": [
        {
          "output_type": "stream",
          "name": "stdout",
          "text": [
            "fatal: destination path 'prov-gigapath' already exists and is not an empty directory.\n",
            "/content/prov-gigapath\n",
            "Requirement already satisfied: omegaconf in /usr/local/lib/python3.11/dist-packages (from -r requirements_clean.txt (line 1)) (2.3.0)\n",
            "Requirement already satisfied: torchmetrics==0.10.3 in /usr/local/lib/python3.11/dist-packages (from -r requirements_clean.txt (line 2)) (0.10.3)\n",
            "Requirement already satisfied: fvcore in /usr/local/lib/python3.11/dist-packages (from -r requirements_clean.txt (line 3)) (0.1.5.post20221221)\n",
            "Requirement already satisfied: iopath in /usr/local/lib/python3.11/dist-packages (from -r requirements_clean.txt (line 4)) (0.1.10)\n",
            "Requirement already satisfied: huggingface-hub==0.20.2 in /usr/local/lib/python3.11/dist-packages (from -r requirements_clean.txt (line 5)) (0.20.2)\n",
            "Requirement already satisfied: h5py in /usr/local/lib/python3.11/dist-packages (from -r requirements_clean.txt (line 6)) (3.13.0)\n",
            "Requirement already satisfied: numpy in /usr/local/lib/python3.11/dist-packages (from -r requirements_clean.txt (line 7)) (1.26.4)\n",
            "Requirement already satisfied: pandas in /usr/local/lib/python3.11/dist-packages (from -r requirements_clean.txt (line 8)) (2.2.2)\n",
            "Requirement already satisfied: pillow in /usr/local/lib/python3.11/dist-packages (from -r requirements_clean.txt (line 9)) (11.1.0)\n",
            "Requirement already satisfied: tqdm in /usr/local/lib/python3.11/dist-packages (from -r requirements_clean.txt (line 10)) (4.67.1)\n",
            "Requirement already satisfied: einops in /usr/local/lib/python3.11/dist-packages (from -r requirements_clean.txt (line 11)) (0.8.1)\n",
            "Requirement already satisfied: webdataset in /usr/local/lib/python3.11/dist-packages (from -r requirements_clean.txt (line 12)) (0.2.111)\n",
            "Requirement already satisfied: matplotlib in /usr/local/lib/python3.11/dist-packages (from -r requirements_clean.txt (line 13)) (3.10.0)\n",
            "Requirement already satisfied: lifelines in /usr/local/lib/python3.11/dist-packages (from -r requirements_clean.txt (line 14)) (0.30.0)\n",
            "Requirement already satisfied: scikit-survival in /usr/local/lib/python3.11/dist-packages (from -r requirements_clean.txt (line 15)) (0.24.1)\n",
            "Requirement already satisfied: scikit-learn in /usr/local/lib/python3.11/dist-packages (from -r requirements_clean.txt (line 16)) (1.6.1)\n",
            "Requirement already satisfied: tensorboard in /usr/local/lib/python3.11/dist-packages (from -r requirements_clean.txt (line 17)) (2.18.0)\n",
            "Requirement already satisfied: fairscale in /usr/local/lib/python3.11/dist-packages (from -r requirements_clean.txt (line 18)) (0.4.13)\n",
            "Requirement already satisfied: wandb in /usr/local/lib/python3.11/dist-packages (from -r requirements_clean.txt (line 19)) (0.19.9)\n",
            "Requirement already satisfied: timm in /usr/local/lib/python3.11/dist-packages (from -r requirements_clean.txt (line 20)) (1.0.15)\n",
            "Requirement already satisfied: packaging==23.2 in /usr/local/lib/python3.11/dist-packages (from -r requirements_clean.txt (line 21)) (23.2)\n",
            "Requirement already satisfied: ninja==1.11.1.1 in /usr/local/lib/python3.11/dist-packages (from -r requirements_clean.txt (line 22)) (1.11.1.1)\n",
            "Requirement already satisfied: transformers==4.36.2 in /usr/local/lib/python3.11/dist-packages (from -r requirements_clean.txt (line 23)) (4.36.2)\n",
            "Requirement already satisfied: torch>=1.3.1 in /usr/local/lib/python3.11/dist-packages (from torchmetrics==0.10.3->-r requirements_clean.txt (line 2)) (2.6.0+cu124)\n",
            "Requirement already satisfied: filelock in /usr/local/lib/python3.11/dist-packages (from huggingface-hub==0.20.2->-r requirements_clean.txt (line 5)) (3.18.0)\n",
            "Requirement already satisfied: fsspec>=2023.5.0 in /usr/local/lib/python3.11/dist-packages (from huggingface-hub==0.20.2->-r requirements_clean.txt (line 5)) (2025.3.2)\n",
            "Requirement already satisfied: requests in /usr/local/lib/python3.11/dist-packages (from huggingface-hub==0.20.2->-r requirements_clean.txt (line 5)) (2.32.3)\n",
            "Requirement already satisfied: pyyaml>=5.1 in /usr/local/lib/python3.11/dist-packages (from huggingface-hub==0.20.2->-r requirements_clean.txt (line 5)) (6.0.2)\n",
            "Requirement already satisfied: typing-extensions>=3.7.4.3 in /usr/local/lib/python3.11/dist-packages (from huggingface-hub==0.20.2->-r requirements_clean.txt (line 5)) (4.13.2)\n",
            "Requirement already satisfied: regex!=2019.12.17 in /usr/local/lib/python3.11/dist-packages (from transformers==4.36.2->-r requirements_clean.txt (line 23)) (2024.11.6)\n",
            "Requirement already satisfied: tokenizers<0.19,>=0.14 in /usr/local/lib/python3.11/dist-packages (from transformers==4.36.2->-r requirements_clean.txt (line 23)) (0.15.2)\n",
            "Requirement already satisfied: safetensors>=0.3.1 in /usr/local/lib/python3.11/dist-packages (from transformers==4.36.2->-r requirements_clean.txt (line 23)) (0.5.3)\n",
            "Requirement already satisfied: antlr4-python3-runtime==4.9.* in /usr/local/lib/python3.11/dist-packages (from omegaconf->-r requirements_clean.txt (line 1)) (4.9.3)\n",
            "Requirement already satisfied: yacs>=0.1.6 in /usr/local/lib/python3.11/dist-packages (from fvcore->-r requirements_clean.txt (line 3)) (0.1.8)\n",
            "Requirement already satisfied: termcolor>=1.1 in /usr/local/lib/python3.11/dist-packages (from fvcore->-r requirements_clean.txt (line 3)) (3.0.1)\n",
            "Requirement already satisfied: tabulate in /usr/local/lib/python3.11/dist-packages (from fvcore->-r requirements_clean.txt (line 3)) (0.9.0)\n",
            "Requirement already satisfied: portalocker in /usr/local/lib/python3.11/dist-packages (from iopath->-r requirements_clean.txt (line 4)) (3.1.1)\n",
            "Requirement already satisfied: python-dateutil>=2.8.2 in /usr/local/lib/python3.11/dist-packages (from pandas->-r requirements_clean.txt (line 8)) (2.8.2)\n",
            "Requirement already satisfied: pytz>=2020.1 in /usr/local/lib/python3.11/dist-packages (from pandas->-r requirements_clean.txt (line 8)) (2025.2)\n",
            "Requirement already satisfied: tzdata>=2022.7 in /usr/local/lib/python3.11/dist-packages (from pandas->-r requirements_clean.txt (line 8)) (2025.2)\n",
            "Requirement already satisfied: braceexpand in /usr/local/lib/python3.11/dist-packages (from webdataset->-r requirements_clean.txt (line 12)) (0.1.7)\n",
            "Requirement already satisfied: contourpy>=1.0.1 in /usr/local/lib/python3.11/dist-packages (from matplotlib->-r requirements_clean.txt (line 13)) (1.3.2)\n",
            "Requirement already satisfied: cycler>=0.10 in /usr/local/lib/python3.11/dist-packages (from matplotlib->-r requirements_clean.txt (line 13)) (0.12.1)\n",
            "Requirement already satisfied: fonttools>=4.22.0 in /usr/local/lib/python3.11/dist-packages (from matplotlib->-r requirements_clean.txt (line 13)) (4.57.0)\n",
            "Requirement already satisfied: kiwisolver>=1.3.1 in /usr/local/lib/python3.11/dist-packages (from matplotlib->-r requirements_clean.txt (line 13)) (1.4.8)\n",
            "Requirement already satisfied: pyparsing>=2.3.1 in /usr/local/lib/python3.11/dist-packages (from matplotlib->-r requirements_clean.txt (line 13)) (3.2.3)\n",
            "Requirement already satisfied: scipy>=1.7.0 in /usr/local/lib/python3.11/dist-packages (from lifelines->-r requirements_clean.txt (line 14)) (1.14.1)\n",
            "Requirement already satisfied: autograd>=1.5 in /usr/local/lib/python3.11/dist-packages (from lifelines->-r requirements_clean.txt (line 14)) (1.7.0)\n",
            "Requirement already satisfied: autograd-gamma>=0.3 in /usr/local/lib/python3.11/dist-packages (from lifelines->-r requirements_clean.txt (line 14)) (0.5.0)\n",
            "Requirement already satisfied: formulaic>=0.2.2 in /usr/local/lib/python3.11/dist-packages (from lifelines->-r requirements_clean.txt (line 14)) (1.1.1)\n",
            "Requirement already satisfied: ecos in /usr/local/lib/python3.11/dist-packages (from scikit-survival->-r requirements_clean.txt (line 15)) (2.0.14)\n",
            "Requirement already satisfied: joblib in /usr/local/lib/python3.11/dist-packages (from scikit-survival->-r requirements_clean.txt (line 15)) (1.4.2)\n",
            "Requirement already satisfied: numexpr in /usr/local/lib/python3.11/dist-packages (from scikit-survival->-r requirements_clean.txt (line 15)) (2.10.2)\n",
            "Requirement already satisfied: osqp<1.0.0,>=0.6.3 in /usr/local/lib/python3.11/dist-packages (from scikit-survival->-r requirements_clean.txt (line 15)) (0.6.7.post3)\n",
            "Requirement already satisfied: threadpoolctl>=3.1.0 in /usr/local/lib/python3.11/dist-packages (from scikit-learn->-r requirements_clean.txt (line 16)) (3.6.0)\n",
            "Requirement already satisfied: absl-py>=0.4 in /usr/local/lib/python3.11/dist-packages (from tensorboard->-r requirements_clean.txt (line 17)) (1.4.0)\n",
            "Requirement already satisfied: grpcio>=1.48.2 in /usr/local/lib/python3.11/dist-packages (from tensorboard->-r requirements_clean.txt (line 17)) (1.71.0)\n",
            "Requirement already satisfied: markdown>=2.6.8 in /usr/local/lib/python3.11/dist-packages (from tensorboard->-r requirements_clean.txt (line 17)) (3.8)\n",
            "Requirement already satisfied: protobuf!=4.24.0,>=3.19.6 in /usr/local/lib/python3.11/dist-packages (from tensorboard->-r requirements_clean.txt (line 17)) (5.29.4)\n",
            "Requirement already satisfied: setuptools>=41.0.0 in /usr/local/lib/python3.11/dist-packages (from tensorboard->-r requirements_clean.txt (line 17)) (45.3.0)\n",
            "Requirement already satisfied: six>1.9 in /usr/local/lib/python3.11/dist-packages (from tensorboard->-r requirements_clean.txt (line 17)) (1.17.0)\n",
            "Requirement already satisfied: tensorboard-data-server<0.8.0,>=0.7.0 in /usr/local/lib/python3.11/dist-packages (from tensorboard->-r requirements_clean.txt (line 17)) (0.7.2)\n",
            "Requirement already satisfied: werkzeug>=1.0.1 in /usr/local/lib/python3.11/dist-packages (from tensorboard->-r requirements_clean.txt (line 17)) (3.1.3)\n",
            "Requirement already satisfied: click!=8.0.0,>=7.1 in /usr/local/lib/python3.11/dist-packages (from wandb->-r requirements_clean.txt (line 19)) (8.1.8)\n",
            "Requirement already satisfied: docker-pycreds>=0.4.0 in /usr/local/lib/python3.11/dist-packages (from wandb->-r requirements_clean.txt (line 19)) (0.4.0)\n",
            "Requirement already satisfied: gitpython!=3.1.29,>=1.0.0 in /usr/local/lib/python3.11/dist-packages (from wandb->-r requirements_clean.txt (line 19)) (3.1.44)\n",
            "Requirement already satisfied: platformdirs in /usr/local/lib/python3.11/dist-packages (from wandb->-r requirements_clean.txt (line 19)) (4.3.7)\n",
            "Requirement already satisfied: psutil>=5.0.0 in /usr/local/lib/python3.11/dist-packages (from wandb->-r requirements_clean.txt (line 19)) (5.9.5)\n",
            "Requirement already satisfied: pydantic<3 in /usr/local/lib/python3.11/dist-packages (from wandb->-r requirements_clean.txt (line 19)) (2.11.3)\n",
            "Requirement already satisfied: sentry-sdk>=2.0.0 in /usr/local/lib/python3.11/dist-packages (from wandb->-r requirements_clean.txt (line 19)) (2.26.1)\n",
            "Requirement already satisfied: setproctitle in /usr/local/lib/python3.11/dist-packages (from wandb->-r requirements_clean.txt (line 19)) (1.3.5)\n",
            "Requirement already satisfied: torchvision in /usr/local/lib/python3.11/dist-packages (from timm->-r requirements_clean.txt (line 20)) (0.21.0+cu124)\n",
            "Requirement already satisfied: interface-meta>=1.2.0 in /usr/local/lib/python3.11/dist-packages (from formulaic>=0.2.2->lifelines->-r requirements_clean.txt (line 14)) (1.3.0)\n",
            "Requirement already satisfied: wrapt>=1.0 in /usr/local/lib/python3.11/dist-packages (from formulaic>=0.2.2->lifelines->-r requirements_clean.txt (line 14)) (1.17.2)\n",
            "Requirement already satisfied: gitdb<5,>=4.0.1 in /usr/local/lib/python3.11/dist-packages (from gitpython!=3.1.29,>=1.0.0->wandb->-r requirements_clean.txt (line 19)) (4.0.12)\n",
            "Requirement already satisfied: qdldl in /usr/local/lib/python3.11/dist-packages (from osqp<1.0.0,>=0.6.3->scikit-survival->-r requirements_clean.txt (line 15)) (0.1.7.post5)\n",
            "Requirement already satisfied: annotated-types>=0.6.0 in /usr/local/lib/python3.11/dist-packages (from pydantic<3->wandb->-r requirements_clean.txt (line 19)) (0.7.0)\n",
            "Requirement already satisfied: pydantic-core==2.33.1 in /usr/local/lib/python3.11/dist-packages (from pydantic<3->wandb->-r requirements_clean.txt (line 19)) (2.33.1)\n",
            "Requirement already satisfied: typing-inspection>=0.4.0 in /usr/local/lib/python3.11/dist-packages (from pydantic<3->wandb->-r requirements_clean.txt (line 19)) (0.4.0)\n",
            "Requirement already satisfied: charset-normalizer<4,>=2 in /usr/local/lib/python3.11/dist-packages (from requests->huggingface-hub==0.20.2->-r requirements_clean.txt (line 5)) (3.4.1)\n",
            "Requirement already satisfied: idna<4,>=2.5 in /usr/local/lib/python3.11/dist-packages (from requests->huggingface-hub==0.20.2->-r requirements_clean.txt (line 5)) (3.10)\n",
            "Requirement already satisfied: urllib3<3,>=1.21.1 in /usr/local/lib/python3.11/dist-packages (from requests->huggingface-hub==0.20.2->-r requirements_clean.txt (line 5)) (2.3.0)\n",
            "Requirement already satisfied: certifi>=2017.4.17 in /usr/local/lib/python3.11/dist-packages (from requests->huggingface-hub==0.20.2->-r requirements_clean.txt (line 5)) (2025.1.31)\n",
            "Requirement already satisfied: networkx in /usr/local/lib/python3.11/dist-packages (from torch>=1.3.1->torchmetrics==0.10.3->-r requirements_clean.txt (line 2)) (3.4.2)\n",
            "Requirement already satisfied: jinja2 in /usr/local/lib/python3.11/dist-packages (from torch>=1.3.1->torchmetrics==0.10.3->-r requirements_clean.txt (line 2)) (3.1.6)\n",
            "Requirement already satisfied: nvidia-cuda-nvrtc-cu12==12.4.127 in /usr/local/lib/python3.11/dist-packages (from torch>=1.3.1->torchmetrics==0.10.3->-r requirements_clean.txt (line 2)) (12.4.127)\n",
            "Requirement already satisfied: nvidia-cuda-runtime-cu12==12.4.127 in /usr/local/lib/python3.11/dist-packages (from torch>=1.3.1->torchmetrics==0.10.3->-r requirements_clean.txt (line 2)) (12.4.127)\n",
            "Requirement already satisfied: nvidia-cuda-cupti-cu12==12.4.127 in /usr/local/lib/python3.11/dist-packages (from torch>=1.3.1->torchmetrics==0.10.3->-r requirements_clean.txt (line 2)) (12.4.127)\n",
            "Requirement already satisfied: nvidia-cudnn-cu12==9.1.0.70 in /usr/local/lib/python3.11/dist-packages (from torch>=1.3.1->torchmetrics==0.10.3->-r requirements_clean.txt (line 2)) (9.1.0.70)\n",
            "Requirement already satisfied: nvidia-cublas-cu12==12.4.5.8 in /usr/local/lib/python3.11/dist-packages (from torch>=1.3.1->torchmetrics==0.10.3->-r requirements_clean.txt (line 2)) (12.4.5.8)\n",
            "Requirement already satisfied: nvidia-cufft-cu12==11.2.1.3 in /usr/local/lib/python3.11/dist-packages (from torch>=1.3.1->torchmetrics==0.10.3->-r requirements_clean.txt (line 2)) (11.2.1.3)\n",
            "Requirement already satisfied: nvidia-curand-cu12==10.3.5.147 in /usr/local/lib/python3.11/dist-packages (from torch>=1.3.1->torchmetrics==0.10.3->-r requirements_clean.txt (line 2)) (10.3.5.147)\n",
            "Requirement already satisfied: nvidia-cusolver-cu12==11.6.1.9 in /usr/local/lib/python3.11/dist-packages (from torch>=1.3.1->torchmetrics==0.10.3->-r requirements_clean.txt (line 2)) (11.6.1.9)\n",
            "Requirement already satisfied: nvidia-cusparse-cu12==12.3.1.170 in /usr/local/lib/python3.11/dist-packages (from torch>=1.3.1->torchmetrics==0.10.3->-r requirements_clean.txt (line 2)) (12.3.1.170)\n",
            "Requirement already satisfied: nvidia-cusparselt-cu12==0.6.2 in /usr/local/lib/python3.11/dist-packages (from torch>=1.3.1->torchmetrics==0.10.3->-r requirements_clean.txt (line 2)) (0.6.2)\n",
            "Requirement already satisfied: nvidia-nccl-cu12==2.21.5 in /usr/local/lib/python3.11/dist-packages (from torch>=1.3.1->torchmetrics==0.10.3->-r requirements_clean.txt (line 2)) (2.21.5)\n",
            "Requirement already satisfied: nvidia-nvtx-cu12==12.4.127 in /usr/local/lib/python3.11/dist-packages (from torch>=1.3.1->torchmetrics==0.10.3->-r requirements_clean.txt (line 2)) (12.4.127)\n",
            "Requirement already satisfied: nvidia-nvjitlink-cu12==12.4.127 in /usr/local/lib/python3.11/dist-packages (from torch>=1.3.1->torchmetrics==0.10.3->-r requirements_clean.txt (line 2)) (12.4.127)\n",
            "Requirement already satisfied: triton==3.2.0 in /usr/local/lib/python3.11/dist-packages (from torch>=1.3.1->torchmetrics==0.10.3->-r requirements_clean.txt (line 2)) (3.2.0)\n",
            "Requirement already satisfied: sympy==1.13.1 in /usr/local/lib/python3.11/dist-packages (from torch>=1.3.1->torchmetrics==0.10.3->-r requirements_clean.txt (line 2)) (1.13.1)\n",
            "Requirement already satisfied: mpmath<1.4,>=1.1.0 in /usr/local/lib/python3.11/dist-packages (from sympy==1.13.1->torch>=1.3.1->torchmetrics==0.10.3->-r requirements_clean.txt (line 2)) (1.3.0)\n",
            "Requirement already satisfied: MarkupSafe>=2.1.1 in /usr/local/lib/python3.11/dist-packages (from werkzeug>=1.0.1->tensorboard->-r requirements_clean.txt (line 17)) (3.0.2)\n",
            "Requirement already satisfied: smmap<6,>=3.0.1 in /usr/local/lib/python3.11/dist-packages (from gitdb<5,>=4.0.1->gitpython!=3.1.29,>=1.0.0->wandb->-r requirements_clean.txt (line 19)) (5.0.2)\n"
          ]
        }
      ]
    },
    {
      "cell_type": "code",
      "source": [
        "\n",
        "!pip install setuptools==v45.3.0\n",
        "!sudo apt-get install openslide-tools\n",
        "!sudo apt-get install python-openslide\n",
        "!pip install openslide-python\n",
        "!pip install monai\n",
        "!pip install torchmetrics\n",
        "!pip install numpy\n",
        "\n"
      ],
      "metadata": {
        "id": "cyP-TlDgUOp0",
        "outputId": "8798ddc0-d7e3-42fa-940e-e33a05cc3670",
        "colab": {
          "base_uri": "https://localhost:8080/"
        }
      },
      "id": "cyP-TlDgUOp0",
      "execution_count": 4,
      "outputs": [
        {
          "output_type": "stream",
          "name": "stdout",
          "text": [
            "Requirement already satisfied: setuptools==v45.3.0 in /usr/local/lib/python3.11/dist-packages (45.3.0)\n",
            "Reading package lists... Done\n",
            "Building dependency tree... Done\n",
            "Reading state information... Done\n",
            "openslide-tools is already the newest version (3.4.1+dfsg-5build1).\n",
            "0 upgraded, 0 newly installed, 0 to remove and 34 not upgraded.\n",
            "Reading package lists... Done\n",
            "Building dependency tree... Done\n",
            "Reading state information... Done\n",
            "E: Unable to locate package python-openslide\n",
            "Requirement already satisfied: openslide-python in /usr/local/lib/python3.11/dist-packages (1.4.1)\n",
            "Requirement already satisfied: Pillow in /usr/local/lib/python3.11/dist-packages (from openslide-python) (11.1.0)\n",
            "Requirement already satisfied: monai in /usr/local/lib/python3.11/dist-packages (1.4.0)\n",
            "Requirement already satisfied: numpy<2.0,>=1.24 in /usr/local/lib/python3.11/dist-packages (from monai) (1.26.4)\n",
            "Requirement already satisfied: torch>=1.9 in /usr/local/lib/python3.11/dist-packages (from monai) (2.6.0+cu124)\n",
            "Requirement already satisfied: filelock in /usr/local/lib/python3.11/dist-packages (from torch>=1.9->monai) (3.18.0)\n",
            "Requirement already satisfied: typing-extensions>=4.10.0 in /usr/local/lib/python3.11/dist-packages (from torch>=1.9->monai) (4.13.2)\n",
            "Requirement already satisfied: networkx in /usr/local/lib/python3.11/dist-packages (from torch>=1.9->monai) (3.4.2)\n",
            "Requirement already satisfied: jinja2 in /usr/local/lib/python3.11/dist-packages (from torch>=1.9->monai) (3.1.6)\n",
            "Requirement already satisfied: fsspec in /usr/local/lib/python3.11/dist-packages (from torch>=1.9->monai) (2025.3.2)\n",
            "Requirement already satisfied: nvidia-cuda-nvrtc-cu12==12.4.127 in /usr/local/lib/python3.11/dist-packages (from torch>=1.9->monai) (12.4.127)\n",
            "Requirement already satisfied: nvidia-cuda-runtime-cu12==12.4.127 in /usr/local/lib/python3.11/dist-packages (from torch>=1.9->monai) (12.4.127)\n",
            "Requirement already satisfied: nvidia-cuda-cupti-cu12==12.4.127 in /usr/local/lib/python3.11/dist-packages (from torch>=1.9->monai) (12.4.127)\n",
            "Requirement already satisfied: nvidia-cudnn-cu12==9.1.0.70 in /usr/local/lib/python3.11/dist-packages (from torch>=1.9->monai) (9.1.0.70)\n",
            "Requirement already satisfied: nvidia-cublas-cu12==12.4.5.8 in /usr/local/lib/python3.11/dist-packages (from torch>=1.9->monai) (12.4.5.8)\n",
            "Requirement already satisfied: nvidia-cufft-cu12==11.2.1.3 in /usr/local/lib/python3.11/dist-packages (from torch>=1.9->monai) (11.2.1.3)\n",
            "Requirement already satisfied: nvidia-curand-cu12==10.3.5.147 in /usr/local/lib/python3.11/dist-packages (from torch>=1.9->monai) (10.3.5.147)\n",
            "Requirement already satisfied: nvidia-cusolver-cu12==11.6.1.9 in /usr/local/lib/python3.11/dist-packages (from torch>=1.9->monai) (11.6.1.9)\n",
            "Requirement already satisfied: nvidia-cusparse-cu12==12.3.1.170 in /usr/local/lib/python3.11/dist-packages (from torch>=1.9->monai) (12.3.1.170)\n",
            "Requirement already satisfied: nvidia-cusparselt-cu12==0.6.2 in /usr/local/lib/python3.11/dist-packages (from torch>=1.9->monai) (0.6.2)\n",
            "Requirement already satisfied: nvidia-nccl-cu12==2.21.5 in /usr/local/lib/python3.11/dist-packages (from torch>=1.9->monai) (2.21.5)\n",
            "Requirement already satisfied: nvidia-nvtx-cu12==12.4.127 in /usr/local/lib/python3.11/dist-packages (from torch>=1.9->monai) (12.4.127)\n",
            "Requirement already satisfied: nvidia-nvjitlink-cu12==12.4.127 in /usr/local/lib/python3.11/dist-packages (from torch>=1.9->monai) (12.4.127)\n",
            "Requirement already satisfied: triton==3.2.0 in /usr/local/lib/python3.11/dist-packages (from torch>=1.9->monai) (3.2.0)\n",
            "Requirement already satisfied: sympy==1.13.1 in /usr/local/lib/python3.11/dist-packages (from torch>=1.9->monai) (1.13.1)\n",
            "Requirement already satisfied: mpmath<1.4,>=1.1.0 in /usr/local/lib/python3.11/dist-packages (from sympy==1.13.1->torch>=1.9->monai) (1.3.0)\n",
            "Requirement already satisfied: MarkupSafe>=2.0 in /usr/local/lib/python3.11/dist-packages (from jinja2->torch>=1.9->monai) (3.0.2)\n",
            "Requirement already satisfied: torchmetrics in /usr/local/lib/python3.11/dist-packages (0.10.3)\n",
            "Requirement already satisfied: numpy>=1.17.2 in /usr/local/lib/python3.11/dist-packages (from torchmetrics) (1.26.4)\n",
            "Requirement already satisfied: torch>=1.3.1 in /usr/local/lib/python3.11/dist-packages (from torchmetrics) (2.6.0+cu124)\n",
            "Requirement already satisfied: packaging in /usr/local/lib/python3.11/dist-packages (from torchmetrics) (23.2)\n",
            "Requirement already satisfied: filelock in /usr/local/lib/python3.11/dist-packages (from torch>=1.3.1->torchmetrics) (3.18.0)\n",
            "Requirement already satisfied: typing-extensions>=4.10.0 in /usr/local/lib/python3.11/dist-packages (from torch>=1.3.1->torchmetrics) (4.13.2)\n",
            "Requirement already satisfied: networkx in /usr/local/lib/python3.11/dist-packages (from torch>=1.3.1->torchmetrics) (3.4.2)\n",
            "Requirement already satisfied: jinja2 in /usr/local/lib/python3.11/dist-packages (from torch>=1.3.1->torchmetrics) (3.1.6)\n",
            "Requirement already satisfied: fsspec in /usr/local/lib/python3.11/dist-packages (from torch>=1.3.1->torchmetrics) (2025.3.2)\n",
            "Requirement already satisfied: nvidia-cuda-nvrtc-cu12==12.4.127 in /usr/local/lib/python3.11/dist-packages (from torch>=1.3.1->torchmetrics) (12.4.127)\n",
            "Requirement already satisfied: nvidia-cuda-runtime-cu12==12.4.127 in /usr/local/lib/python3.11/dist-packages (from torch>=1.3.1->torchmetrics) (12.4.127)\n",
            "Requirement already satisfied: nvidia-cuda-cupti-cu12==12.4.127 in /usr/local/lib/python3.11/dist-packages (from torch>=1.3.1->torchmetrics) (12.4.127)\n",
            "Requirement already satisfied: nvidia-cudnn-cu12==9.1.0.70 in /usr/local/lib/python3.11/dist-packages (from torch>=1.3.1->torchmetrics) (9.1.0.70)\n",
            "Requirement already satisfied: nvidia-cublas-cu12==12.4.5.8 in /usr/local/lib/python3.11/dist-packages (from torch>=1.3.1->torchmetrics) (12.4.5.8)\n",
            "Requirement already satisfied: nvidia-cufft-cu12==11.2.1.3 in /usr/local/lib/python3.11/dist-packages (from torch>=1.3.1->torchmetrics) (11.2.1.3)\n",
            "Requirement already satisfied: nvidia-curand-cu12==10.3.5.147 in /usr/local/lib/python3.11/dist-packages (from torch>=1.3.1->torchmetrics) (10.3.5.147)\n",
            "Requirement already satisfied: nvidia-cusolver-cu12==11.6.1.9 in /usr/local/lib/python3.11/dist-packages (from torch>=1.3.1->torchmetrics) (11.6.1.9)\n",
            "Requirement already satisfied: nvidia-cusparse-cu12==12.3.1.170 in /usr/local/lib/python3.11/dist-packages (from torch>=1.3.1->torchmetrics) (12.3.1.170)\n",
            "Requirement already satisfied: nvidia-cusparselt-cu12==0.6.2 in /usr/local/lib/python3.11/dist-packages (from torch>=1.3.1->torchmetrics) (0.6.2)\n",
            "Requirement already satisfied: nvidia-nccl-cu12==2.21.5 in /usr/local/lib/python3.11/dist-packages (from torch>=1.3.1->torchmetrics) (2.21.5)\n",
            "Requirement already satisfied: nvidia-nvtx-cu12==12.4.127 in /usr/local/lib/python3.11/dist-packages (from torch>=1.3.1->torchmetrics) (12.4.127)\n",
            "Requirement already satisfied: nvidia-nvjitlink-cu12==12.4.127 in /usr/local/lib/python3.11/dist-packages (from torch>=1.3.1->torchmetrics) (12.4.127)\n",
            "Requirement already satisfied: triton==3.2.0 in /usr/local/lib/python3.11/dist-packages (from torch>=1.3.1->torchmetrics) (3.2.0)\n",
            "Requirement already satisfied: sympy==1.13.1 in /usr/local/lib/python3.11/dist-packages (from torch>=1.3.1->torchmetrics) (1.13.1)\n",
            "Requirement already satisfied: mpmath<1.4,>=1.1.0 in /usr/local/lib/python3.11/dist-packages (from sympy==1.13.1->torch>=1.3.1->torchmetrics) (1.3.0)\n",
            "Requirement already satisfied: MarkupSafe>=2.0 in /usr/local/lib/python3.11/dist-packages (from jinja2->torch>=1.3.1->torchmetrics) (3.0.2)\n",
            "Requirement already satisfied: numpy in /usr/local/lib/python3.11/dist-packages (1.26.4)\n"
          ]
        }
      ]
    },
    {
      "cell_type": "code",
      "source": [
        "from pathlib import Path\n",
        "from gigapath.preprocessing.data.create_tiles_dataset import process_slide\n",
        "import pandas as pd\n",
        "\n",
        "def tile_one_slide(slide_file: str, save_dir: str, level: int = 0, tile_size: int = 256):\n",
        "    \"\"\"\n",
        "    Tiles a single WSI using GigaPath's `process_slide`.\n",
        "    \"\"\"\n",
        "    slide_id = Path(slide_file).stem\n",
        "    slide_sample = {\"image\": slide_file, \"slide_id\": slide_id, \"metadata\": {}}\n",
        "    save_dir = Path(save_dir)\n",
        "\n",
        "    print(f\"🔄 Tiling {slide_id} at level {level} with tile size {tile_size}px\")\n",
        "    tile_dir = process_slide(\n",
        "        slide_sample,\n",
        "        level=level,\n",
        "        margin=0,\n",
        "        tile_size=tile_size,\n",
        "        foreground_threshold=None,\n",
        "        occupancy_threshold=0.0,  # we’ll do Otsu filtering later\n",
        "        output_dir=save_dir / slide_id / \"output\",\n",
        "        thumbnail_dir=save_dir / slide_id / \"thumb\",\n",
        "        tile_progress=True,\n",
        "    )\n",
        "\n",
        "    df = pd.read_csv(tile_dir / \"dataset.csv\")\n",
        "    print(f\"✅ Tiling complete: {len(df)} tiles saved to: {tile_dir}\")\n",
        "    return tile_dir\n"
      ],
      "metadata": {
        "id": "GvVd7AZhUhW2",
        "outputId": "ac375127-073e-4ed7-c732-8fe615d1d716",
        "colab": {
          "base_uri": "https://localhost:8080/"
        }
      },
      "id": "GvVd7AZhUhW2",
      "execution_count": 5,
      "outputs": [
        {
          "output_type": "stream",
          "name": "stderr",
          "text": [
            "/usr/local/lib/python3.11/dist-packages/transformers/utils/generic.py:441: FutureWarning: `torch.utils._pytree._register_pytree_node` is deprecated. Please use `torch.utils._pytree.register_pytree_node` instead.\n",
            "  _torch_pytree._register_pytree_node(\n",
            "/usr/local/lib/python3.11/dist-packages/transformers/utils/generic.py:309: FutureWarning: `torch.utils._pytree._register_pytree_node` is deprecated. Please use `torch.utils._pytree.register_pytree_node` instead.\n",
            "  _torch_pytree._register_pytree_node(\n"
          ]
        }
      ]
    },
    {
      "cell_type": "code",
      "source": [
        "# Replace with your actual slide path if different\n",
        "slide_path = \"/content/BRACS_1892.svs\"\n",
        "output_dir = \"/content/tiles\"\n",
        "\n",
        "tile_dir = tile_one_slide(\n",
        "    slide_file=slide_path,\n",
        "    save_dir=output_dir,\n",
        "    level=0,         # Level 1 ≈ 10×;\n",
        "    tile_size=2000\n",
        ")\n"
      ],
      "metadata": {
        "id": "j7sV5c4TUnUI",
        "outputId": "73919814-eff5-4d6b-e95e-25eb17024281",
        "colab": {
          "base_uri": "https://localhost:8080/"
        }
      },
      "id": "j7sV5c4TUnUI",
      "execution_count": null,
      "outputs": [
        {
          "output_type": "stream",
          "name": "stdout",
          "text": [
            "🔄 Tiling BRACS_1892 at level 0 with tile size 2000px\n",
            "('slide_id', 'tile_id', 'image', 'label', 'tile_x', 'tile_y', 'occupancy')\n"
          ]
        }
      ]
    },
    {
      "cell_type": "code",
      "source": [
        "import timm\n",
        "import torch\n",
        "import glob\n",
        "from tqdm import tqdm\n",
        "from gigapath.pipeline import TileEncodingDataset, load_tile_encoder_transforms\n",
        "from torch.utils.data import DataLoader\n",
        "from pathlib import Path\n",
        "\n",
        "def encode_slide_tiles_with_gigapath(\n",
        "    tile_folder: str,\n",
        "    save_path: str = \"tile_embeddings.pt\",\n",
        "    batch_size: int = 128\n",
        "):\n",
        "    \"\"\"\n",
        "    Loads resized 256×256 tile images from a folder, runs GigaPath tile encoder,\n",
        "    and saves the tile embeddings and coordinates.\n",
        "\n",
        "    Args:\n",
        "        tile_folder: Directory containing x{X}_y{Y}.png tiles\n",
        "        save_path: Where to store tile_embeddings.pt\n",
        "        batch_size: Batch size for inference\n",
        "    \"\"\"\n",
        "\n",
        "    # Step 1: Collect tile paths\n",
        "    tile_paths = sorted(glob.glob(str(Path(tile_folder) / \"*.png\")))\n",
        "    assert len(tile_paths) > 0, f\"No PNG tiles found in: {tile_folder}\"\n",
        "\n",
        "    print(f\"📂 Found {len(tile_paths)} tiles in {tile_folder}\")\n",
        "\n",
        "    # Step 2: Load tile encoder model and transform\n",
        "    tile_encoder = timm.create_model(\"hf_hub:prov-gigapath/prov-gigapath\", pretrained=True)\n",
        "    tile_encoder = tile_encoder.eval().cuda()\n",
        "    transform = load_tile_encoder_transforms()\n",
        "\n",
        "    # Step 3: Create dataset and dataloader\n",
        "    dataset = TileEncodingDataset(tile_paths, transform=transform)\n",
        "    dataloader = DataLoader(dataset, batch_size=batch_size, shuffle=False, num_workers=2)\n",
        "\n",
        "    # Step 4: Run inference\n",
        "    all_embeds, all_coords = [], []\n",
        "\n",
        "    with torch.no_grad(), torch.cuda.amp.autocast(dtype=torch.float16):\n",
        "        for batch in tqdm(dataloader, desc=\"🔍 Running tile encoder\"):\n",
        "            imgs = batch[\"img\"].cuda()\n",
        "            coords = batch[\"coords\"]  # shape: [B, 2]\n",
        "            embeddings = tile_encoder(imgs).detach().cpu()\n",
        "            all_embeds.append(embeddings)\n",
        "            all_coords.append(coords)\n",
        "\n",
        "    tile_embeds = torch.cat(all_embeds, dim=0)  # [N, D]\n",
        "    coords = torch.cat(all_coords, dim=0)       # [N, 2]\n",
        "\n",
        "    # Step 5: Save to .pt\n",
        "    torch.save({\n",
        "        \"embeddings\": tile_embeds,   # [N, 1536]\n",
        "        \"coords\": coords             # [N, 2]\n",
        "    }, save_path)\n",
        "\n",
        "    print(f\"✅ Saved tile embeddings to {save_path}\")\n"
      ],
      "metadata": {
        "id": "MUUAGNQBVeBf"
      },
      "id": "MUUAGNQBVeBf",
      "execution_count": null,
      "outputs": []
    },
    {
      "cell_type": "code",
      "source": [
        "encode_slide_tiles_with_gigapath(\n",
        "    tile_folder=\"/content/tiles/BRACS_1892/output\",\n",
        "    save_path=\"/content/tiles/BRACS_1892/output/tile_embeddings.pt\"\n",
        ")\n"
      ],
      "metadata": {
        "id": "sjaNfqxGWd3b"
      },
      "id": "sjaNfqxGWd3b",
      "execution_count": null,
      "outputs": []
    }
  ],
  "metadata": {
    "language_info": {
      "name": "python"
    },
    "colab": {
      "provenance": []
    },
    "kernelspec": {
      "name": "python3",
      "display_name": "Python 3"
    }
  },
  "nbformat": 4,
  "nbformat_minor": 5
}