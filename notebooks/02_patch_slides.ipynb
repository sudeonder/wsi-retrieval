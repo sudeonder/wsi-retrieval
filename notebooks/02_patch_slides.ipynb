{
 "cells": [
  {
   "cell_type": "code",
   "execution_count": null,
   "id": "e8a0fd3a",
   "metadata": {
    "vscode": {
     "languageId": "plaintext"
    }
   },
   "outputs": [],
   "source": [
    "# System and Python dependencies\n",
    "!apt-get install -y openslide-tools\n",
    "!pip install openslide-python scikit-image timm pandas tqdm --quiet"
   ]
  }
 ],
 "metadata": {
  "language_info": {
   "name": "python"
  }
 },
 "nbformat": 4,
 "nbformat_minor": 5
}
