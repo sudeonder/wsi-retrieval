{
  "cells": [
    {
      "cell_type": "code",
      "execution_count": 31,
      "id": "dN54YhnGKWdT",
      "metadata": {
        "id": "dN54YhnGKWdT"
      },
      "outputs": [],
      "source": [
        "import os\n",
        "# insert token\n",
        "hf_token = os.getenv(\"HF_TOKEN\")\n",
        "assert hf_token, \"HF_TOKEN is not set\"\n",
        "\n",
        "# Authenticate to access Google Cloud resources\n",
        "from google.colab import auth\n",
        "auth.authenticate_user()\n"
      ]
    },
    {
      "cell_type": "code",
      "source": [
        "!apt-get install -y python3-dev\n",
        "!pip install --no-binary :all: crcmod"
      ],
      "metadata": {
        "colab": {
          "base_uri": "https://localhost:8080/"
        },
        "id": "KdGubC3bhNg0",
        "outputId": "6182c593-0039-471c-cba3-e1dd3c8f3b2a"
      },
      "id": "KdGubC3bhNg0",
      "execution_count": 14,
      "outputs": [
        {
          "output_type": "stream",
          "name": "stdout",
          "text": [
            "Reading package lists... Done\n",
            "Building dependency tree... Done\n",
            "Reading state information... Done\n",
            "python3-dev is already the newest version (3.10.6-1~22.04.1).\n",
            "python3-dev set to manually installed.\n",
            "0 upgraded, 0 newly installed, 0 to remove and 34 not upgraded.\n",
            "Collecting crcmod\n",
            "  Downloading crcmod-1.7.tar.gz (89 kB)\n",
            "\u001b[2K     \u001b[90m━━━━━━━━━━━━━━━━━━━━━━━━━━━━━━━━━━━━━━━━\u001b[0m \u001b[32m89.7/89.7 kB\u001b[0m \u001b[31m2.7 MB/s\u001b[0m eta \u001b[36m0:00:00\u001b[0m\n",
            "\u001b[?25h  Preparing metadata (setup.py) ... \u001b[?25l\u001b[?25hdone\n",
            "Building wheels for collected packages: crcmod\n",
            "  Building wheel for crcmod (setup.py) ... \u001b[?25l\u001b[?25hdone\n",
            "  Created wheel for crcmod: filename=crcmod-1.7-cp311-cp311-linux_x86_64.whl size=31658 sha256=43a34b56d31267cf01452ffcb15533388c3095d49d976f7d64c06d3b2ebf9932\n",
            "  Stored in directory: /root/.cache/pip/wheels/23/94/7a/8cb7d14597e6395ce969933f01aed9ea8fa5f5b4d4c8a61e99\n",
            "Successfully built crcmod\n",
            "Installing collected packages: crcmod\n",
            "Successfully installed crcmod-1.7\n"
          ]
        }
      ]
    },
    {
      "cell_type": "code",
      "source": [
        "\n",
        "from google.colab import auth\n",
        "auth.authenticate_user()\n",
        "\n",
        "from google.cloud import storage\n",
        "from pathlib import Path\n",
        "import os"
      ],
      "metadata": {
        "id": "Uky-syrJhOaY"
      },
      "id": "Uky-syrJhOaY",
      "execution_count": 15,
      "outputs": []
    },
    {
      "cell_type": "code",
      "execution_count": 10,
      "id": "KSokrlYLGeKK",
      "metadata": {
        "colab": {
          "base_uri": "https://localhost:8080/"
        },
        "id": "KSokrlYLGeKK",
        "outputId": "e2890090-a8d2-46fd-a47a-75cef55bd21c"
      },
      "outputs": [
        {
          "output_type": "stream",
          "name": "stdout",
          "text": [
            "✅ Tile Encoder loaded.\n",
            "🧮 Total parameters: 1134953984\n"
          ]
        }
      ],
      "source": [
        "import os\n",
        "from pathlib import Path\n",
        "import torch\n",
        "import timm\n",
        "from PIL import Image\n",
        "from torchvision import transforms\n",
        "from tqdm import tqdm\n",
        "import subprocess\n",
        "\n",
        "# Set paths\n",
        "gcs_bucket = \"bracs-dataset-bucket\"\n",
        "tile_root_gcs = f\"gs://{gcs_bucket}/Tiles/train\"\n",
        "embedding_root_gcs = f\"gs://{gcs_bucket}/Embeddings/train\"\n",
        "tile_root_local = Path(\"/content/tiles/train\")\n",
        "embedding_root_local = Path(\"/content/embeddings/train\")\n",
        "\n",
        "tile_root_local.mkdir(parents=True, exist_ok=True)\n",
        "embedding_root_local.mkdir(parents=True, exist_ok=True)\n",
        "\n",
        "# Load model\n",
        "tile_encoder = timm.create_model(\"hf_hub:prov-gigapath/prov-gigapath\", pretrained=True).cuda().eval()\n",
        "print(\"✅ Tile Encoder loaded.\")\n",
        "print(\"🧮 Total parameters:\", sum(p.numel() for p in tile_encoder.parameters()))\n",
        "\n",
        "# Image transform\n",
        "transform = transforms.Compose([\n",
        "    transforms.Resize(256, interpolation=transforms.InterpolationMode.BICUBIC),\n",
        "    transforms.CenterCrop(224),\n",
        "    transforms.ToTensor(),\n",
        "    transforms.Normalize(mean=(0.485, 0.456, 0.406), std=(0.229, 0.224, 0.225)),\n",
        "])\n"
      ]
    },
    {
      "cell_type": "code",
      "source": [
        "def encode_slide_tiles(slide_id: str):\n",
        "    slide_tile_dir = tile_root_local / slide_id\n",
        "    save_path = embedding_root_local / slide_id / f\"{slide_id}_embeddings.pt\"\n",
        "    save_path.parent.mkdir(parents=True, exist_ok=True)\n",
        "\n",
        "    image_paths = sorted(slide_tile_dir.glob(\"*.png\"))\n",
        "    print(f\"📂 {slide_id}: {len(image_paths)} tiles\")\n",
        "\n",
        "    all_embeddings = []\n",
        "    all_coords = []\n",
        "\n",
        "    for img_path in tqdm(image_paths, desc=f\"🧠 Encoding {slide_id}\"):\n",
        "        img = Image.open(img_path).convert(\"RGB\")\n",
        "        x = transform(img).unsqueeze(0).cuda()\n",
        "\n",
        "        with torch.no_grad():\n",
        "            embed = tile_encoder(x).squeeze().cpu()\n",
        "\n",
        "        # Extract (x, y) from filename: \"x1234_y5678.png\"\n",
        "        name_parts = img_path.stem.split(\"_\")\n",
        "        x_coord = int(name_parts[0][1:])\n",
        "        y_coord = int(name_parts[1][1:])\n",
        "\n",
        "        all_embeddings.append(embed)\n",
        "        all_coords.append([x_coord, y_coord])\n",
        "\n",
        "        print(f\"📏 {img_path.name}: embedding shape {embed.shape}\")\n",
        "\n",
        "    # Stack and save\n",
        "    embeddings_tensor = torch.stack(all_embeddings)\n",
        "    coords_tensor = torch.tensor(all_coords)\n",
        "\n",
        "    print(f\"📊 {slide_id}: embeddings shape {embeddings_tensor.shape}, coords shape {coords_tensor.shape}\")\n",
        "\n",
        "    torch.save({\n",
        "        \"embeddings\": embeddings_tensor,\n",
        "        \"coords\": coords_tensor\n",
        "    }, save_path)\n",
        "\n",
        "    print(f\"✅ Saved slide embeddings to {save_path}\")\n"
      ],
      "metadata": {
        "id": "6oVOZAcJgEy-"
      },
      "id": "6oVOZAcJgEy-",
      "execution_count": 28,
      "outputs": []
    },
    {
      "cell_type": "code",
      "execution_count": 23,
      "id": "OUGnhkQeIGpN",
      "metadata": {
        "id": "OUGnhkQeIGpN"
      },
      "outputs": [],
      "source": [
        "def run_encoder_pipeline_from_gcs():\n",
        "    # List all subfolders in the GCS bucket\n",
        "    list_command = f\"gsutil ls {tile_root_gcs}/\"\n",
        "    result = subprocess.run(list_command.split(), capture_output=True, text=True)\n",
        "    slide_dirs = [line.strip().rstrip(\"/\") for line in result.stdout.strip().split(\"\\n\")]\n",
        "\n",
        "    for slide_path in slide_dirs:\n",
        "        slide_id = Path(slide_path).name\n",
        "        print(f\"\\n🔽 Downloading tiles for {slide_id}...\")\n",
        "\n",
        "        # Download to /content/tiles/train/BRACS_xxx\n",
        "        local_slide_dir = tile_root_local / slide_id\n",
        "        subprocess.run([\n",
        "    \"gsutil\", \"-m\", \"cp\", \"-r\", str(slide_path), str(local_slide_dir.parent)\n",
        "], check=True)\n",
        "\n",
        "        # Run inference\n",
        "        encode_slide_tiles(slide_id)\n",
        "\n",
        "        # Upload embeddings\n",
        "        gcs_target = f\"{embedding_root_gcs}/{slide_id}\"\n",
        "        subprocess.run([\"gsutil\", \"-m\", \"cp\", \"-r\", str(embedding_root_local / slide_id), gcs_target], check=True)\n",
        "        print(f\"☁️ Uploaded embeddings for {slide_id} to {gcs_target}\")\n",
        "\n",
        "        # Cleanup\n",
        "        subprocess.run([\"rm\", \"-rf\", str(local_slide_dir)])\n",
        "        subprocess.run([\"rm\", \"-rf\", str(embedding_root_local / slide_id)])\n"
      ]
    },
    {
      "cell_type": "code",
      "execution_count": 29,
      "id": "dDGU85JfT75N",
      "metadata": {
        "colab": {
          "base_uri": "https://localhost:8080/"
        },
        "id": "dDGU85JfT75N",
        "outputId": "b963c0ab-87bf-47be-a7f0-1599f9480c0b"
      },
      "outputs": [
        {
          "output_type": "stream",
          "name": "stdout",
          "text": [
            "\n",
            "🔽 Downloading tiles for BRACS_1003728...\n",
            "📂 BRACS_1003728: 109 tiles\n"
          ]
        },
        {
          "output_type": "stream",
          "name": "stderr",
          "text": [
            "🧠 Encoding BRACS_1003728:   2%|▏         | 2/109 [00:00<00:06, 16.78it/s]"
          ]
        },
        {
          "output_type": "stream",
          "name": "stdout",
          "text": [
            "📏 x10304_y46144.png: embedding shape torch.Size([1536])\n",
            "📏 x10304_y46592.png: embedding shape torch.Size([1536])\n",
            "📏 x107968_y61824.png: embedding shape torch.Size([1536])\n"
          ]
        },
        {
          "output_type": "stream",
          "name": "stderr",
          "text": [
            "\r🧠 Encoding BRACS_1003728:   4%|▎         | 4/109 [00:00<00:05, 18.28it/s]"
          ]
        },
        {
          "output_type": "stream",
          "name": "stdout",
          "text": [
            "📏 x114240_y57792.png: embedding shape torch.Size([1536])\n"
          ]
        },
        {
          "output_type": "stream",
          "name": "stderr",
          "text": [
            "\r🧠 Encoding BRACS_1003728:   6%|▋         | 7/109 [00:00<00:05, 19.66it/s]"
          ]
        },
        {
          "output_type": "stream",
          "name": "stdout",
          "text": [
            "📏 x116032_y63168.png: embedding shape torch.Size([1536])\n",
            "📏 x122752_y11200.png: embedding shape torch.Size([1536])\n",
            "📏 x122752_y12096.png: embedding shape torch.Size([1536])\n",
            "📏 x122752_y12544.png: embedding shape torch.Size([1536])\n",
            "📏 x123648_y8512.png: embedding shape torch.Size([1536])\n"
          ]
        },
        {
          "output_type": "stream",
          "name": "stderr",
          "text": [
            "🧠 Encoding BRACS_1003728:  12%|█▏        | 13/109 [00:00<00:04, 20.48it/s]"
          ]
        },
        {
          "output_type": "stream",
          "name": "stdout",
          "text": [
            "📏 x124096_y13440.png: embedding shape torch.Size([1536])\n",
            "📏 x124096_y13888.png: embedding shape torch.Size([1536])\n",
            "📏 x124096_y14336.png: embedding shape torch.Size([1536])\n",
            "📏 x124096_y15232.png: embedding shape torch.Size([1536])\n",
            "📏 x124096_y33152.png: embedding shape torch.Size([1536])\n"
          ]
        },
        {
          "output_type": "stream",
          "name": "stderr",
          "text": [
            "\r🧠 Encoding BRACS_1003728:  15%|█▍        | 16/109 [00:00<00:04, 20.60it/s]"
          ]
        },
        {
          "output_type": "stream",
          "name": "stdout",
          "text": [
            "📏 x124544_y12544.png: embedding shape torch.Size([1536])\n",
            "📏 x124544_y13888.png: embedding shape torch.Size([1536])\n",
            "📏 x124544_y14336.png: embedding shape torch.Size([1536])\n",
            "📏 x124544_y14784.png: embedding shape torch.Size([1536])\n"
          ]
        },
        {
          "output_type": "stream",
          "name": "stderr",
          "text": [
            "\r🧠 Encoding BRACS_1003728:  17%|█▋        | 19/109 [00:00<00:04, 20.73it/s]"
          ]
        },
        {
          "output_type": "stream",
          "name": "stdout",
          "text": [
            "📏 x124544_y15232.png: embedding shape torch.Size([1536])\n"
          ]
        },
        {
          "output_type": "stream",
          "name": "stderr",
          "text": [
            "\r🧠 Encoding BRACS_1003728:  20%|██        | 22/109 [00:01<00:04, 20.71it/s]"
          ]
        },
        {
          "output_type": "stream",
          "name": "stdout",
          "text": [
            "📏 x124544_y16128.png: embedding shape torch.Size([1536])\n",
            "📏 x124544_y16576.png: embedding shape torch.Size([1536])\n",
            "📏 x124992_y13440.png: embedding shape torch.Size([1536])\n",
            "📏 x124992_y14336.png: embedding shape torch.Size([1536])\n",
            "📏 x124992_y14784.png: embedding shape torch.Size([1536])\n"
          ]
        },
        {
          "output_type": "stream",
          "name": "stderr",
          "text": [
            "🧠 Encoding BRACS_1003728:  26%|██▌       | 28/109 [00:01<00:03, 20.84it/s]"
          ]
        },
        {
          "output_type": "stream",
          "name": "stdout",
          "text": [
            "📏 x124992_y15232.png: embedding shape torch.Size([1536])\n",
            "📏 x124992_y15680.png: embedding shape torch.Size([1536])\n",
            "📏 x124992_y16128.png: embedding shape torch.Size([1536])\n",
            "📏 x124992_y16576.png: embedding shape torch.Size([1536])\n",
            "📏 x124992_y17024.png: embedding shape torch.Size([1536])\n"
          ]
        },
        {
          "output_type": "stream",
          "name": "stderr",
          "text": [
            "\r🧠 Encoding BRACS_1003728:  28%|██▊       | 31/109 [00:01<00:03, 20.85it/s]"
          ]
        },
        {
          "output_type": "stream",
          "name": "stdout",
          "text": [
            "📏 x125440_y12992.png: embedding shape torch.Size([1536])\n",
            "📏 x125440_y13888.png: embedding shape torch.Size([1536])\n",
            "📏 x125440_y14336.png: embedding shape torch.Size([1536])\n",
            "📏 x125440_y14784.png: embedding shape torch.Size([1536])\n"
          ]
        },
        {
          "output_type": "stream",
          "name": "stderr",
          "text": [
            "\r🧠 Encoding BRACS_1003728:  31%|███       | 34/109 [00:01<00:03, 20.89it/s]"
          ]
        },
        {
          "output_type": "stream",
          "name": "stdout",
          "text": [
            "📏 x125888_y13440.png: embedding shape torch.Size([1536])\n"
          ]
        },
        {
          "output_type": "stream",
          "name": "stderr",
          "text": [
            "\r🧠 Encoding BRACS_1003728:  34%|███▍      | 37/109 [00:01<00:03, 20.92it/s]"
          ]
        },
        {
          "output_type": "stream",
          "name": "stdout",
          "text": [
            "📏 x125888_y13888.png: embedding shape torch.Size([1536])\n",
            "📏 x125888_y14336.png: embedding shape torch.Size([1536])\n",
            "📏 x15680_y58688.png: embedding shape torch.Size([1536])\n",
            "📏 x16128_y59584.png: embedding shape torch.Size([1536])\n",
            "📏 x22400_y55104.png: embedding shape torch.Size([1536])\n"
          ]
        },
        {
          "output_type": "stream",
          "name": "stderr",
          "text": [
            "🧠 Encoding BRACS_1003728:  39%|███▉      | 43/109 [00:02<00:03, 20.95it/s]"
          ]
        },
        {
          "output_type": "stream",
          "name": "stdout",
          "text": [
            "📏 x22400_y58240.png: embedding shape torch.Size([1536])\n",
            "📏 x23296_y56000.png: embedding shape torch.Size([1536])\n",
            "📏 x23296_y59584.png: embedding shape torch.Size([1536])\n",
            "📏 x24192_y58240.png: embedding shape torch.Size([1536])\n",
            "📏 x24192_y58688.png: embedding shape torch.Size([1536])\n"
          ]
        },
        {
          "output_type": "stream",
          "name": "stderr",
          "text": [
            "\r🧠 Encoding BRACS_1003728:  42%|████▏     | 46/109 [00:02<00:03, 20.96it/s]"
          ]
        },
        {
          "output_type": "stream",
          "name": "stdout",
          "text": [
            "📏 x24192_y59136.png: embedding shape torch.Size([1536])\n",
            "📏 x24192_y59584.png: embedding shape torch.Size([1536])\n",
            "📏 x24192_y60032.png: embedding shape torch.Size([1536])\n",
            "📏 x25088_y59584.png: embedding shape torch.Size([1536])\n"
          ]
        },
        {
          "output_type": "stream",
          "name": "stderr",
          "text": [
            "\r🧠 Encoding BRACS_1003728:  45%|████▍     | 49/109 [00:02<00:02, 20.98it/s]"
          ]
        },
        {
          "output_type": "stream",
          "name": "stdout",
          "text": [
            "📏 x28672_y60032.png: embedding shape torch.Size([1536])\n"
          ]
        },
        {
          "output_type": "stream",
          "name": "stderr",
          "text": [
            "\r🧠 Encoding BRACS_1003728:  48%|████▊     | 52/109 [00:02<00:02, 20.88it/s]"
          ]
        },
        {
          "output_type": "stream",
          "name": "stdout",
          "text": [
            "📏 x32256_y39872.png: embedding shape torch.Size([1536])\n",
            "📏 x33600_y45248.png: embedding shape torch.Size([1536])\n",
            "📏 x33600_y9408.png: embedding shape torch.Size([1536])\n",
            "📏 x34048_y5824.png: embedding shape torch.Size([1536])\n",
            "📏 x34048_y8512.png: embedding shape torch.Size([1536])\n"
          ]
        },
        {
          "output_type": "stream",
          "name": "stderr",
          "text": [
            "🧠 Encoding BRACS_1003728:  53%|█████▎    | 58/109 [00:02<00:02, 20.89it/s]"
          ]
        },
        {
          "output_type": "stream",
          "name": "stdout",
          "text": [
            "📏 x34048_y8960.png: embedding shape torch.Size([1536])\n",
            "📏 x34048_y9408.png: embedding shape torch.Size([1536])\n",
            "📏 x34496_y5824.png: embedding shape torch.Size([1536])\n",
            "📏 x34496_y8064.png: embedding shape torch.Size([1536])\n",
            "📏 x34944_y5824.png: embedding shape torch.Size([1536])\n"
          ]
        },
        {
          "output_type": "stream",
          "name": "stderr",
          "text": [
            "\r🧠 Encoding BRACS_1003728:  56%|█████▌    | 61/109 [00:02<00:02, 20.87it/s]"
          ]
        },
        {
          "output_type": "stream",
          "name": "stdout",
          "text": [
            "📏 x35840_y37632.png: embedding shape torch.Size([1536])\n",
            "📏 x35840_y38528.png: embedding shape torch.Size([1536])\n",
            "📏 x3584_y24640.png: embedding shape torch.Size([1536])\n",
            "📏 x36288_y37632.png: embedding shape torch.Size([1536])\n"
          ]
        },
        {
          "output_type": "stream",
          "name": "stderr",
          "text": [
            "\r🧠 Encoding BRACS_1003728:  59%|█████▊    | 64/109 [00:03<00:02, 20.87it/s]"
          ]
        },
        {
          "output_type": "stream",
          "name": "stdout",
          "text": [
            "📏 x36288_y38080.png: embedding shape torch.Size([1536])\n"
          ]
        },
        {
          "output_type": "stream",
          "name": "stderr",
          "text": [
            "\r🧠 Encoding BRACS_1003728:  61%|██████▏   | 67/109 [00:03<00:02, 20.87it/s]"
          ]
        },
        {
          "output_type": "stream",
          "name": "stdout",
          "text": [
            "📏 x36288_y6272.png: embedding shape torch.Size([1536])\n",
            "📏 x36288_y6720.png: embedding shape torch.Size([1536])\n",
            "📏 x36736_y11648.png: embedding shape torch.Size([1536])\n",
            "📏 x36736_y12096.png: embedding shape torch.Size([1536])\n",
            "📏 x36736_y6720.png: embedding shape torch.Size([1536])\n"
          ]
        },
        {
          "output_type": "stream",
          "name": "stderr",
          "text": [
            "🧠 Encoding BRACS_1003728:  67%|██████▋   | 73/109 [00:03<00:01, 20.91it/s]"
          ]
        },
        {
          "output_type": "stream",
          "name": "stdout",
          "text": [
            "📏 x37184_y11200.png: embedding shape torch.Size([1536])\n",
            "📏 x37184_y11648.png: embedding shape torch.Size([1536])\n",
            "📏 x37184_y12096.png: embedding shape torch.Size([1536])\n",
            "📏 x37632_y10752.png: embedding shape torch.Size([1536])\n",
            "📏 x37632_y11200.png: embedding shape torch.Size([1536])\n"
          ]
        },
        {
          "output_type": "stream",
          "name": "stderr",
          "text": [
            "\r🧠 Encoding BRACS_1003728:  70%|██████▉   | 76/109 [00:03<00:01, 20.95it/s]"
          ]
        },
        {
          "output_type": "stream",
          "name": "stdout",
          "text": [
            "📏 x37632_y11648.png: embedding shape torch.Size([1536])\n",
            "📏 x38080_y10752.png: embedding shape torch.Size([1536])\n",
            "📏 x41664_y4928.png: embedding shape torch.Size([1536])\n",
            "📏 x41664_y5376.png: embedding shape torch.Size([1536])\n"
          ]
        },
        {
          "output_type": "stream",
          "name": "stderr",
          "text": [
            "\r🧠 Encoding BRACS_1003728:  72%|███████▏  | 79/109 [00:03<00:01, 20.97it/s]"
          ]
        },
        {
          "output_type": "stream",
          "name": "stdout",
          "text": [
            "📏 x42112_y4928.png: embedding shape torch.Size([1536])\n"
          ]
        },
        {
          "output_type": "stream",
          "name": "stderr",
          "text": [
            "\r🧠 Encoding BRACS_1003728:  75%|███████▌  | 82/109 [00:03<00:01, 20.90it/s]"
          ]
        },
        {
          "output_type": "stream",
          "name": "stdout",
          "text": [
            "📏 x42112_y5376.png: embedding shape torch.Size([1536])\n",
            "📏 x42560_y4480.png: embedding shape torch.Size([1536])\n",
            "📏 x43904_y43456.png: embedding shape torch.Size([1536])\n",
            "📏 x43904_y43904.png: embedding shape torch.Size([1536])\n",
            "📏 x44352_y43456.png: embedding shape torch.Size([1536])\n"
          ]
        },
        {
          "output_type": "stream",
          "name": "stderr",
          "text": [
            "🧠 Encoding BRACS_1003728:  81%|████████  | 88/109 [00:04<00:01, 20.94it/s]"
          ]
        },
        {
          "output_type": "stream",
          "name": "stdout",
          "text": [
            "📏 x44352_y43904.png: embedding shape torch.Size([1536])\n",
            "📏 x44800_y43904.png: embedding shape torch.Size([1536])\n",
            "📏 x4480_y25536.png: embedding shape torch.Size([1536])\n",
            "📏 x4480_y25984.png: embedding shape torch.Size([1536])\n",
            "📏 x46144_y45248.png: embedding shape torch.Size([1536])\n"
          ]
        },
        {
          "output_type": "stream",
          "name": "stderr",
          "text": [
            "\r🧠 Encoding BRACS_1003728:  83%|████████▎ | 91/109 [00:04<00:00, 20.92it/s]"
          ]
        },
        {
          "output_type": "stream",
          "name": "stdout",
          "text": [
            "📏 x46592_y45248.png: embedding shape torch.Size([1536])\n",
            "📏 x46592_y45696.png: embedding shape torch.Size([1536])\n",
            "📏 x4928_y25984.png: embedding shape torch.Size([1536])\n",
            "📏 x5824_y25088.png: embedding shape torch.Size([1536])\n"
          ]
        },
        {
          "output_type": "stream",
          "name": "stderr",
          "text": [
            "\r🧠 Encoding BRACS_1003728:  86%|████████▌ | 94/109 [00:04<00:00, 20.89it/s]"
          ]
        },
        {
          "output_type": "stream",
          "name": "stdout",
          "text": [
            "📏 x6720_y26432.png: embedding shape torch.Size([1536])\n"
          ]
        },
        {
          "output_type": "stream",
          "name": "stderr",
          "text": [
            "\r🧠 Encoding BRACS_1003728:  89%|████████▉ | 97/109 [00:04<00:00, 20.90it/s]"
          ]
        },
        {
          "output_type": "stream",
          "name": "stdout",
          "text": [
            "📏 x71232_y59136.png: embedding shape torch.Size([1536])\n",
            "📏 x71680_y58688.png: embedding shape torch.Size([1536])\n",
            "📏 x71680_y59136.png: embedding shape torch.Size([1536])\n",
            "📏 x8064_y26880.png: embedding shape torch.Size([1536])\n",
            "📏 x8064_y30464.png: embedding shape torch.Size([1536])\n"
          ]
        },
        {
          "output_type": "stream",
          "name": "stderr",
          "text": [
            "🧠 Encoding BRACS_1003728:  94%|█████████▍| 103/109 [00:04<00:00, 20.89it/s]"
          ]
        },
        {
          "output_type": "stream",
          "name": "stdout",
          "text": [
            "📏 x8064_y33152.png: embedding shape torch.Size([1536])\n",
            "📏 x8512_y29568.png: embedding shape torch.Size([1536])\n",
            "📏 x8512_y30016.png: embedding shape torch.Size([1536])\n",
            "📏 x8512_y30912.png: embedding shape torch.Size([1536])\n",
            "📏 x90048_y51968.png: embedding shape torch.Size([1536])\n"
          ]
        },
        {
          "output_type": "stream",
          "name": "stderr",
          "text": [
            "\r🧠 Encoding BRACS_1003728:  97%|█████████▋| 106/109 [00:05<00:00, 20.88it/s]"
          ]
        },
        {
          "output_type": "stream",
          "name": "stdout",
          "text": [
            "📏 x90048_y52416.png: embedding shape torch.Size([1536])\n",
            "📏 x94080_y30016.png: embedding shape torch.Size([1536])\n",
            "📏 x9856_y33152.png: embedding shape torch.Size([1536])\n",
            "📏 x9856_y46144.png: embedding shape torch.Size([1536])\n"
          ]
        },
        {
          "output_type": "stream",
          "name": "stderr",
          "text": [
            "🧠 Encoding BRACS_1003728: 100%|██████████| 109/109 [00:05<00:00, 20.78it/s]"
          ]
        },
        {
          "output_type": "stream",
          "name": "stdout",
          "text": [
            "📏 x9856_y46592.png: embedding shape torch.Size([1536])\n",
            "📊 BRACS_1003728: embeddings shape torch.Size([109, 1536]), coords shape torch.Size([109, 2])\n",
            "✅ Saved slide embeddings to /content/embeddings/train/BRACS_1003728/BRACS_1003728_embeddings.pt\n"
          ]
        },
        {
          "output_type": "stream",
          "name": "stderr",
          "text": [
            "\n"
          ]
        },
        {
          "output_type": "stream",
          "name": "stdout",
          "text": [
            "☁️ Uploaded embeddings for BRACS_1003728 to gs://bracs-dataset-bucket/Embeddings/train/BRACS_1003728\n"
          ]
        }
      ],
      "source": [
        "run_encoder_pipeline_from_gcs()\n"
      ]
    }
  ],
  "metadata": {
    "accelerator": "GPU",
    "colab": {
      "gpuType": "A100",
      "machine_shape": "hm",
      "provenance": []
    },
    "kernelspec": {
      "display_name": "Python 3",
      "name": "python3"
    },
    "language_info": {
      "name": "python"
    }
  },
  "nbformat": 4,
  "nbformat_minor": 5
}