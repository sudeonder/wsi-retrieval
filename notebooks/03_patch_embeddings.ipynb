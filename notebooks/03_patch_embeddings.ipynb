{
  "cells": [
    {
      "cell_type": "code",
      "execution_count": null,
      "id": "dN54YhnGKWdT",
      "metadata": {
        "id": "dN54YhnGKWdT"
      },
      "outputs": [],
      "source": [
        "import os\n",
        "# insert token\n",
        "# hf_token = os.getenv(\"HF_TOKEN\")\n",
        "assert hf_token, \"HF_TOKEN is not set\"\n",
        "\n",
        "# Authenticate to access Google Cloud resources\n",
        "from google.colab import auth\n",
        "auth.authenticate_user()\n"
      ]
    },
    {
      "cell_type": "code",
      "execution_count": null,
      "id": "KdGubC3bhNg0",
      "metadata": {
        "colab": {
          "base_uri": "https://localhost:8080/"
        },
        "id": "KdGubC3bhNg0",
        "outputId": "6182c593-0039-471c-cba3-e1dd3c8f3b2a"
      },
      "outputs": [
        {
          "name": "stdout",
          "output_type": "stream",
          "text": [
            "Reading package lists... Done\n",
            "Building dependency tree... Done\n",
            "Reading state information... Done\n",
            "python3-dev is already the newest version (3.10.6-1~22.04.1).\n",
            "python3-dev set to manually installed.\n",
            "0 upgraded, 0 newly installed, 0 to remove and 34 not upgraded.\n",
            "Collecting crcmod\n",
            "  Downloading crcmod-1.7.tar.gz (89 kB)\n",
            "\u001b[2K     \u001b[90m━━━━━━━━━━━━━━━━━━━━━━━━━━━━━━━━━━━━━━━━\u001b[0m \u001b[32m89.7/89.7 kB\u001b[0m \u001b[31m2.7 MB/s\u001b[0m eta \u001b[36m0:00:00\u001b[0m\n",
            "\u001b[?25h  Preparing metadata (setup.py) ... \u001b[?25l\u001b[?25hdone\n",
            "Building wheels for collected packages: crcmod\n",
            "  Building wheel for crcmod (setup.py) ... \u001b[?25l\u001b[?25hdone\n",
            "  Created wheel for crcmod: filename=crcmod-1.7-cp311-cp311-linux_x86_64.whl size=31658 sha256=43a34b56d31267cf01452ffcb15533388c3095d49d976f7d64c06d3b2ebf9932\n",
            "  Stored in directory: /root/.cache/pip/wheels/23/94/7a/8cb7d14597e6395ce969933f01aed9ea8fa5f5b4d4c8a61e99\n",
            "Successfully built crcmod\n",
            "Installing collected packages: crcmod\n",
            "Successfully installed crcmod-1.7\n"
          ]
        }
      ],
      "source": [
        "!apt-get install -y python3-dev\n",
        "!pip install --no-binary :all: crcmod"
      ]
    },
    {
      "cell_type": "code",
      "execution_count": 7,
      "id": "Uky-syrJhOaY",
      "metadata": {
        "id": "Uky-syrJhOaY"
      },
      "outputs": [],
      "source": [
        "\n",
        "from google.colab import auth\n",
        "auth.authenticate_user()\n",
        "\n",
        "from google.cloud import storage\n",
        "from pathlib import Path\n",
        "import os"
      ]
    },
    {
      "cell_type": "code",
      "execution_count": 11,
      "id": "KSokrlYLGeKK",
      "metadata": {
        "colab": {
          "base_uri": "https://localhost:8080/"
        },
        "id": "KSokrlYLGeKK",
        "outputId": "44b894b0-76b4-469a-aa44-7afc772a1a83"
      },
      "outputs": [
        {
          "name": "stdout",
          "output_type": "stream",
          "text": [
            "✅ Tile Encoder loaded.\n",
            "🧮 Total parameters: 1134953984\n"
          ]
        }
      ],
      "source": [
        "import os\n",
        "from pathlib import Path\n",
        "import torch\n",
        "import timm\n",
        "from PIL import Image\n",
        "from torchvision import transforms\n",
        "from tqdm import tqdm\n",
        "import subprocess\n",
        "\n",
        "split = 'val'\n",
        "\n",
        "# Set paths\n",
        "gcs_bucket = \"bracs-dataset-bucket\"\n",
        "tile_root_gcs = f\"gs://{gcs_bucket}/Tiles/{split}\"\n",
        "embedding_root_gcs = f\"gs://{gcs_bucket}/Embeddings/{split}\"\n",
        "tile_root_local = Path(f\"/content/tiles/{split}\")\n",
        "embedding_root_local = Path(f\"/content/embeddings/{split}\")\n",
        "\n",
        "tile_root_local.mkdir(parents=True, exist_ok=True)\n",
        "embedding_root_local.mkdir(parents=True, exist_ok=True)\n",
        "\n",
        "# Load model\n",
        "tile_encoder = timm.create_model(\"hf_hub:prov-gigapath/prov-gigapath\", pretrained=True).cuda().eval()\n",
        "print(\"✅ Tile Encoder loaded.\")\n",
        "print(\"🧮 Total parameters:\", sum(p.numel() for p in tile_encoder.parameters()))\n",
        "\n",
        "# Image transform\n",
        "transform = transforms.Compose([\n",
        "    transforms.Resize(256, interpolation=transforms.InterpolationMode.BICUBIC),\n",
        "    transforms.CenterCrop(224),\n",
        "    transforms.ToTensor(),\n",
        "    transforms.Normalize(mean=(0.485, 0.456, 0.406), std=(0.229, 0.224, 0.225)),\n",
        "])\n"
      ]
    },
    {
      "cell_type": "code",
      "execution_count": 14,
      "id": "6oVOZAcJgEy-",
      "metadata": {
        "id": "6oVOZAcJgEy-"
      },
      "outputs": [],
      "source": [
        "def encode_slide_tiles(slide_id: str):\n",
        "    slide_tile_dir = tile_root_local / slide_id\n",
        "    save_path = embedding_root_local / slide_id / f\"{slide_id}_embeddings.pt\"\n",
        "    save_path.parent.mkdir(parents=True, exist_ok=True)\n",
        "\n",
        "    image_paths = sorted([p for p in slide_tile_dir.glob(\"*.png\") if p.name != \"thumbnail.png\"])\n",
        "    print(f\"Found {len(image_paths)} tiles for {slide_id}\")\n",
        "\n",
        "    all_embeddings = []\n",
        "    all_coords = []\n",
        "\n",
        "    for img_path in tqdm(image_paths, desc=f\"🧠 Encoding {slide_id}\"):\n",
        "        img = Image.open(img_path).convert(\"RGB\")\n",
        "        x = transform(img).unsqueeze(0).cuda()\n",
        "\n",
        "        with torch.no_grad():\n",
        "            embed = tile_encoder(x).squeeze()  # Keep on GPU\n",
        "\n",
        "        # Extract (x, y) from filename: \"x1234_y5678.png\"\n",
        "        name_parts = img_path.stem.split(\"_\")\n",
        "        x_coord = int(name_parts[0][1:])\n",
        "        y_coord = int(name_parts[1][1:])\n",
        "\n",
        "        all_embeddings.append(embed)\n",
        "        all_coords.append([x_coord, y_coord])\n",
        "\n",
        "    # Stack on GPU, then move to CPU once\n",
        "    embeddings_tensor = torch.stack(all_embeddings).cpu()\n",
        "    coords_tensor = torch.tensor(all_coords)\n",
        "\n",
        "    num_tiles = len(all_embeddings)\n",
        "    print(f\"📊 {slide_id}: embeddings shape {embeddings_tensor.shape}, coords shape {coords_tensor.shape}\")\n",
        "    print(f\"🧩 {slide_id}: total {num_tiles} tile embeddings stacked.\")\n",
        "\n",
        "    torch.save({\n",
        "        \"embeddings\": embeddings_tensor,\n",
        "        \"coords\": coords_tensor\n",
        "    }, save_path)\n",
        "\n",
        "    print(f\"✅ Saved slide embeddings to {save_path}\")\n"
      ]
    },
    {
      "cell_type": "code",
      "execution_count": 15,
      "id": "OUGnhkQeIGpN",
      "metadata": {
        "id": "OUGnhkQeIGpN"
      },
      "outputs": [],
      "source": [
        "def run_encoder_pipeline_from_gcs():\n",
        "    # List all subfolders in the GCS bucket\n",
        "    list_command = f\"gsutil ls {tile_root_gcs}/\"\n",
        "    result = subprocess.run(list_command.split(), capture_output=True, text=True)\n",
        "    slide_dirs = [line.strip().rstrip(\"/\") for line in result.stdout.strip().split(\"\\n\")]\n",
        "\n",
        "    for slide_path in slide_dirs:\n",
        "        slide_id = Path(slide_path).name\n",
        "        print(f\"\\n🔽 Downloading tiles for {slide_id}...\")\n",
        "\n",
        "        # Download to /content/tiles/{split}/BRACS_xxx\n",
        "        local_slide_dir = tile_root_local / slide_id\n",
        "        subprocess.run([\n",
        "    \"gsutil\", \"-m\", \"cp\", \"-r\", str(slide_path), str(local_slide_dir.parent)\n",
        "], check=True)\n",
        "\n",
        "        # Run inference\n",
        "        encode_slide_tiles(slide_id)\n",
        "\n",
        "        # Upload embeddings\n",
        "        gcs_target = f\"{embedding_root_gcs}/{slide_id}\"\n",
        "        subprocess.run([\"gsutil\", \"-m\", \"cp\", \"-r\", str(embedding_root_local / slide_id), gcs_target], check=True)\n",
        "        print(f\"☁️ Uploaded embeddings for {slide_id} to {gcs_target}\")\n",
        "\n",
        "        # Cleanup\n",
        "        subprocess.run([\"rm\", \"-rf\", str(local_slide_dir)])\n",
        "        subprocess.run([\"rm\", \"-rf\", str(embedding_root_local / slide_id)])\n"
      ]
    },
    {
      "cell_type": "code",
      "execution_count": null,
      "id": "dDGU85JfT75N",
      "metadata": {
        "colab": {
          "base_uri": "https://localhost:8080/"
        },
        "id": "dDGU85JfT75N",
        "outputId": "a65eccd1-e5ed-4b54-996c-c549128e0681"
      },
      "outputs": [
        {
          "name": "stdout",
          "output_type": "stream",
          "text": [
            "\n",
            "🔽 Downloading tiles for BRACS_1003660...\n",
            "Found 1 tiles for BRACS_1003660\n"
          ]
        },
        {
          "name": "stderr",
          "output_type": "stream",
          "text": [
            "🧠 Encoding BRACS_1003660: 100%|██████████| 1/1 [00:01<00:00,  1.02s/it]\n"
          ]
        },
        {
          "name": "stdout",
          "output_type": "stream",
          "text": [
            "📊 BRACS_1003660: embeddings shape torch.Size([1, 1536]), coords shape torch.Size([1, 2])\n",
            "🧩 BRACS_1003660: total 1 tile embeddings stacked.\n",
            "✅ Saved slide embeddings to /content/embeddings/val/BRACS_1003660/BRACS_1003660_embeddings.pt\n",
            "☁️ Uploaded embeddings for BRACS_1003660 to gs://bracs-dataset-bucket/Embeddings/val/BRACS_1003660\n",
            "\n",
            "🔽 Downloading tiles for BRACS_1003661...\n",
            "Found 282 tiles for BRACS_1003661\n"
          ]
        },
        {
          "name": "stderr",
          "output_type": "stream",
          "text": [
            "🧠 Encoding BRACS_1003661: 100%|██████████| 282/282 [00:11<00:00, 23.57it/s]\n"
          ]
        },
        {
          "name": "stdout",
          "output_type": "stream",
          "text": [
            "📊 BRACS_1003661: embeddings shape torch.Size([282, 1536]), coords shape torch.Size([282, 2])\n",
            "🧩 BRACS_1003661: total 282 tile embeddings stacked.\n",
            "✅ Saved slide embeddings to /content/embeddings/val/BRACS_1003661/BRACS_1003661_embeddings.pt\n",
            "☁️ Uploaded embeddings for BRACS_1003661 to gs://bracs-dataset-bucket/Embeddings/val/BRACS_1003661\n",
            "\n",
            "🔽 Downloading tiles for BRACS_1261...\n",
            "Found 3334 tiles for BRACS_1261\n"
          ]
        },
        {
          "name": "stderr",
          "output_type": "stream",
          "text": [
            "🧠 Encoding BRACS_1261: 100%|██████████| 3334/3334 [02:21<00:00, 23.59it/s]\n"
          ]
        },
        {
          "name": "stdout",
          "output_type": "stream",
          "text": [
            "📊 BRACS_1261: embeddings shape torch.Size([3334, 1536]), coords shape torch.Size([3334, 2])\n",
            "🧩 BRACS_1261: total 3334 tile embeddings stacked.\n",
            "✅ Saved slide embeddings to /content/embeddings/val/BRACS_1261/BRACS_1261_embeddings.pt\n",
            "☁️ Uploaded embeddings for BRACS_1261 to gs://bracs-dataset-bucket/Embeddings/val/BRACS_1261\n",
            "\n",
            "🔽 Downloading tiles for BRACS_1271...\n",
            "Found 861 tiles for BRACS_1271\n"
          ]
        },
        {
          "name": "stderr",
          "output_type": "stream",
          "text": [
            "🧠 Encoding BRACS_1271: 100%|██████████| 861/861 [00:36<00:00, 23.58it/s]\n"
          ]
        },
        {
          "name": "stdout",
          "output_type": "stream",
          "text": [
            "📊 BRACS_1271: embeddings shape torch.Size([861, 1536]), coords shape torch.Size([861, 2])\n",
            "🧩 BRACS_1271: total 861 tile embeddings stacked.\n",
            "✅ Saved slide embeddings to /content/embeddings/val/BRACS_1271/BRACS_1271_embeddings.pt\n",
            "☁️ Uploaded embeddings for BRACS_1271 to gs://bracs-dataset-bucket/Embeddings/val/BRACS_1271\n",
            "\n",
            "🔽 Downloading tiles for BRACS_1275...\n",
            "Found 2614 tiles for BRACS_1275\n"
          ]
        },
        {
          "name": "stderr",
          "output_type": "stream",
          "text": [
            "🧠 Encoding BRACS_1275: 100%|██████████| 2614/2614 [01:50<00:00, 23.59it/s]\n"
          ]
        },
        {
          "name": "stdout",
          "output_type": "stream",
          "text": [
            "📊 BRACS_1275: embeddings shape torch.Size([2614, 1536]), coords shape torch.Size([2614, 2])\n",
            "🧩 BRACS_1275: total 2614 tile embeddings stacked.\n",
            "✅ Saved slide embeddings to /content/embeddings/val/BRACS_1275/BRACS_1275_embeddings.pt\n",
            "☁️ Uploaded embeddings for BRACS_1275 to gs://bracs-dataset-bucket/Embeddings/val/BRACS_1275\n",
            "\n",
            "🔽 Downloading tiles for BRACS_1276...\n",
            "Found 4842 tiles for BRACS_1276\n"
          ]
        },
        {
          "name": "stderr",
          "output_type": "stream",
          "text": [
            "🧠 Encoding BRACS_1276: 100%|██████████| 4842/4842 [03:25<00:00, 23.57it/s]\n"
          ]
        },
        {
          "name": "stdout",
          "output_type": "stream",
          "text": [
            "📊 BRACS_1276: embeddings shape torch.Size([4842, 1536]), coords shape torch.Size([4842, 2])\n",
            "🧩 BRACS_1276: total 4842 tile embeddings stacked.\n",
            "✅ Saved slide embeddings to /content/embeddings/val/BRACS_1276/BRACS_1276_embeddings.pt\n",
            "☁️ Uploaded embeddings for BRACS_1276 to gs://bracs-dataset-bucket/Embeddings/val/BRACS_1276\n",
            "\n",
            "🔽 Downloading tiles for BRACS_1295...\n",
            "Found 3954 tiles for BRACS_1295\n"
          ]
        },
        {
          "name": "stderr",
          "output_type": "stream",
          "text": [
            "🧠 Encoding BRACS_1295: 100%|██████████| 3954/3954 [02:47<00:00, 23.59it/s]\n"
          ]
        },
        {
          "name": "stdout",
          "output_type": "stream",
          "text": [
            "📊 BRACS_1295: embeddings shape torch.Size([3954, 1536]), coords shape torch.Size([3954, 2])\n",
            "🧩 BRACS_1295: total 3954 tile embeddings stacked.\n",
            "✅ Saved slide embeddings to /content/embeddings/val/BRACS_1295/BRACS_1295_embeddings.pt\n",
            "☁️ Uploaded embeddings for BRACS_1295 to gs://bracs-dataset-bucket/Embeddings/val/BRACS_1295\n",
            "\n",
            "🔽 Downloading tiles for BRACS_1296...\n",
            "Found 7265 tiles for BRACS_1296\n"
          ]
        },
        {
          "name": "stderr",
          "output_type": "stream",
          "text": [
            "🧠 Encoding BRACS_1296: 100%|██████████| 7265/7265 [05:07<00:00, 23.60it/s]\n"
          ]
        },
        {
          "name": "stdout",
          "output_type": "stream",
          "text": [
            "📊 BRACS_1296: embeddings shape torch.Size([7265, 1536]), coords shape torch.Size([7265, 2])\n",
            "🧩 BRACS_1296: total 7265 tile embeddings stacked.\n",
            "✅ Saved slide embeddings to /content/embeddings/val/BRACS_1296/BRACS_1296_embeddings.pt\n",
            "☁️ Uploaded embeddings for BRACS_1296 to gs://bracs-dataset-bucket/Embeddings/val/BRACS_1296\n",
            "\n",
            "🔽 Downloading tiles for BRACS_1361...\n",
            "Found 3340 tiles for BRACS_1361\n"
          ]
        },
        {
          "name": "stderr",
          "output_type": "stream",
          "text": [
            "🧠 Encoding BRACS_1361: 100%|██████████| 3340/3340 [02:21<00:00, 23.59it/s]\n"
          ]
        },
        {
          "name": "stdout",
          "output_type": "stream",
          "text": [
            "📊 BRACS_1361: embeddings shape torch.Size([3340, 1536]), coords shape torch.Size([3340, 2])\n",
            "🧩 BRACS_1361: total 3340 tile embeddings stacked.\n",
            "✅ Saved slide embeddings to /content/embeddings/val/BRACS_1361/BRACS_1361_embeddings.pt\n",
            "☁️ Uploaded embeddings for BRACS_1361 to gs://bracs-dataset-bucket/Embeddings/val/BRACS_1361\n",
            "\n",
            "🔽 Downloading tiles for BRACS_1362...\n",
            "Found 2643 tiles for BRACS_1362\n"
          ]
        },
        {
          "name": "stderr",
          "output_type": "stream",
          "text": [
            "🧠 Encoding BRACS_1362: 100%|██████████| 2643/2643 [01:52<00:00, 23.58it/s]\n"
          ]
        },
        {
          "name": "stdout",
          "output_type": "stream",
          "text": [
            "📊 BRACS_1362: embeddings shape torch.Size([2643, 1536]), coords shape torch.Size([2643, 2])\n",
            "🧩 BRACS_1362: total 2643 tile embeddings stacked.\n",
            "✅ Saved slide embeddings to /content/embeddings/val/BRACS_1362/BRACS_1362_embeddings.pt\n",
            "☁️ Uploaded embeddings for BRACS_1362 to gs://bracs-dataset-bucket/Embeddings/val/BRACS_1362\n",
            "\n",
            "🔽 Downloading tiles for BRACS_1366...\n",
            "Found 3024 tiles for BRACS_1366\n"
          ]
        },
        {
          "name": "stderr",
          "output_type": "stream",
          "text": [
            "🧠 Encoding BRACS_1366: 100%|██████████| 3024/3024 [02:08<00:00, 23.58it/s]\n"
          ]
        },
        {
          "name": "stdout",
          "output_type": "stream",
          "text": [
            "📊 BRACS_1366: embeddings shape torch.Size([3024, 1536]), coords shape torch.Size([3024, 2])\n",
            "🧩 BRACS_1366: total 3024 tile embeddings stacked.\n",
            "✅ Saved slide embeddings to /content/embeddings/val/BRACS_1366/BRACS_1366_embeddings.pt\n",
            "☁️ Uploaded embeddings for BRACS_1366 to gs://bracs-dataset-bucket/Embeddings/val/BRACS_1366\n",
            "\n",
            "🔽 Downloading tiles for BRACS_1367...\n",
            "Found 850 tiles for BRACS_1367\n"
          ]
        },
        {
          "name": "stderr",
          "output_type": "stream",
          "text": [
            "🧠 Encoding BRACS_1367: 100%|██████████| 850/850 [00:36<00:00, 23.57it/s]\n"
          ]
        },
        {
          "name": "stdout",
          "output_type": "stream",
          "text": [
            "📊 BRACS_1367: embeddings shape torch.Size([850, 1536]), coords shape torch.Size([850, 2])\n",
            "🧩 BRACS_1367: total 850 tile embeddings stacked.\n",
            "✅ Saved slide embeddings to /content/embeddings/val/BRACS_1367/BRACS_1367_embeddings.pt\n",
            "☁️ Uploaded embeddings for BRACS_1367 to gs://bracs-dataset-bucket/Embeddings/val/BRACS_1367\n",
            "\n",
            "🔽 Downloading tiles for BRACS_1368...\n",
            "Found 2345 tiles for BRACS_1368\n"
          ]
        },
        {
          "name": "stderr",
          "output_type": "stream",
          "text": [
            "🧠 Encoding BRACS_1368: 100%|██████████| 2345/2345 [01:39<00:00, 23.58it/s]\n"
          ]
        },
        {
          "name": "stdout",
          "output_type": "stream",
          "text": [
            "📊 BRACS_1368: embeddings shape torch.Size([2345, 1536]), coords shape torch.Size([2345, 2])\n",
            "🧩 BRACS_1368: total 2345 tile embeddings stacked.\n",
            "✅ Saved slide embeddings to /content/embeddings/val/BRACS_1368/BRACS_1368_embeddings.pt\n",
            "☁️ Uploaded embeddings for BRACS_1368 to gs://bracs-dataset-bucket/Embeddings/val/BRACS_1368\n",
            "\n",
            "🔽 Downloading tiles for BRACS_1392...\n",
            "Found 3724 tiles for BRACS_1392\n"
          ]
        },
        {
          "name": "stderr",
          "output_type": "stream",
          "text": [
            "🧠 Encoding BRACS_1392: 100%|██████████| 3724/3724 [02:37<00:00, 23.58it/s]\n"
          ]
        },
        {
          "name": "stdout",
          "output_type": "stream",
          "text": [
            "📊 BRACS_1392: embeddings shape torch.Size([3724, 1536]), coords shape torch.Size([3724, 2])\n",
            "🧩 BRACS_1392: total 3724 tile embeddings stacked.\n",
            "✅ Saved slide embeddings to /content/embeddings/val/BRACS_1392/BRACS_1392_embeddings.pt\n",
            "☁️ Uploaded embeddings for BRACS_1392 to gs://bracs-dataset-bucket/Embeddings/val/BRACS_1392\n",
            "\n",
            "🔽 Downloading tiles for BRACS_1393...\n",
            "Found 3548 tiles for BRACS_1393\n"
          ]
        },
        {
          "name": "stderr",
          "output_type": "stream",
          "text": [
            "🧠 Encoding BRACS_1393:  40%|███▉      | 1407/3548 [00:59<01:31, 23.50it/s]"
          ]
        }
      ],
      "source": [
        "run_encoder_pipeline_from_gcs()\n"
      ]
    }
  ],
  "metadata": {
    "accelerator": "GPU",
    "colab": {
      "gpuType": "A100",
      "machine_shape": "hm",
      "provenance": []
    },
    "kernelspec": {
      "display_name": "Python 3",
      "name": "python3"
    },
    "language_info": {
      "name": "python"
    }
  },
  "nbformat": 4,
  "nbformat_minor": 5
}
