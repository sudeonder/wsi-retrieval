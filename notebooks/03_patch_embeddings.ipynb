{
 "cells": [
  {
   "cell_type": "code",
   "execution_count": null,
   "id": "0f25009b",
   "metadata": {
    "vscode": {
     "languageId": "plaintext"
    }
   },
   "outputs": [],
   "source": [
    "# Install GigaPath dependencies if needed\n",
    "!pip install -q timm torch torchvision\n",
    "\n",
    "# Authenticate Google Cloud (if not yet authenticated)\n",
    "# This assumes you have gsutil installed and authenticated\n",
    "# If not:\n",
    "# !pip install -q google-cloud-storage\n",
    "# !gcloud auth login\n",
    "\n",
    "# Standard imports\n",
    "import torch\n",
    "from torchvision import transforms\n",
    "from torch.utils.data import Dataset, DataLoader\n",
    "from pathlib import Path\n",
    "from tqdm import tqdm\n",
    "from PIL import Image\n",
    "import numpy as np\n",
    "import os\n",
    "import subprocess\n"
   ]
  }
 ],
 "metadata": {
  "language_info": {
   "name": "python"
  }
 },
 "nbformat": 4,
 "nbformat_minor": 5
}
